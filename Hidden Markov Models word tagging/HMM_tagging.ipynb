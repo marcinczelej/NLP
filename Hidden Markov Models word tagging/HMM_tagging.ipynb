{
 "cells": [
  {
   "cell_type": "code",
   "execution_count": 1,
   "metadata": {},
   "outputs": [],
   "source": [
    "import matplotlib.pyplot as plt\n",
    "import numpy as np\n",
    "\n",
    "from IPython.core.display import HTML\n",
    "from itertools import chain\n",
    "from collections import Counter, defaultdict\n",
    "from helpers import show_model, Dataset\n",
    "from pomegranate import State, HiddenMarkovModel, DiscreteDistribution"
   ]
  },
  {
   "cell_type": "code",
   "execution_count": 13,
   "metadata": {},
   "outputs": [],
   "source": [
    "data = Dataset(\"tags-universal.txt\", \"brown-universal.txt\", train_test_split=0.8)\n",
    "\n",
    "# how many times given tag is present\n",
    "def get_tag_count(tags_sequences):\n",
    "    tags_counter = Counter()\n",
    "    for sentence_tags in tags_sequences:\n",
    "        for tag in sentence_tags:\n",
    "            tags_counter[tag] += 1\n",
    "    return tags_counter\n",
    "\n",
    "single_tag_count = get_tag_count(data.training_set.Y)\n",
    "\n",
    "# tag -> tag transitions needed for transition prob\n",
    "def get_tags_pairs(tags_sequences):\n",
    "    dual_counter = Counter()\n",
    "    for tags in tags_sequences:\n",
    "        for i in range(len(tags[:-1])):\n",
    "            dual_counter[(tags[i], tags[i+1])] += 1\n",
    "    return dual_counter\n",
    "\n",
    "paired_tags = get_tags_pairs(data.training_set.Y)\n",
    "\n",
    "# start/end -> tag transitions needed for transition prob\n",
    "def get_start_end_tags(tags_sequences):\n",
    "    start_tags = Counter()\n",
    "    end_tags = Counter()\n",
    "    for tags in tags_sequences:\n",
    "        start_tags[tags[0]] += 1\n",
    "        end_tags[tags[len(tags)-1]] += 1\n",
    "    return start_tags, end_tags\n",
    "\n",
    "start_tags, end_tags = get_start_end_tags(data.training_set.Y)\n",
    "\n",
    "start_tags_sum = sum(start_tags.values())\n",
    "end_tags_sum = sum(end_tags.values())\n",
    "\n",
    "# tag to words mapping needed for emission propability\n",
    "def get_tags_to_words_mapping(tags_sequence, words_sequence):\n",
    "    word_tag_counter = defaultdict(Counter)\n",
    "    for i in range(len(tags_sequence)):\n",
    "        zipped_data = zip(tags_sequence[i], words_sequence[i])\n",
    "        for tag, word in zipped_data:\n",
    "            word_tag_counter[tag][word] += 1\n",
    "    return word_tag_counter\n",
    "\n",
    "emission_counts = get_tags_to_words_mapping(data.training_set.Y, data.training_set.X)"
   ]
  },
  {
   "cell_type": "code",
   "execution_count": 14,
   "metadata": {},
   "outputs": [],
   "source": [
    "model = HiddenMarkovModel(name=\"hmm-tagger\")\n",
    "# adding emission propabilities ( from states to words ) and start -> tag / tag -> end\n",
    "\n",
    "state_holder = {}\n",
    "\n",
    "for tag in emission_counts:\n",
    "    tag_sum = sum(emission_counts[tag].values())\n",
    "    tag_emission_prob = {}\n",
    "    for word in emission_counts[tag]:\n",
    "        tag_emission_prob[word] = emission_counts[tag][word]/tag_sum\n",
    "    tag_distr = DiscreteDistribution(tag_emission_prob)\n",
    "    tag_state = State(tag_distr, name = tag)\n",
    "    state_holder[tag] = tag_state\n",
    "    model.add_states(tag_state)\n",
    "    \n",
    "    transition_prob = start_tags[tag]/start_tags_sum\n",
    "    model.add_transition(model.start, tag_state, transition_prob)\n",
    "    \n",
    "    transition_prob = end_tags[tag]/end_tags_sum\n",
    "    model.add_transition(tag_state, model.end, transition_prob)\n",
    "    \n",
    "# adding transition propability ( between states )\n",
    "for _, tag_pair in enumerate(paired_tags):\n",
    "    transition_prob = paired_tags[tag_pair]/single_tag_count[tag_pair[0]]\n",
    "    model.add_transition(state_holder[tag_pair[0]], state_holder[tag_pair[1]], transition_prob)\n",
    "\n",
    "model.bake()"
   ]
  },
  {
   "cell_type": "code",
   "execution_count": 17,
   "metadata": {},
   "outputs": [],
   "source": [
    "def replace_unknown(sequence):\n",
    "    \"\"\"Return a copy of the input sequence where each unknown word is replaced\n",
    "    by the literal string value 'nan'. Pomegranate will ignore these values\n",
    "    during computation.\n",
    "    \"\"\"\n",
    "    return [w if w in data.training_set.vocab else 'nan' for w in sequence]\n",
    "\n",
    "def simplify_decoding(X, model):\n",
    "    _, state_path = model.viterbi(replace_unknown(X))\n",
    "    return [state[1].name for state in state_path[1:-1]]  # do not show the start/end state predictions\n",
    "\n",
    "def accuracy(X, Y, model):\n",
    "    correct = total_predictions = 0\n",
    "    for observations, actual_tags in zip(X, Y):\n",
    "        try:\n",
    "            most_likely_tags = simplify_decoding(observations, model)\n",
    "            correct += sum(p == t for p, t in zip(most_likely_tags, actual_tags))\n",
    "        except Exception as  e:\n",
    "            print(\"except \", e)\n",
    "            pass\n",
    "        total_predictions += len(observations)\n",
    "    return correct / total_predictions"
   ]
  },
  {
   "cell_type": "code",
   "execution_count": 18,
   "metadata": {},
   "outputs": [
    {
     "name": "stdout",
     "output_type": "stream",
     "text": [
      "training accuracy basic hmm model: 97.54%\n",
      "testing accuracy basic hmm model: 95.96%\n"
     ]
    }
   ],
   "source": [
    "hmm_training_acc = accuracy(data.training_set.X, data.training_set.Y, model)\n",
    "print(\"training accuracy basic hmm model: {:.2f}%\".format(100 * hmm_training_acc))\n",
    "\n",
    "hmm_testing_acc = accuracy(data.testing_set.X, data.testing_set.Y, model)\n",
    "print(\"testing accuracy basic hmm model: {:.2f}%\".format(100 * hmm_testing_acc))"
   ]
  },
  {
   "cell_type": "code",
   "execution_count": null,
   "metadata": {},
   "outputs": [],
   "source": []
  }
 ],
 "metadata": {
  "kernelspec": {
   "display_name": "Python 3",
   "language": "python",
   "name": "python3"
  },
  "language_info": {
   "codemirror_mode": {
    "name": "ipython",
    "version": 3
   },
   "file_extension": ".py",
   "mimetype": "text/x-python",
   "name": "python",
   "nbconvert_exporter": "python",
   "pygments_lexer": "ipython3",
   "version": "3.7.3"
  }
 },
 "nbformat": 4,
 "nbformat_minor": 2
}
