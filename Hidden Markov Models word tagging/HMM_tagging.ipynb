{
 "cells": [
  {
   "cell_type": "code",
   "execution_count": 4,
   "metadata": {},
   "outputs": [],
   "source": [
    "import matplotlib.pyplot as plt\n",
    "import numpy as np\n",
    "\n",
    "from IPython.core.display import HTML\n",
    "from itertools import chain\n",
    "from collections import Counter, defaultdict\n",
    "from helpers import show_model, Dataset\n",
    "from pomegranate import State, HiddenMarkovModel, DiscreteDistribution"
   ]
  },
  {
   "cell_type": "code",
   "execution_count": 27,
   "metadata": {},
   "outputs": [],
   "source": [
    "model = HiddenMarkovModel(name=\"tagger\")\n",
    "data = Dataset(\"tags-universal.txt\", \"brown-universal.txt\", train_test_split=0.8)\n",
    "\n",
    "# tag -> tag transitions needed for transition prob\n",
    "def get_tags_pairs(tags_sequences):\n",
    "    dual_counter = Counter()\n",
    "    for tags in tags_sequences:\n",
    "        for i in range(len(tags[:-1])):\n",
    "            dual_counter[(tags[i], tags[i+1])] += 1\n",
    "    return dual_counter\n",
    "\n",
    "paired_tags = get_tags_pairs(data.training_set.Y)\n",
    "\n",
    "# start/end -> tag transitions needed for transition prob\n",
    "def get_start_end_tags(tags_sequences):\n",
    "    start_tags = Counter()\n",
    "    end_tags = Counter()\n",
    "    for tags in tags_sequences:\n",
    "        start_tags[tags[0]] += 1\n",
    "        end_tags[tags[len(tags)-1]] += 1\n",
    "    return start_tags, end_tags\n",
    "\n",
    "start_tag, end_tag = get_start_end_tags(data.training_set.Y)\n",
    "\n",
    "# tag to words mapping needed for emission propability\n",
    "def get_tags_to_words_mapping(tags_sequence, words_sequence):\n",
    "    word_tag_counter = defaultdict(Counter)\n",
    "    for i in range(len(tags_sequence)):\n",
    "        zipped_data = zip(tags_sequence[i], words_sequence[i])\n",
    "        for tag, word in zipped_data:\n",
    "            word_tag_counter[tag][word] += 1\n",
    "    return word_tag_counter\n",
    "\n",
    "emission_counts = get_tags_to_words_mapping(data.training_set.Y, data.training_set.X)"
   ]
  },
  {
   "cell_type": "code",
   "execution_count": 28,
   "metadata": {},
   "outputs": [],
   "source": [
    "# adding emission propabilities ( from states to words )\n",
    "\n",
    "\n",
    "model.add_states()\n",
    "\n",
    "# adding transition propability ( between states )"
   ]
  },
  {
   "cell_type": "code",
   "execution_count": null,
   "metadata": {},
   "outputs": [],
   "source": []
  }
 ],
 "metadata": {
  "kernelspec": {
   "display_name": "Python 3",
   "language": "python",
   "name": "python3"
  },
  "language_info": {
   "codemirror_mode": {
    "name": "ipython",
    "version": 3
   },
   "file_extension": ".py",
   "mimetype": "text/x-python",
   "name": "python",
   "nbconvert_exporter": "python",
   "pygments_lexer": "ipython3",
   "version": "3.7.3"
  }
 },
 "nbformat": 4,
 "nbformat_minor": 2
}
