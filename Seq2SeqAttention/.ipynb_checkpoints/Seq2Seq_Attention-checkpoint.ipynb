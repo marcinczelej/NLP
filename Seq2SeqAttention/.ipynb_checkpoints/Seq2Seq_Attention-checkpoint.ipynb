{
 "cells": [
  {
   "cell_type": "code",
   "execution_count": 1,
   "metadata": {},
   "outputs": [
    {
     "name": "stdout",
     "output_type": "stream",
     "text": [
      "Requirement already satisfied: progressbar in /usr/local/lib/python3.6/dist-packages (2.5)\n",
      "\u001b[33mWARNING: You are using pip version 19.2.2, however version 19.3.1 is available.\n",
      "You should consider upgrading via the 'pip install --upgrade pip' command.\u001b[0m\n"
     ]
    }
   ],
   "source": [
    "!pip install progressbar"
   ]
  },
  {
   "cell_type": "code",
   "execution_count": 2,
   "metadata": {},
   "outputs": [],
   "source": [
    "LSTM_SIZE = 512\n",
    "EMBEDDING_SIZE = 250\n",
    "BATCH_SIZE= 32\n",
    "EPOCHS = 600"
   ]
  },
  {
   "cell_type": "code",
   "execution_count": 3,
   "metadata": {},
   "outputs": [
    {
     "data": {
      "text/plain": [
       "'2.0.0'"
      ]
     },
     "execution_count": 3,
     "metadata": {},
     "output_type": "execute_result"
    }
   ],
   "source": [
    "import os\n",
    "import re\n",
    "import unicodedata\n",
    "import progressbar\n",
    "import numpy as np\n",
    "import tensorflow as tf\n",
    "\n",
    "from sklearn.model_selection import train_test_split\n",
    "\n",
    "from tensorflow.keras.preprocessing.text import Tokenizer\n",
    "from tensorflow.keras.preprocessing.sequence import pad_sequences\n",
    "\n",
    "os.environ['TF_CPP_MIN_LOG_LEVEL'] = '3' \n",
    "tf.__version__"
   ]
  },
  {
   "cell_type": "code",
   "execution_count": 4,
   "metadata": {},
   "outputs": [],
   "source": [
    "def unicode_to_ascii(s):\n",
    "    return ''.join(\n",
    "        c for c in unicodedata.normalize('NFD', s)\n",
    "        if unicodedata.category(c) != 'Mn')\n",
    "\n",
    "def normalize(s):\n",
    "    s = unicode_to_ascii(s)\n",
    "    s = re.sub(r'([!.?])', r' \\1', s)\n",
    "    s = re.sub(r'[^a-zA-Z.!?-]+', r' ', s)\n",
    "    s = re.sub(r'\\s+', r' ', s)\n",
    "    return s\n",
    "\n",
    "def read_data(data_dir, file_name):\n",
    "    full_path = os.path.join(data_dir, file_name)\n",
    "\n",
    "    with open(full_path) as file:\n",
    "      lines = file.readlines()\n",
    "    \n",
    "    data = []\n",
    "    \n",
    "    for line in lines:\n",
    "        data.append(line.split(\"\\t\")[:-1])\n",
    "    \n",
    "    return data\n",
    "\n",
    "def preprocessSeq(texts, tokenizer):\n",
    "  texts = tokenizer.texts_to_sequences(texts)\n",
    "\n",
    "  return pad_sequences(texts, padding='post')\n",
    "\n",
    "def tokenizeData(fr_train_in, fr_train_out, fr_test, en_train, en_test):\n",
    "  fr_tokenizer = Tokenizer(filters='')\n",
    "\n",
    "  fr_tokenizer.fit_on_texts(fr_train_in)\n",
    "  fr_tokenizer.fit_on_texts(fr_train_out)\n",
    "  fr_tokenizer.fit_on_texts(fr_test)\n",
    "\n",
    "  fr_train_in = preprocessSeq(fr_train_in, fr_tokenizer)\n",
    "  fr_train_out = preprocessSeq(fr_train_out, fr_tokenizer)\n",
    "  fr_test = preprocessSeq(fr_test, fr_tokenizer)\n",
    "\n",
    "  en_tokenizer = Tokenizer(filters='')\n",
    "\n",
    "  en_tokenizer.fit_on_texts(en_train)\n",
    "  en_tokenizer.fit_on_texts(en_test)\n",
    "\n",
    "  en_train = preprocessSeq(en_train, en_tokenizer)\n",
    "  en_test = preprocessSeq(en_test, en_tokenizer)\n",
    "\n",
    "  return (fr_tokenizer, en_tokenizer), (fr_train_in, fr_train_out, fr_test), (en_train, en_test)"
   ]
  },
  {
   "cell_type": "code",
   "execution_count": 5,
   "metadata": {},
   "outputs": [
    {
     "name": "stdout",
     "output_type": "stream",
     "text": [
      " en_lines len 170651 \n",
      " fr_lines len 170651 \n",
      " en_train len 153585 \n",
      " en_test len 17066 \n",
      " fr_train len 153585 \n",
      " fr_test len 17066 \n"
     ]
    }
   ],
   "source": [
    "data = read_data(\"data/fra-eng\", \"fra.txt\")\n",
    "en_lines, fr_lines = zip(*data)\n",
    "\n",
    "en_lines = [normalize(line) for line in en_lines]\n",
    "fr_lines = [normalize(line) for line in fr_lines]\n",
    "\n",
    "en_train, en_test, fr_train, fr_test = train_test_split(en_lines, fr_lines, shuffle=True, test_size=0.1)\n",
    "\n",
    "print(\" en_lines len {} \\n fr_lines len {} \\n en_train len {} \\n en_test len {} \\n fr_train len {} \\n fr_test len {} \" \\\n",
    "      .format(len(en_lines), len(fr_lines), len(en_train), len(en_test), len(fr_train), len(fr_test)))\n",
    "\n",
    "fr_train_in = ['<start> ' + line for line in fr_train]\n",
    "fr_train_out = [line + ' <end>' for line in fr_train]"
   ]
  },
  {
   "cell_type": "code",
   "execution_count": null,
   "metadata": {},
   "outputs": [],
   "source": []
  },
  {
   "cell_type": "code",
   "execution_count": 6,
   "metadata": {},
   "outputs": [
    {
     "name": "stdout",
     "output_type": "stream",
     "text": [
      "en_vocab 14086\n",
      "fr_vocab 24855\n"
     ]
    }
   ],
   "source": [
    "tokenizers, fr_data, en_data = tokenizeData(fr_train_in, fr_train_out, fr_test, en_train, en_test)\n",
    "\n",
    "fr_tokenizer, en_tokenizer = tokenizers\n",
    "fr_train_in, fr_train_out, fr_test_tokenized = fr_data\n",
    "en_train, en_test = en_data\n",
    "\n",
    "en_vocab = len(en_tokenizer.word_index)+1\n",
    "fr_vocab = len(fr_tokenizer.word_index)+1\n",
    "print(\"en_vocab {}\\nfr_vocab {}\" .format(en_vocab, fr_vocab))"
   ]
  },
  {
   "cell_type": "code",
   "execution_count": null,
   "metadata": {},
   "outputs": [],
   "source": []
  },
  {
   "cell_type": "code",
   "execution_count": 7,
   "metadata": {},
   "outputs": [],
   "source": [
    "\"\"\"\n",
    "class that implements LuangAttention\n",
    "  - uses current decoder output as input to calculate alligment vector\n",
    "  - Bahdau uses last timestep decoder output to calculate alligment vector\n",
    "  - score = h_t_trans*W_a*h_s\n",
    "  - h_t - decoder hideden_state\n",
    "  - h_s - encoder_output\n",
    "  - context_vector = softmax(score)\n",
    "\"\"\"\n",
    "class LuangAttention(tf.keras.Model):\n",
    "  def __init__(self, lstm_size):\n",
    "    super(LuangAttention, self).__init__()\n",
    "\n",
    "    self.W_a = tf.keras.layers.Dense(lstm_size, name=\"LuangAttention_W_a\")\n",
    "  \n",
    "  def call(self, decoder_output, encoder_output):\n",
    "    # encoder_output shape [batch_size, seq_max_len, hidden_units_of_encoder]\n",
    "    # decoder_output shape [batch_size, 1, hidden_units of decoder]\n",
    "    # score shape [batch_size, 1, seq_max_len]\n",
    "    score = tf.matmul(decoder_output, self.W_a(encoder_output), transpose_b=True)\n",
    "    alignment_vector = tf.nn.softmax(score, axis=2)\n",
    "    context_vector = tf.matmul(alignment_vector, encoder_output)\n",
    "\n",
    "    return context_vector, alignment_vector\n",
    "\n",
    "class Encoder(tf.keras.Model):\n",
    "  def __init__(self, lstm_units, embedding_size, vocab_size):\n",
    "    super(Encoder, self).__init__()\n",
    "\n",
    "    self.units = lstm_units\n",
    "    self.embedding = tf.keras.layers.Embedding(vocab_size, embedding_size, name=\"Encoder_embedding\")\n",
    "    self.lstm_layer = tf.keras.layers.LSTM(units=lstm_units, dropout=0.2, return_sequences=True, return_state=True, name=\"Encoder_LSTM\")\n",
    "\n",
    "  def call(self, input_seq, initial_state):\n",
    "    # input_seq =shape [batch_size, seq_max_len]\n",
    "    # initial_state shape [batch_size, lstm_hidden_state_size]\n",
    "\n",
    "    # embedding shape [batch_size, seq_max_len, embedding_size]\n",
    "    embedded_input = self.embedding(input_seq)\n",
    "    #encoder output shape [batch_size, seq_max_len, lstm_size]\n",
    "    # state_h, state_c shape 2*[batch_size, lstm_size]\n",
    "    encoder_out, state_h, state_c = self.lstm_layer(inputs=embedded_input, initial_state=initial_state)\n",
    "\n",
    "    return encoder_out, state_h, state_c\n",
    "  \n",
    "  def init_states(self, batch_size):\n",
    "    return (tf.zeros([batch_size, self.units]),\n",
    "            tf.zeros([batch_size, self.units]))\n",
    "\n",
    "class Decoder(tf.keras.Model):\n",
    "  def __init__(self, lstm_units, embedding_size, vocab_size):\n",
    "    super(Decoder, self).__init__()\n",
    "\n",
    "    self.units = lstm_units\n",
    "    self.embedding_layer = tf.keras.layers.Embedding(vocab_size, embedding_size, name=\"Decoder_embedding\")\n",
    "    self.lstm_layer = tf.keras.layers.LSTM(lstm_units, dropout=0.2, return_sequences=True, return_state=True, name=\"Decoder_lstm\")\n",
    "    self.dense_layer = tf.keras.layers.Dense(vocab_size)\n",
    "    self.attention = LuangAttention(lstm_units)\n",
    "\n",
    "    self.W_c = tf.keras.layers.Dense(lstm_units, activation=\"tanh\", name=\"Attention_W_c\")\n",
    "    self.W_s = tf.keras.layers.Dense(vocab_size, activation=\"softmax\", name=\"Attenton_W_s\")\n",
    "\n",
    "  def call(self, decoder_input, hidden_states, encoder_output):\n",
    "    # decoder_input shape [batch_size, 1]\n",
    "    # hidden_states shape 2*[batch_size, lstm_size]\n",
    "    # encoder_output shape [batch_size, seq_max_len, lstm_size]\n",
    "    embedded_input = self.embedding_layer(decoder_input)\n",
    "    # embedded_input shape [batch_size, 1, embedding_size]\n",
    "    # lstm_out shape [batch_size, 1, lstm_size]\n",
    "    # state_h, state_c shape 2*[batch_szie, lstm_size]\n",
    "    lstm_out, state_h, state_c = self.lstm_layer(embedded_input, hidden_states)\n",
    "\n",
    "    # context shape [batch_size, 1 lstm_size]\n",
    "    # alignment shape [batch_size, 1, source_len]\n",
    "    context, alignment = self.attention(lstm_out, encoder_output)\n",
    "\n",
    "    # lstm_out shape [batch_size, lstm_size + lstm_size]\n",
    "    lstm_out = tf.concat([tf.squeeze(context, axis=1), tf.squeeze(lstm_out, axis=1)], axis=1, name=\"Decoder_concat\")\n",
    "\n",
    "    # output_vector shape [batch_size, lstm_units]\n",
    "    output_vector = self.W_c(lstm_out)\n",
    "\n",
    "    # conversion to vocabulaty prob\n",
    "    # output_vector shape [batch_size, vocab_size]\n",
    "    output_vector = self.W_s(output_vector)\n",
    "    return output_vector, state_h, state_c"
   ]
  },
  {
   "cell_type": "code",
   "execution_count": 8,
   "metadata": {},
   "outputs": [
    {
     "data": {
      "text/plain": [
       "'\\ntrain_dataset = tf.data.Dataset.from_tensor_slices((en_train, fr_train_in, fr_train_out))\\ntrain_dataset = train_dataset.shuffle(len(en_train), reshuffle_each_iteration=True).batch(BATCH_SIZE, drop_remainder=True)\\n\\ntest_dataset = tf.data.Dataset.from_tensor_slices((en_test, fr_test, fr_test_tokenized))\\ntest_dataset = test_dataset.shuffle(len(en_test), reshuffle_each_iteration=True).batch(BATCH_SIZE, drop_remainder=True)\\n'"
      ]
     },
     "execution_count": 8,
     "metadata": {},
     "output_type": "execute_result"
    }
   ],
   "source": [
    "\"\"\"\n",
    "train_dataset = tf.data.Dataset.from_tensor_slices((en_train, fr_train_in, fr_train_out))\n",
    "train_dataset = train_dataset.shuffle(len(en_train), reshuffle_each_iteration=True).batch(BATCH_SIZE, drop_remainder=True)\n",
    "\n",
    "test_dataset = tf.data.Dataset.from_tensor_slices((en_test, fr_test, fr_test_tokenized))\n",
    "test_dataset = test_dataset.shuffle(len(en_test), reshuffle_each_iteration=True).batch(BATCH_SIZE, drop_remainder=True)\n",
    "\"\"\""
   ]
  },
  {
   "cell_type": "code",
   "execution_count": 9,
   "metadata": {},
   "outputs": [
    {
     "data": {
      "text/plain": [
       "'\\nvocab_size = len(en_tokenizer.word_index)+1\\nfr_vocab_size = len(fr_tokenizer.word_index)+1\\n\\n# lost function with zeros masked\\ndef loss_fn(real, targets):\\n  loss = tf.keras.losses.SparseCategoricalCrossentropy(from_logits=True) # output is softmax result\\n  mask = tf.math.logical_not(tf.math.equal(targets, 0))\\n  mask = tf.cast(mask, tf.int64)\\n  \\n  return loss(targets, real, sample_weight=mask)\\n\\ntest_loss = tf.keras.metrics.Mean()\\ntraining_loss = tf.keras.metrics.Mean()\\noptim = tf.keras.optimizers.Adam(clipnorm=5.0)\\n\\nencoder = Encoder(LSTM_SIZE, EMBEDDING_SIZE, en_vocab)\\ndecoder = Decoder(LSTM_SIZE, EMBEDDING_SIZE, fr_vocab)\\n'"
      ]
     },
     "execution_count": 9,
     "metadata": {},
     "output_type": "execute_result"
    }
   ],
   "source": [
    "\"\"\"\n",
    "vocab_size = len(en_tokenizer.word_index)+1\n",
    "fr_vocab_size = len(fr_tokenizer.word_index)+1\n",
    "\n",
    "# lost function with zeros masked\n",
    "def loss_fn(real, targets):\n",
    "  loss = tf.keras.losses.SparseCategoricalCrossentropy(from_logits=True) # output is softmax result\n",
    "  mask = tf.math.logical_not(tf.math.equal(targets, 0))\n",
    "  mask = tf.cast(mask, tf.int64)\n",
    "  \n",
    "  return loss(targets, real, sample_weight=mask)\n",
    "\n",
    "test_loss = tf.keras.metrics.Mean()\n",
    "training_loss = tf.keras.metrics.Mean()\n",
    "optim = tf.keras.optimizers.Adam(clipnorm=5.0)\n",
    "\n",
    "encoder = Encoder(LSTM_SIZE, EMBEDDING_SIZE, en_vocab)\n",
    "decoder = Decoder(LSTM_SIZE, EMBEDDING_SIZE, fr_vocab)\n",
    "\"\"\""
   ]
  },
  {
   "cell_type": "code",
   "execution_count": 10,
   "metadata": {},
   "outputs": [
    {
     "data": {
      "text/plain": [
       "\"\\n@tf.function\\ndef test_step(en_seq, fr_seq_tokenized):\\n    loss =0\\n    initial_states = encoder.init_states(BATCH_SIZE)\\n    encoder_out, state_h, state_c = encoder(en_seq, initial_states, training=False)\\n\\n    decoder_in = tf.constant(fr_tokenizer.word_index['<start>'], shape=(BATCH_SIZE, 1))\\n\\n    for i in range(fr_seq_tokenized.shape[1]):\\n        decoder_out, state_h, state_c = decoder(decoder_in, (state_h, state_c), encoder_out, training=False)\\n        loss +=loss_fn(decoder_out, fr_test_tokenized[:,i])\\n\\n    return loss/fr_seq_tokenized.shape[1]\\n\""
      ]
     },
     "execution_count": 10,
     "metadata": {},
     "output_type": "execute_result"
    }
   ],
   "source": [
    "\"\"\"\n",
    "@tf.function\n",
    "def test_step(en_seq, fr_seq_tokenized):\n",
    "    loss =0\n",
    "    initial_states = encoder.init_states(BATCH_SIZE)\n",
    "    encoder_out, state_h, state_c = encoder(en_seq, initial_states, training=False)\n",
    "\n",
    "    decoder_in = tf.constant(fr_tokenizer.word_index['<start>'], shape=(BATCH_SIZE, 1))\n",
    "\n",
    "    for i in range(fr_seq_tokenized.shape[1]):\n",
    "        decoder_out, state_h, state_c = decoder(decoder_in, (state_h, state_c), encoder_out, training=False)\n",
    "        loss +=loss_fn(decoder_out, fr_test_tokenized[:,i])\n",
    "\n",
    "    return loss/fr_seq_tokenized.shape[1]\n",
    "\"\"\""
   ]
  },
  {
   "cell_type": "code",
   "execution_count": 11,
   "metadata": {},
   "outputs": [
    {
     "data": {
      "text/plain": [
       "'\\n@tf.function\\ndef train_step(en_data, fr_data_in, fr_data_out, initial_states):\\n  loss = 0\\n  with tf.GradientTape() as tape:\\n    encoder_output, state_h, state_c = encoder(en_data, initial_states)\\n    # shape[1] because we want each word for all batches\\n    tf.print(\"aaaa\")\\n    for i in range(fr_data_out.shape[1]):\\n      decoder_input = tf.expand_dims(fr_data_in[:,i], 1)\\n      de_output, state_h, state_c = decoder(decoder_input, (state_h, state_c), encoder_output)\\n      loss +=loss_fn(de_output, fr_data_out[:,i])\\n    \\n  trainable_vars = encoder.trainable_variables + decoder.trainable_variables\\n  grads = tape.gradient(loss, trainable_vars)\\n  optim.apply_gradients(zip(grads, trainable_vars))\\n\\n  return loss / fr_data_out.shape[1]\\n'"
      ]
     },
     "execution_count": 11,
     "metadata": {},
     "output_type": "execute_result"
    }
   ],
   "source": [
    "# en_data - english sentences to be translated [batch_size, en_max_len]\n",
    "# fr_data_in - input data to be sent ot decoder [batch_size, fr_max_len]\n",
    "# fr_data_out - franch data to be taken while calculation loss\n",
    "# initial_states - initial states of encoder\n",
    "#\n",
    "# because attention is per word not per seq we have to decode every word separated\n",
    "\"\"\"\n",
    "@tf.function\n",
    "def train_step(en_data, fr_data_in, fr_data_out, initial_states):\n",
    "  loss = 0\n",
    "  with tf.GradientTape() as tape:\n",
    "    encoder_output, state_h, state_c = encoder(en_data, initial_states)\n",
    "    # shape[1] because we want each word for all batches\n",
    "    tf.print(\"aaaa\")\n",
    "    for i in range(fr_data_out.shape[1]):\n",
    "      decoder_input = tf.expand_dims(fr_data_in[:,i], 1)\n",
    "      de_output, state_h, state_c = decoder(decoder_input, (state_h, state_c), encoder_output)\n",
    "      loss +=loss_fn(de_output, fr_data_out[:,i])\n",
    "    \n",
    "  trainable_vars = encoder.trainable_variables + decoder.trainable_variables\n",
    "  grads = tape.gradient(loss, trainable_vars)\n",
    "  optim.apply_gradients(zip(grads, trainable_vars))\n",
    "\n",
    "  return loss / fr_data_out.shape[1]\n",
    "\"\"\""
   ]
  },
  {
   "cell_type": "code",
   "execution_count": 12,
   "metadata": {
    "scrolled": false
   },
   "outputs": [
    {
     "data": {
      "text/plain": [
       "'\\nprint(\"batches each epoch : \", len(en_train)/BATCH_SIZE)\\nprint(\" batches per epoch: \", len(fr_train_in)//BATCH_SIZE)\\ntrain_steps = len(en_train)//BATCH_SIZE\\ntest_steps = len(en_test)//BATCH_SIZE\\nfor epoch in range(EPOCHS):\\n    train_bar = progressbar.ProgressBar(maxval=train_steps,             widgets=[progressbar.Bar(\\'=\\', \\'[\\', \\']\\'), \\' \\', progressbar.Percentage(), \\' \\', progressbar.Counter(), \\' \\', progressbar.AdaptiveETA()])\\n    test_bar = progressbar.ProgressBar(maxval=test_steps,             widgets=[progressbar.Bar(\\'=\\', \\'[\\', \\']\\'), \\' \\', progressbar.Percentage(), \\' \\', progressbar.Counter(), \\' \\', progressbar.AdaptiveETA()])\\n    train_bar.start()\\n    test_bar.start()\\n    test_loss.reset_states()\\n    training_loss.reset_states()\\n    initial_states = encoder.init_states(BATCH_SIZE)\\n\\n    for batch, (en_data, fr_data_in, fr_data_out) in enumerate(train_dataset.take(-1)):\\n        loss = train_step(en_data, fr_data_in, fr_data_out, initial_states)\\n        training_loss.update_state(loss)\\n        train_bar.update(batch+1)\\n\\n    print(\"    test_part\")\\n    for batch, (en_data, fr_data, fr_data_tokenized) in enumerate(test_dataset.take(-1)):\\n        loss = test_step(en_data, fr_data_tokenized)\\n        test_loss.update_state(loss)\\n        test_bar.update(batch+1)\\n\\n    print(\"Epoch {} : train loss {}\" .format(epoch, training_loss.result().numpy()))\\n'"
      ]
     },
     "execution_count": 12,
     "metadata": {},
     "output_type": "execute_result"
    }
   ],
   "source": [
    "\"\"\"\n",
    "print(\"batches each epoch : \", len(en_train)/BATCH_SIZE)\n",
    "print(\" batches per epoch: \", len(fr_train_in)//BATCH_SIZE)\n",
    "train_steps = len(en_train)//BATCH_SIZE\n",
    "test_steps = len(en_test)//BATCH_SIZE\n",
    "for epoch in range(EPOCHS):\n",
    "    train_bar = progressbar.ProgressBar(maxval=train_steps, \\\n",
    "            widgets=[progressbar.Bar('=', '[', ']'), ' ', progressbar.Percentage(), ' ', progressbar.Counter(), ' ', progressbar.AdaptiveETA()])\n",
    "    test_bar = progressbar.ProgressBar(maxval=test_steps, \\\n",
    "            widgets=[progressbar.Bar('=', '[', ']'), ' ', progressbar.Percentage(), ' ', progressbar.Counter(), ' ', progressbar.AdaptiveETA()])\n",
    "    train_bar.start()\n",
    "    test_bar.start()\n",
    "    test_loss.reset_states()\n",
    "    training_loss.reset_states()\n",
    "    initial_states = encoder.init_states(BATCH_SIZE)\n",
    "\n",
    "    for batch, (en_data, fr_data_in, fr_data_out) in enumerate(train_dataset.take(-1)):\n",
    "        loss = train_step(en_data, fr_data_in, fr_data_out, initial_states)\n",
    "        training_loss.update_state(loss)\n",
    "        train_bar.update(batch+1)\n",
    "\n",
    "    print(\"    test_part\")\n",
    "    for batch, (en_data, fr_data, fr_data_tokenized) in enumerate(test_dataset.take(-1)):\n",
    "        loss = test_step(en_data, fr_data_tokenized)\n",
    "        test_loss.update_state(loss)\n",
    "        test_bar.update(batch+1)\n",
    "\n",
    "    print(\"Epoch {} : train loss {}\" .format(epoch, training_loss.result().numpy()))\n",
    "\"\"\""
   ]
  },
  {
   "cell_type": "code",
   "execution_count": 13,
   "metadata": {},
   "outputs": [
    {
     "name": "stdout",
     "output_type": "stream",
     "text": [
      "Number of devices: 4\n",
      "GLOBAL_BATCH_SIZE : 128\n",
      "train batches each epoch :  1199\n",
      "test batches each epoch :  133\n"
     ]
    }
   ],
   "source": [
    "strategy = tf.distribute.MirroredStrategy()\n",
    "GLOBAL_BATCH_SIZE = BATCH_SIZE*strategy.num_replicas_in_sync\n",
    "train_steps = len(en_train)//GLOBAL_BATCH_SIZE\n",
    "test_steps = len(en_test)//GLOBAL_BATCH_SIZE\n",
    "print('Number of devices: {}'.format(strategy.num_replicas_in_sync))\n",
    "print(\"GLOBAL_BATCH_SIZE : {}\" .format(GLOBAL_BATCH_SIZE))\n",
    "print(\"train batches each epoch : \", train_steps)\n",
    "print(\"test batches each epoch : \", test_steps)"
   ]
  },
  {
   "cell_type": "code",
   "execution_count": 15,
   "metadata": {
    "scrolled": false
   },
   "outputs": [
    {
     "name": "stdout",
     "output_type": "stream",
     "text": [
      "Epoch :  0\n"
     ]
    },
    {
     "name": "stderr",
     "output_type": "stream",
     "text": [
      "[                              ] Train   0% Elapsed Time: 0:00:03 ETA:  1:06:35\r"
     ]
    },
    {
     "name": "stdout",
     "output_type": "stream",
     "text": [
      "INFO:tensorflow:batch_all_reduce: 12 all-reduces with algorithm = nccl, num_packs = 1, agg_small_grads_max_bytes = 0 and agg_small_grads_max_group = 10\n",
      "WARNING:tensorflow:Efficient allreduce is not supported for 2 IndexedSlices\n",
      "INFO:tensorflow:Reduce to /job:localhost/replica:0/task:0/device:GPU:0 then broadcast to ('/job:localhost/replica:0/task:0/device:GPU:0', '/job:localhost/replica:0/task:0/device:GPU:1', '/job:localhost/replica:0/task:0/device:GPU:2', '/job:localhost/replica:0/task:0/device:GPU:3').\n",
      "INFO:tensorflow:Reduce to /job:localhost/replica:0/task:0/device:GPU:0 then broadcast to ('/job:localhost/replica:0/task:0/device:GPU:0', '/job:localhost/replica:0/task:0/device:GPU:1', '/job:localhost/replica:0/task:0/device:GPU:2', '/job:localhost/replica:0/task:0/device:GPU:3').\n",
      "INFO:tensorflow:Reduce to /job:localhost/replica:0/task:0/device:CPU:0 then broadcast to ('/job:localhost/replica:0/task:0/device:CPU:0',).\n",
      "INFO:tensorflow:batch_all_reduce: 12 all-reduces with algorithm = nccl, num_packs = 1, agg_small_grads_max_bytes = 0 and agg_small_grads_max_group = 10\n",
      "WARNING:tensorflow:Efficient allreduce is not supported for 2 IndexedSlices\n",
      "INFO:tensorflow:Reduce to /job:localhost/replica:0/task:0/device:GPU:0 then broadcast to ('/job:localhost/replica:0/task:0/device:GPU:0', '/job:localhost/replica:0/task:0/device:GPU:1', '/job:localhost/replica:0/task:0/device:GPU:2', '/job:localhost/replica:0/task:0/device:GPU:3').\n",
      "INFO:tensorflow:Reduce to /job:localhost/replica:0/task:0/device:GPU:0 then broadcast to ('/job:localhost/replica:0/task:0/device:GPU:0', '/job:localhost/replica:0/task:0/device:GPU:1', '/job:localhost/replica:0/task:0/device:GPU:2', '/job:localhost/replica:0/task:0/device:GPU:3').\n",
      "INFO:tensorflow:Reduce to /job:localhost/replica:0/task:0/device:CPU:0 then broadcast to ('/job:localhost/replica:0/task:0/device:CPU:0',).\n"
     ]
    },
    {
     "name": "stderr",
     "output_type": "stream",
     "text": [
      "[==============================] Train 100% Elapsed Time: 0:10:45 Time: 0:10:45\n",
      "[                             ] Test    0% Elapsed Time: 0:10:45 ETA:  23:40:16\r"
     ]
    },
    {
     "name": "stdout",
     "output_type": "stream",
     "text": [
      "INFO:tensorflow:Reduce to /job:localhost/replica:0/task:0/device:CPU:0 then broadcast to ('/job:localhost/replica:0/task:0/device:CPU:0',).\n"
     ]
    },
    {
     "name": "stderr",
     "output_type": "stream",
     "text": [
      "[==============================] Test  100% Elapsed Time: 0:12:13 Time: 0:12:13\n"
     ]
    },
    {
     "name": "stdout",
     "output_type": "stream",
     "text": [
      "Epoch 0 : train loss 1.4532579183578491 test loss : 1.5524513721466064\n",
      "Epoch :  1\n"
     ]
    },
    {
     "name": "stderr",
     "output_type": "stream",
     "text": [
      "[==============================] Test  100% Elapsed Time: 0:04:25 Time: 0:04:25\r"
     ]
    },
    {
     "name": "stdout",
     "output_type": "stream",
     "text": [
      "Epoch 1 : train loss 1.4526557922363281 test loss : 1.5521196126937866\n",
      "Epoch :  2\n"
     ]
    },
    {
     "name": "stderr",
     "output_type": "stream",
     "text": [
      "[=================             ] Train  58% Elapsed Time: 0:02:31 Time: 0:02:31\r"
     ]
    },
    {
     "ename": "KeyboardInterrupt",
     "evalue": "",
     "output_type": "error",
     "traceback": [
      "\u001b[0;31m---------------------------------------------------------------------------\u001b[0m",
      "\u001b[0;31mKeyboardInterrupt\u001b[0m                         Traceback (most recent call last)",
      "\u001b[0;32m<ipython-input-15-9fa492de3a87>\u001b[0m in \u001b[0;36m<module>\u001b[0;34m\u001b[0m\n\u001b[1;32m     91\u001b[0m         \u001b[0;32mfor\u001b[0m \u001b[0mbatch\u001b[0m\u001b[0;34m,\u001b[0m \u001b[0;34m(\u001b[0m\u001b[0men_data\u001b[0m\u001b[0;34m,\u001b[0m \u001b[0mfr_data_in\u001b[0m\u001b[0;34m,\u001b[0m \u001b[0mfr_data_out\u001b[0m\u001b[0;34m)\u001b[0m \u001b[0;32min\u001b[0m \u001b[0menumerate\u001b[0m\u001b[0;34m(\u001b[0m\u001b[0mtrain_dist_dataset\u001b[0m\u001b[0;34m)\u001b[0m\u001b[0;34m:\u001b[0m\u001b[0;34m\u001b[0m\u001b[0;34m\u001b[0m\u001b[0m\n\u001b[1;32m     92\u001b[0m             \u001b[0mtrain_bar\u001b[0m\u001b[0;34m.\u001b[0m\u001b[0mupdate\u001b[0m\u001b[0;34m(\u001b[0m\u001b[0mbatch\u001b[0m\u001b[0;34m+\u001b[0m\u001b[0;36m1\u001b[0m\u001b[0;34m)\u001b[0m\u001b[0;34m\u001b[0m\u001b[0;34m\u001b[0m\u001b[0m\n\u001b[0;32m---> 93\u001b[0;31m             \u001b[0mloss\u001b[0m \u001b[0;34m=\u001b[0m \u001b[0mdistributed_train_step\u001b[0m\u001b[0;34m(\u001b[0m\u001b[0men_data\u001b[0m\u001b[0;34m,\u001b[0m \u001b[0mfr_data_in\u001b[0m\u001b[0;34m,\u001b[0m \u001b[0mfr_data_out\u001b[0m\u001b[0;34m,\u001b[0m \u001b[0minitial_states\u001b[0m\u001b[0;34m)\u001b[0m\u001b[0;34m\u001b[0m\u001b[0;34m\u001b[0m\u001b[0m\n\u001b[0m\u001b[1;32m     94\u001b[0m             \u001b[0mtraining_loss\u001b[0m\u001b[0;34m+=\u001b[0m\u001b[0mloss\u001b[0m\u001b[0;34m\u001b[0m\u001b[0;34m\u001b[0m\u001b[0m\n\u001b[1;32m     95\u001b[0m         \u001b[0mtrain_bar\u001b[0m\u001b[0;34m.\u001b[0m\u001b[0mfinish\u001b[0m\u001b[0;34m(\u001b[0m\u001b[0;34m)\u001b[0m\u001b[0;34m\u001b[0m\u001b[0;34m\u001b[0m\u001b[0m\n",
      "\u001b[0;32m/usr/local/lib/python3.6/dist-packages/tensorflow_core/python/eager/def_function.py\u001b[0m in \u001b[0;36m__call__\u001b[0;34m(self, *args, **kwds)\u001b[0m\n\u001b[1;32m    455\u001b[0m \u001b[0;34m\u001b[0m\u001b[0m\n\u001b[1;32m    456\u001b[0m     \u001b[0mtracing_count\u001b[0m \u001b[0;34m=\u001b[0m \u001b[0mself\u001b[0m\u001b[0;34m.\u001b[0m\u001b[0m_get_tracing_count\u001b[0m\u001b[0;34m(\u001b[0m\u001b[0;34m)\u001b[0m\u001b[0;34m\u001b[0m\u001b[0;34m\u001b[0m\u001b[0m\n\u001b[0;32m--> 457\u001b[0;31m     \u001b[0mresult\u001b[0m \u001b[0;34m=\u001b[0m \u001b[0mself\u001b[0m\u001b[0;34m.\u001b[0m\u001b[0m_call\u001b[0m\u001b[0;34m(\u001b[0m\u001b[0;34m*\u001b[0m\u001b[0margs\u001b[0m\u001b[0;34m,\u001b[0m \u001b[0;34m**\u001b[0m\u001b[0mkwds\u001b[0m\u001b[0;34m)\u001b[0m\u001b[0;34m\u001b[0m\u001b[0;34m\u001b[0m\u001b[0m\n\u001b[0m\u001b[1;32m    458\u001b[0m     \u001b[0;32mif\u001b[0m \u001b[0mtracing_count\u001b[0m \u001b[0;34m==\u001b[0m \u001b[0mself\u001b[0m\u001b[0;34m.\u001b[0m\u001b[0m_get_tracing_count\u001b[0m\u001b[0;34m(\u001b[0m\u001b[0;34m)\u001b[0m\u001b[0;34m:\u001b[0m\u001b[0;34m\u001b[0m\u001b[0;34m\u001b[0m\u001b[0m\n\u001b[1;32m    459\u001b[0m       \u001b[0mself\u001b[0m\u001b[0;34m.\u001b[0m\u001b[0m_call_counter\u001b[0m\u001b[0;34m.\u001b[0m\u001b[0mcalled_without_tracing\u001b[0m\u001b[0;34m(\u001b[0m\u001b[0;34m)\u001b[0m\u001b[0;34m\u001b[0m\u001b[0;34m\u001b[0m\u001b[0m\n",
      "\u001b[0;32m/usr/local/lib/python3.6/dist-packages/tensorflow_core/python/eager/def_function.py\u001b[0m in \u001b[0;36m_call\u001b[0;34m(self, *args, **kwds)\u001b[0m\n\u001b[1;32m    485\u001b[0m       \u001b[0;31m# In this case we have created variables on the first call, so we run the\u001b[0m\u001b[0;34m\u001b[0m\u001b[0;34m\u001b[0m\u001b[0;34m\u001b[0m\u001b[0m\n\u001b[1;32m    486\u001b[0m       \u001b[0;31m# defunned version which is guaranteed to never create variables.\u001b[0m\u001b[0;34m\u001b[0m\u001b[0;34m\u001b[0m\u001b[0;34m\u001b[0m\u001b[0m\n\u001b[0;32m--> 487\u001b[0;31m       \u001b[0;32mreturn\u001b[0m \u001b[0mself\u001b[0m\u001b[0;34m.\u001b[0m\u001b[0m_stateless_fn\u001b[0m\u001b[0;34m(\u001b[0m\u001b[0;34m*\u001b[0m\u001b[0margs\u001b[0m\u001b[0;34m,\u001b[0m \u001b[0;34m**\u001b[0m\u001b[0mkwds\u001b[0m\u001b[0;34m)\u001b[0m  \u001b[0;31m# pylint: disable=not-callable\u001b[0m\u001b[0;34m\u001b[0m\u001b[0;34m\u001b[0m\u001b[0m\n\u001b[0m\u001b[1;32m    488\u001b[0m     \u001b[0;32melif\u001b[0m \u001b[0mself\u001b[0m\u001b[0;34m.\u001b[0m\u001b[0m_stateful_fn\u001b[0m \u001b[0;32mis\u001b[0m \u001b[0;32mnot\u001b[0m \u001b[0;32mNone\u001b[0m\u001b[0;34m:\u001b[0m\u001b[0;34m\u001b[0m\u001b[0;34m\u001b[0m\u001b[0m\n\u001b[1;32m    489\u001b[0m       \u001b[0;31m# Release the lock early so that multiple threads can perform the call\u001b[0m\u001b[0;34m\u001b[0m\u001b[0;34m\u001b[0m\u001b[0;34m\u001b[0m\u001b[0m\n",
      "\u001b[0;32m/usr/local/lib/python3.6/dist-packages/tensorflow_core/python/eager/function.py\u001b[0m in \u001b[0;36m__call__\u001b[0;34m(self, *args, **kwargs)\u001b[0m\n\u001b[1;32m   1821\u001b[0m     \u001b[0;34m\"\"\"Calls a graph function specialized to the inputs.\"\"\"\u001b[0m\u001b[0;34m\u001b[0m\u001b[0;34m\u001b[0m\u001b[0m\n\u001b[1;32m   1822\u001b[0m     \u001b[0mgraph_function\u001b[0m\u001b[0;34m,\u001b[0m \u001b[0margs\u001b[0m\u001b[0;34m,\u001b[0m \u001b[0mkwargs\u001b[0m \u001b[0;34m=\u001b[0m \u001b[0mself\u001b[0m\u001b[0;34m.\u001b[0m\u001b[0m_maybe_define_function\u001b[0m\u001b[0;34m(\u001b[0m\u001b[0margs\u001b[0m\u001b[0;34m,\u001b[0m \u001b[0mkwargs\u001b[0m\u001b[0;34m)\u001b[0m\u001b[0;34m\u001b[0m\u001b[0;34m\u001b[0m\u001b[0m\n\u001b[0;32m-> 1823\u001b[0;31m     \u001b[0;32mreturn\u001b[0m \u001b[0mgraph_function\u001b[0m\u001b[0;34m.\u001b[0m\u001b[0m_filtered_call\u001b[0m\u001b[0;34m(\u001b[0m\u001b[0margs\u001b[0m\u001b[0;34m,\u001b[0m \u001b[0mkwargs\u001b[0m\u001b[0;34m)\u001b[0m  \u001b[0;31m# pylint: disable=protected-access\u001b[0m\u001b[0;34m\u001b[0m\u001b[0;34m\u001b[0m\u001b[0m\n\u001b[0m\u001b[1;32m   1824\u001b[0m \u001b[0;34m\u001b[0m\u001b[0m\n\u001b[1;32m   1825\u001b[0m   \u001b[0;34m@\u001b[0m\u001b[0mproperty\u001b[0m\u001b[0;34m\u001b[0m\u001b[0;34m\u001b[0m\u001b[0m\n",
      "\u001b[0;32m/usr/local/lib/python3.6/dist-packages/tensorflow_core/python/eager/function.py\u001b[0m in \u001b[0;36m_filtered_call\u001b[0;34m(self, args, kwargs)\u001b[0m\n\u001b[1;32m   1139\u001b[0m          if isinstance(t, (ops.Tensor,\n\u001b[1;32m   1140\u001b[0m                            resource_variable_ops.BaseResourceVariable))),\n\u001b[0;32m-> 1141\u001b[0;31m         self.captured_inputs)\n\u001b[0m\u001b[1;32m   1142\u001b[0m \u001b[0;34m\u001b[0m\u001b[0m\n\u001b[1;32m   1143\u001b[0m   \u001b[0;32mdef\u001b[0m \u001b[0m_call_flat\u001b[0m\u001b[0;34m(\u001b[0m\u001b[0mself\u001b[0m\u001b[0;34m,\u001b[0m \u001b[0margs\u001b[0m\u001b[0;34m,\u001b[0m \u001b[0mcaptured_inputs\u001b[0m\u001b[0;34m,\u001b[0m \u001b[0mcancellation_manager\u001b[0m\u001b[0;34m=\u001b[0m\u001b[0;32mNone\u001b[0m\u001b[0;34m)\u001b[0m\u001b[0;34m:\u001b[0m\u001b[0;34m\u001b[0m\u001b[0;34m\u001b[0m\u001b[0m\n",
      "\u001b[0;32m/usr/local/lib/python3.6/dist-packages/tensorflow_core/python/eager/function.py\u001b[0m in \u001b[0;36m_call_flat\u001b[0;34m(self, args, captured_inputs, cancellation_manager)\u001b[0m\n\u001b[1;32m   1222\u001b[0m     \u001b[0;32mif\u001b[0m \u001b[0mexecuting_eagerly\u001b[0m\u001b[0;34m:\u001b[0m\u001b[0;34m\u001b[0m\u001b[0;34m\u001b[0m\u001b[0m\n\u001b[1;32m   1223\u001b[0m       flat_outputs = forward_function.call(\n\u001b[0;32m-> 1224\u001b[0;31m           ctx, args, cancellation_manager=cancellation_manager)\n\u001b[0m\u001b[1;32m   1225\u001b[0m     \u001b[0;32melse\u001b[0m\u001b[0;34m:\u001b[0m\u001b[0;34m\u001b[0m\u001b[0;34m\u001b[0m\u001b[0m\n\u001b[1;32m   1226\u001b[0m       \u001b[0mgradient_name\u001b[0m \u001b[0;34m=\u001b[0m \u001b[0mself\u001b[0m\u001b[0;34m.\u001b[0m\u001b[0m_delayed_rewrite_functions\u001b[0m\u001b[0;34m.\u001b[0m\u001b[0mregister\u001b[0m\u001b[0;34m(\u001b[0m\u001b[0;34m)\u001b[0m\u001b[0;34m\u001b[0m\u001b[0;34m\u001b[0m\u001b[0m\n",
      "\u001b[0;32m/usr/local/lib/python3.6/dist-packages/tensorflow_core/python/eager/function.py\u001b[0m in \u001b[0;36mcall\u001b[0;34m(self, ctx, args, cancellation_manager)\u001b[0m\n\u001b[1;32m    509\u001b[0m               \u001b[0minputs\u001b[0m\u001b[0;34m=\u001b[0m\u001b[0margs\u001b[0m\u001b[0;34m,\u001b[0m\u001b[0;34m\u001b[0m\u001b[0;34m\u001b[0m\u001b[0m\n\u001b[1;32m    510\u001b[0m               \u001b[0mattrs\u001b[0m\u001b[0;34m=\u001b[0m\u001b[0;34m(\u001b[0m\u001b[0;34m\"executor_type\"\u001b[0m\u001b[0;34m,\u001b[0m \u001b[0mexecutor_type\u001b[0m\u001b[0;34m,\u001b[0m \u001b[0;34m\"config_proto\"\u001b[0m\u001b[0;34m,\u001b[0m \u001b[0mconfig\u001b[0m\u001b[0;34m)\u001b[0m\u001b[0;34m,\u001b[0m\u001b[0;34m\u001b[0m\u001b[0;34m\u001b[0m\u001b[0m\n\u001b[0;32m--> 511\u001b[0;31m               ctx=ctx)\n\u001b[0m\u001b[1;32m    512\u001b[0m         \u001b[0;32melse\u001b[0m\u001b[0;34m:\u001b[0m\u001b[0;34m\u001b[0m\u001b[0;34m\u001b[0m\u001b[0m\n\u001b[1;32m    513\u001b[0m           outputs = execute.execute_with_cancellation(\n",
      "\u001b[0;32m/usr/local/lib/python3.6/dist-packages/tensorflow_core/python/eager/execute.py\u001b[0m in \u001b[0;36mquick_execute\u001b[0;34m(op_name, num_outputs, inputs, attrs, ctx, name)\u001b[0m\n\u001b[1;32m     59\u001b[0m     tensors = pywrap_tensorflow.TFE_Py_Execute(ctx._handle, device_name,\n\u001b[1;32m     60\u001b[0m                                                \u001b[0mop_name\u001b[0m\u001b[0;34m,\u001b[0m \u001b[0minputs\u001b[0m\u001b[0;34m,\u001b[0m \u001b[0mattrs\u001b[0m\u001b[0;34m,\u001b[0m\u001b[0;34m\u001b[0m\u001b[0;34m\u001b[0m\u001b[0m\n\u001b[0;32m---> 61\u001b[0;31m                                                num_outputs)\n\u001b[0m\u001b[1;32m     62\u001b[0m   \u001b[0;32mexcept\u001b[0m \u001b[0mcore\u001b[0m\u001b[0;34m.\u001b[0m\u001b[0m_NotOkStatusException\u001b[0m \u001b[0;32mas\u001b[0m \u001b[0me\u001b[0m\u001b[0;34m:\u001b[0m\u001b[0;34m\u001b[0m\u001b[0;34m\u001b[0m\u001b[0m\n\u001b[1;32m     63\u001b[0m     \u001b[0;32mif\u001b[0m \u001b[0mname\u001b[0m \u001b[0;32mis\u001b[0m \u001b[0;32mnot\u001b[0m \u001b[0;32mNone\u001b[0m\u001b[0;34m:\u001b[0m\u001b[0;34m\u001b[0m\u001b[0;34m\u001b[0m\u001b[0m\n",
      "\u001b[0;31mKeyboardInterrupt\u001b[0m: "
     ]
    }
   ],
   "source": [
    "vocab_size = len(en_tokenizer.word_index)+1\n",
    "fr_vocab_size = len(fr_tokenizer.word_index)+1\n",
    "\n",
    "train_dataset = tf.data.Dataset.from_tensor_slices((en_train, fr_train_in, fr_train_out))\n",
    "train_dataset = train_dataset.shuffle(len(en_train), reshuffle_each_iteration=True).batch(GLOBAL_BATCH_SIZE, drop_remainder=True)\n",
    "train_dist_dataset = strategy.experimental_distribute_dataset(train_dataset)\n",
    "\n",
    "test_dataset = tf.data.Dataset.from_tensor_slices((en_test, fr_test, fr_test_tokenized))\n",
    "test_dataset = test_dataset.shuffle(len(en_test), reshuffle_each_iteration=True).batch(GLOBAL_BATCH_SIZE, drop_remainder=True)\n",
    "test_dist_dataset = strategy.experimental_distribute_dataset(test_dataset)\n",
    "\n",
    "train_losses = []\n",
    "test_losses = []\n",
    "\n",
    "with strategy.scope():\n",
    "    encoder = Encoder(LSTM_SIZE, EMBEDDING_SIZE, en_vocab)\n",
    "    decoder = Decoder(LSTM_SIZE, EMBEDDING_SIZE, fr_vocab)\n",
    "    optim = tf.keras.optimizers.Adam(clipnorm=0.5)\n",
    "    \n",
    "    encoder.save_weights('./saved_weights/starting_model_encoder', save_format='tf')\n",
    "    decoder.save_weights('./saved_weights/starting_model_decoder', save_format='tf')\n",
    "    \n",
    "    loss_obj = tf.keras.losses.SparseCategoricalCrossentropy(from_logits=True, reduction=tf.keras.losses.Reduction.NONE)\n",
    "    def compute_loss(predictions, labels):\n",
    "        mask = tf.math.logical_not(tf.math.equal(labels, 0))\n",
    "        mask = tf.cast(mask, tf.int64)\n",
    "        per_example_loss = loss_obj(labels, predictions, sample_weight=mask)\n",
    "        return tf.nn.compute_average_loss(per_example_loss, global_batch_size=GLOBAL_BATCH_SIZE)\n",
    "\n",
    "    # one training step\n",
    "    def train_step(en_data, fr_data_in, fr_data_out, initial_states):\n",
    "      loss = 0\n",
    "      with tf.GradientTape() as tape:\n",
    "        encoder_output, state_h, state_c = encoder(en_data, initial_states, training=True)\n",
    "        # shape[1] because we want each word for all batches\n",
    "        for i in range(fr_data_out.shape[1]):\n",
    "          decoder_input = tf.expand_dims(fr_data_in[:,i], 1)\n",
    "          de_output, state_h, state_c = decoder(decoder_input, (state_h, state_c), encoder_output, training=True)\n",
    "          loss +=compute_loss(de_output, fr_data_out[:,i])\n",
    "\n",
    "      trainable_vars = encoder.trainable_variables + decoder.trainable_variables\n",
    "      grads = tape.gradient(loss, trainable_vars)\n",
    "      optim.apply_gradients(zip(grads, trainable_vars))\n",
    "\n",
    "      return loss / fr_data_out.shape[1]\n",
    "\n",
    "    @tf.function\n",
    "    def distributed_train_step(en_data, fr_data_in, fr_data_out, initial_states):\n",
    "        per_replica_losses = strategy.experimental_run_v2(train_step,\n",
    "                                                          args=(en_data,\n",
    "                                                                fr_data_in,\n",
    "                                                                fr_data_out,\n",
    "                                                                initial_states,))\n",
    "        return strategy.reduce(tf.distribute.ReduceOp.SUM, per_replica_losses, axis=None)\n",
    "    \n",
    "    def test_step(en_seq, fr_seq_tokenized):\n",
    "        loss =0\n",
    "        initial_states = encoder.init_states(BATCH_SIZE)\n",
    "        encoder_out, state_h, state_c = encoder(en_seq, initial_states, training=False)\n",
    "\n",
    "        decoder_in = tf.constant(fr_tokenizer.word_index['<start>'], shape=(BATCH_SIZE, 1))\n",
    "\n",
    "        for i in range(fr_seq_tokenized.shape[1]):\n",
    "            decoder_out, state_h, state_c = decoder(decoder_in, (state_h, state_c), encoder_out, training=False)\n",
    "            loss +=compute_loss(decoder_out, fr_seq_tokenized[:,i])\n",
    "\n",
    "        return loss/fr_seq_tokenized.shape[1]\n",
    "    \n",
    "    @tf.function\n",
    "    def distributed_test_step(en_data, fr_data_tokenized):\n",
    "        per_replica_losses = strategy.experimental_run_v2(test_step,\n",
    "                                                         args=(en_data,\n",
    "                                                               fr_data_tokenized,))\n",
    "        return strategy.reduce(tf.distribute.ReduceOp.SUM, per_replica_losses, axis=None)\n",
    "\n",
    "    min_test_loss = 10000\n",
    "    \n",
    "    for epoch in range(EPOCHS):\n",
    "       \n",
    "        test_loss = 0.0\n",
    "        training_loss = 0.0\n",
    "        initial_states = encoder.init_states(BATCH_SIZE)\n",
    "        \n",
    "        for batch, (en_data, fr_data_in, fr_data_out) in enumerate(train_dist_dataset):\n",
    "            loss = distributed_train_step(en_data, fr_data_in, fr_data_out, initial_states)\n",
    "            training_loss+=loss\n",
    "        for batch, (en_data, fr_data, fr_data_tokenized) in enumerate(test_dist_dataset):\n",
    "            loss = distributed_test_step(en_data, fr_data_tokenized)\n",
    "            test_loss+=loss\n",
    "\n",
    "        print(\"Epoch {} : train loss {} test loss : {}\" .format(epoch, training_loss/train_steps, test_loss/test_steps))\n",
    "        train_losses.append(training_loss/train_steps)\n",
    "        test_losses.append(test_loss/test_steps)\n",
    "        \n",
    "        if (test_loss/test_steps) < min_test_loss:\n",
    "            encoder.save_weights('./saved_weights/Best_model_weights_encoder', save_format='tf')\n",
    "            decoder.save_weights('./saved_weights/Best_model_weights_decoder', save_format='tf')\n",
    "            min_test_loss = test_loss/test_steps"
   ]
  },
  {
   "cell_type": "code",
   "execution_count": null,
   "metadata": {},
   "outputs": [],
   "source": []
  },
  {
   "cell_type": "code",
   "execution_count": null,
   "metadata": {},
   "outputs": [],
   "source": []
  }
 ],
 "metadata": {
  "kernelspec": {
   "display_name": "Python 3",
   "language": "python",
   "name": "python3"
  },
  "language_info": {
   "codemirror_mode": {
    "name": "ipython",
    "version": 3
   },
   "file_extension": ".py",
   "mimetype": "text/x-python",
   "name": "python",
   "nbconvert_exporter": "python",
   "pygments_lexer": "ipython3",
   "version": "3.6.8"
  }
 },
 "nbformat": 4,
 "nbformat_minor": 2
}
