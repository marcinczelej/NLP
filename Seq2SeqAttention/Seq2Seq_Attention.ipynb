{
 "cells": [
  {
   "cell_type": "code",
   "execution_count": null,
   "metadata": {},
   "outputs": [],
   "source": [
    "import os\n",
    "import sys\n",
    "import tensorflow as tf\n",
    "\n",
    "from sklearn.model_selection import train_test_split\n",
    "\n",
    "sys.path.insert(0, r\"../utilities\")\n",
    "\n",
    "from utils import *\n",
    "from params import *\n",
    "from Seq2SeqAttentionTrainer import Seq2SeqAttentionTrainer\n",
    "from Trainer import *\n",
    "\n",
    "tf.__version__"
   ]
  },
  {
   "cell_type": "code",
   "execution_count": null,
   "metadata": {},
   "outputs": [],
   "source": [
    "    data_dir = \"../data\"\n",
    "    # reading data\n",
    "\n",
    "    en_lines, fr_lines = read_data_files(data_dir, (\"small_vocab_en\", \"small_vocab_fr\"))\n",
    "    \"\"\"\n",
    "    data = read_data(os.path.join(data_dir, \"fra-eng\"), \"fra.txt\")\n",
    "    en_lines, fr_lines = list(zip(*data))\n",
    "    \n",
    "    en_lines = en_lines[:30000]\n",
    "    fr_lines = fr_lines[:30000]\n",
    "    \"\"\"\n",
    "    en_lines = [normalize(line) for line in en_lines]\n",
    "    fr_lines = [normalize(line) for line in fr_lines]\n",
    "\n",
    "    en_train, en_test, fr_train, fr_test = train_test_split(en_lines, fr_lines, shuffle=True, test_size=0.1)\n",
    "\n",
    "    fr_train_in = ['<start> ' + line for line in fr_train]\n",
    "    fr_train_out = [line + ' <end>' for line in fr_train]\n",
    "\n",
    "    fr_test_in = ['<start> ' + line for line in fr_test]\n",
    "    fr_test_out = [line + ' <end>' for line in fr_test]\n",
    "\n",
    "    fr_tokenizer = Tokenizer(filters='')\n",
    "    en_tokenizer = Tokenizer(filters='')\n",
    "\n",
    "    input_data = [fr_train_in, fr_train_out, fr_test_in, fr_test_out, fr_test, fr_train]\n",
    "    fr_train_in, fr_train_out, fr_test_in, fr_test_out, fr_test, fr_train = tokenizeInput(input_data,\n",
    "                                                                                          fr_tokenizer)\n",
    "\n",
    "    input_data = [en_train, en_test]\n",
    "    en_train, en_test = tokenizeInput(input_data, en_tokenizer)\n",
    "\n",
    "    en_vocab_size = len(en_tokenizer.word_index)+1\n",
    "    fr_vocab_size = len(fr_tokenizer.word_index)+1\n",
    "    print(\"en_vocab {}\\nfr_vocab {}\" .format(en_vocab_size, fr_vocab_size))"
   ]
  },
  {
   "cell_type": "code",
   "execution_count": null,
   "metadata": {},
   "outputs": [],
   "source": [
    "trainer = Seq2SeqAttentionTrainer(BATCH_SIZE, LSTM_SIZE, EMBEDDING_SIZE, 1)"
   ]
  },
  {
   "cell_type": "code",
   "execution_count": null,
   "metadata": {
    "scrolled": false
   },
   "outputs": [],
   "source": [
    "losses, accuracy= trainer.train([en_train, fr_train_in, fr_train_out], [en_test, fr_test_in, fr_test_out], [en_tokenizer, fr_tokenizer], 20, \"concat\")"
   ]
  },
  {
   "cell_type": "code",
   "execution_count": null,
   "metadata": {
    "scrolled": false
   },
   "outputs": [],
   "source": [
    "#training with distribution\n",
    "#distributedTrain(en_data, fr_data, en_test, fr_test, fr_tokenizer, en_tokenizer, attention_type=\"concat\")"
   ]
  },
  {
   "cell_type": "code",
   "execution_count": null,
   "metadata": {},
   "outputs": [],
   "source": []
  }
 ],
 "metadata": {
  "kernelspec": {
   "display_name": "Python 3",
   "language": "python",
   "name": "python3"
  },
  "language_info": {
   "codemirror_mode": {
    "name": "ipython",
    "version": 3
   },
   "file_extension": ".py",
   "mimetype": "text/x-python",
   "name": "python",
   "nbconvert_exporter": "python",
   "pygments_lexer": "ipython3",
   "version": "3.6.8"
  }
 },
 "nbformat": 4,
 "nbformat_minor": 2
}
