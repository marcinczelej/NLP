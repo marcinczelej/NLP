{
 "cells": [
  {
   "cell_type": "markdown",
   "metadata": {
    "colab_type": "text",
    "id": "view-in-github"
   },
   "source": [
    "<a href=\"https://colab.research.google.com/github/mizzmir/NLP/blob/master/Transformer/Transformer.ipynb\" target=\"_parent\"><img src=\"https://colab.research.google.com/assets/colab-badge.svg\" alt=\"Open In Colab\"/></a>"
   ]
  },
  {
   "cell_type": "code",
   "execution_count": 1,
   "metadata": {
    "colab": {
     "base_uri": "https://localhost:8080/",
     "height": 35
    },
    "colab_type": "code",
    "id": "160XBLnmv-sP",
    "outputId": "0dc07fda-b244-4cdd-a880-83f8e6d53603"
   },
   "outputs": [],
   "source": [
    "collab = False\n",
    "if collab:\n",
    "    !pip install tensorflow-gpu --quiet\n",
    "    !git clone https://github.com/mizzmir/NLP.git"
   ]
  },
  {
   "cell_type": "code",
   "execution_count": 2,
   "metadata": {
    "colab": {},
    "colab_type": "code",
    "id": "nHsXhZrJv_cX"
   },
   "outputs": [],
   "source": [
    "import os\n",
    "import sys\n",
    "import tensorflow as tf\n",
    "import numpy as np\n",
    "\n",
    "from sklearn.model_selection import train_test_split\n",
    "from tensorflow.keras.preprocessing.text import Tokenizer\n",
    "\n",
    "if collab:\n",
    "  sys.path.insert(0, r\"./NLP/utilities\")\n",
    "  data_dir = \"./NLP/data\"\n",
    "else:\n",
    "  sys.path.insert(0, r\"../utilities\")\n",
    "  data_dir = \"../data\"\n",
    "\n",
    "from utils import *\n",
    "from model import *"
   ]
  },
  {
   "cell_type": "code",
   "execution_count": null,
   "metadata": {
    "colab": {},
    "colab_type": "code",
    "id": "MI8KlrtP_ay8"
   },
   "outputs": [],
   "source": []
  },
  {
   "cell_type": "code",
   "execution_count": null,
   "metadata": {
    "colab": {},
    "colab_type": "code",
    "id": "dqxOYEMvhs4n"
   },
   "outputs": [],
   "source": []
  },
  {
   "cell_type": "code",
   "execution_count": null,
   "metadata": {
    "colab": {},
    "colab_type": "code",
    "id": "I4GNTftVHb5x"
   },
   "outputs": [],
   "source": []
  },
  {
   "cell_type": "code",
   "execution_count": null,
   "metadata": {
    "colab": {},
    "colab_type": "code",
    "id": "Y-_p_e0UNCpG"
   },
   "outputs": [],
   "source": []
  },
  {
   "cell_type": "code",
   "execution_count": 3,
   "metadata": {
    "colab": {
     "base_uri": "https://localhost:8080/",
     "height": 53
    },
    "colab_type": "code",
    "id": "8T85ncKrVRYC",
    "outputId": "2e6b25b1-6bb5-41ef-dddc-66add264379c"
   },
   "outputs": [
    {
     "name": "stdout",
     "output_type": "stream",
     "text": [
      "input shape  (64, 62)\n",
      "(64, 62, 10)\n"
     ]
    }
   ],
   "source": [
    "data = tf.random.uniform((64, 62), dtype=tf.int64, minval=0, maxval=200)\n",
    "print(\"input shape \", data.shape)\n",
    "padding_mask = makePaddingMask(data)\n",
    "\n",
    "encoder = Encoder(embedding_size=10,\n",
    "                  max_sentence_len=1000,\n",
    "                  vocab_size=3000,\n",
    "                  blocks_amount=3,\n",
    "                  heads_number=5, \n",
    "                  dff=2048)\n",
    "encoder_out  = encoder(data, mask=padding_mask)\n",
    "print(encoder_out.shape)"
   ]
  },
  {
   "cell_type": "code",
   "execution_count": null,
   "metadata": {
    "colab": {},
    "colab_type": "code",
    "id": "YrE1qDbL3i0G"
   },
   "outputs": [],
   "source": []
  },
  {
   "cell_type": "code",
   "execution_count": 4,
   "metadata": {
    "colab": {
     "base_uri": "https://localhost:8080/",
     "height": 53
    },
    "colab_type": "code",
    "id": "F8Wb0q1bvlxa",
    "outputId": "a2ff194a-db80-4366-cb80-c3b70c9db55f"
   },
   "outputs": [
    {
     "name": "stdout",
     "output_type": "stream",
     "text": [
      "Decoder input shape  (64, 26)\n",
      "decoder_out  (64, 26, 10)\n"
     ]
    }
   ],
   "source": [
    "input_data = np.ones((64, 26))\n",
    "mask = makeSequenceMask(input_data.shape[1])\n",
    "print(\"Decoder input shape \", input_data.shape)\n",
    "blocks_amount = 2\n",
    "heads = 5\n",
    "en_vocab_size = 100\n",
    "fr_vocab_size = 200\n",
    "decoder = Decoder(embedding_size=10,\n",
    "                  max_sentence_len=1000,\n",
    "                  vocab_size=100,\n",
    "                  blocks_amount=3,\n",
    "                  heads_number=5, \n",
    "                  dff=2048)\n",
    "\"\"\"\n",
    "decoder masks are :\n",
    "- encoder_padding_mask - padding mask made on encoder input data\n",
    "- decoder sequences mask - sequence mask made on decoder input data\n",
    "\"\"\"\n",
    "decoder_out  = decoder(encoder_out, input_data, pad_mask=None, elements_mask=None)\n",
    "print(\"decoder_out \", decoder_out.shape)"
   ]
  },
  {
   "cell_type": "code",
   "execution_count": null,
   "metadata": {
    "colab": {},
    "colab_type": "code",
    "id": "xM03dp3qwO_9"
   },
   "outputs": [],
   "source": []
  },
  {
   "cell_type": "code",
   "execution_count": 5,
   "metadata": {
    "colab": {
     "base_uri": "https://localhost:8080/",
     "height": 72
    },
    "colab_type": "code",
    "id": "mrJPalvR37Xp",
    "outputId": "dc7d2809-1d06-4fd0-a87d-db65927ed738"
   },
   "outputs": [
    {
     "name": "stdout",
     "output_type": "stream",
     "text": [
      "output_data  (64, 29)\n",
      "elements_mask  (29, 29)\n",
      "(64, 29, 7001)\n"
     ]
    }
   ],
   "source": [
    "transformer_model = Transformer(embedding_size=512,\n",
    "                                dff=2048,\n",
    "                                input_max_seq_length=2000,\n",
    "                                output_max_seq_length=1855,\n",
    "                                input_vocab_size=4980,\n",
    "                                output_vocab_size=7001,\n",
    "                                encoder_blocks=4,\n",
    "                                decoder_blocks=2,\n",
    "                                heads=8)\n",
    "\n",
    "# input_data and output_data\n",
    "input_data = tf.random.uniform((64, 52), dtype=tf.int64, minval=0, maxval=100)\n",
    "output_data = tf.random.uniform((64, 29), dtype=tf.int64, minval=0, maxval=250)\n",
    "\n",
    "encoder_pad_mask = makePaddingMask(input_data)\n",
    "elements_mask = makeSequenceMask(output_data.shape[1])\n",
    "print(\"output_data \", output_data.shape)\n",
    "print(\"elements_mask \", elements_mask.shape)\n",
    "transformer_output = transformer_model(input_data, output_data, encoder_pad_mask, elements_mask)\n",
    "print(transformer_output.shape)"
   ]
  },
  {
   "cell_type": "code",
   "execution_count": 6,
   "metadata": {
    "colab": {},
    "colab_type": "code",
    "id": "yqL-y6SJmGyY"
   },
   "outputs": [],
   "source": [
    "class customLearningRate(tf.keras.optimizers.schedules.LearningRateSchedule):\n",
    "  \"\"\"\n",
    "  according to Attention is all you need paper learning rate has custom scheduler:\n",
    "  there are two parameters : \n",
    "  - d_model\n",
    "  - warmup_steps ( in paper set to 4000)\n",
    "  according to paper https://arxiv.org/pdf/1706.03762.pdf\n",
    "  point 5.3 Optimizer\n",
    "  \"\"\"\n",
    "  def __init__(self, warmup_steps, d_model):\n",
    "    super(customLearningRate, self).__init__()\n",
    "    self.d_model = tf.cast(d_model, tf.float32)\n",
    "    self.warmup_steps = warmup_steps\n",
    "  \n",
    "  def __call__(self, step):\n",
    "    firstScheduler = tf.math.rsqrt(step)\n",
    "    secondScheduler = step*(self.warmup_steps**-1.5)\n",
    "    return tf.math.rsqrt(self.d_model)*tf.math.minimum(firstScheduler, secondScheduler)"
   ]
  },
  {
   "cell_type": "code",
   "execution_count": 7,
   "metadata": {
    "colab": {},
    "colab_type": "code",
    "id": "_aYQcBaGlWk7"
   },
   "outputs": [],
   "source": [
    "BATCH_SIZE = 64\n",
    "EPOCHS = 100\n",
    "num_layers = 6 # 4\n",
    "d_model = 512 # 128\n",
    "dff = 2048  # 512\n",
    "num_heads = 8 "
   ]
  },
  {
   "cell_type": "code",
   "execution_count": 8,
   "metadata": {
    "colab": {
     "base_uri": "https://localhost:8080/",
     "height": 53
    },
    "colab_type": "code",
    "id": "bq1qufXuXYqW",
    "outputId": "2b56364b-8194-4c4d-fffb-a0bc82ad5949"
   },
   "outputs": [
    {
     "name": "stdout",
     "output_type": "stream",
     "text": [
      "reading data from  ../data/fra-eng/fra.txt\n"
     ]
    }
   ],
   "source": [
    "# reading data\n",
    "\n",
    "#en_lines, fr_lines = read_data_files(data_dir, (\"small_vocab_en\", \"small_vocab_fr\"))\n",
    "\n",
    "data = read_data(os.path.join(data_dir, \"fra-eng\"), \"fra.txt\")\n",
    "en_lines, fr_lines = list(zip(*data))\n",
    "\"\"\"\n",
    "en_lines = en_lines[:30000]\n",
    "fr_lines = fr_lines[:30000]\n",
    "\"\"\"\n",
    "en_lines = [normalize(line) for line in en_lines]\n",
    "fr_lines = [normalize(line) for line in fr_lines]\n",
    "\n",
    "en_train, en_test, fr_train, fr_test = train_test_split(en_lines, fr_lines, shuffle=True, test_size=0.1)\n",
    "\n",
    "fr_train_in = ['<start> ' + line for line in fr_train]\n",
    "fr_train_out = [line + ' <end>' for line in fr_train]\n",
    "\n",
    "fr_test_in = ['<start> ' + line for line in fr_test]\n",
    "fr_test_out = [line + ' <end>' for line in fr_test]"
   ]
  },
  {
   "cell_type": "code",
   "execution_count": 9,
   "metadata": {
    "colab": {
     "base_uri": "https://localhost:8080/",
     "height": 72
    },
    "colab_type": "code",
    "id": "-WEi7CE-jQz_",
    "outputId": "cb7f3f47-e1cb-4438-bfcd-ac8788be791c",
    "scrolled": true
   },
   "outputs": [
    {
     "name": "stdout",
     "output_type": "stream",
     "text": [
      "en_vocab 14086\n",
      "fr_vocab 24855\n",
      "end_tag 3\n"
     ]
    }
   ],
   "source": [
    "fr_tokenizer = Tokenizer(filters='')\n",
    "en_tokenizer = Tokenizer(filters='')\n",
    "\n",
    "input_data = [fr_train_in, fr_train_out, fr_test_in, fr_test_out, fr_test, fr_train]\n",
    "fr_train_in, fr_train_out, fr_test_in, fr_test_out, fr_test, fr_train = tokenizeInput(input_data, fr_tokenizer)\n",
    "\n",
    "input_data = [en_train, en_test]\n",
    "en_train, en_test = tokenizeInput(input_data, en_tokenizer)\n",
    "\n",
    "en_vocab_size = len(en_tokenizer.word_index)+1\n",
    "fr_vocab_size = len(fr_tokenizer.word_index)+1\n",
    "print(\"en_vocab {}\\nfr_vocab {}\" .format(en_vocab_size, fr_vocab_size))\n",
    "print(\"end_tag\", fr_tokenizer.texts_to_sequences(['<end>'])[0][0])"
   ]
  },
  {
   "cell_type": "markdown",
   "metadata": {
    "colab_type": "text",
    "id": "BdXT9Z4MlN3B"
   },
   "source": [
    "# New Section"
   ]
  },
  {
   "cell_type": "code",
   "execution_count": 10,
   "metadata": {
    "colab": {},
    "colab_type": "code",
    "id": "T_2EzRvmY2gD"
   },
   "outputs": [
    {
     "name": "stdout",
     "output_type": "stream",
     "text": [
      "replicas number:  4\n"
     ]
    }
   ],
   "source": [
    "strategy = tf.distribute.MirroredStrategy()\n",
    "\n",
    "replicas_num = strategy.num_replicas_in_sync\n",
    "GLOBAL_BATCH_SIZE = BATCH_SIZE*replicas_num\n",
    "print(\"replicas number: \", replicas_num)"
   ]
  },
  {
   "cell_type": "code",
   "execution_count": 11,
   "metadata": {
    "colab": {},
    "colab_type": "code",
    "id": "oJSVONAXYq0B"
   },
   "outputs": [],
   "source": [
    "train_dataset = tf.data.Dataset.from_tensor_slices((en_train, fr_train_in, fr_train_out))\n",
    "train_dataset = train_dataset.shuffle(len(en_train), reshuffle_each_iteration=True)\\\n",
    "                                 .batch(GLOBAL_BATCH_SIZE, drop_remainder=True)\n",
    "train_dataset_distr = strategy.experimental_distribute_dataset(train_dataset)\n",
    "                                 \n",
    "test_dataset = tf.data.Dataset.from_tensor_slices((en_test, fr_test_in, fr_test_out))\n",
    "test_dataset = test_dataset.shuffle(len(en_test), reshuffle_each_iteration=True)\\\n",
    "                               .batch(GLOBAL_BATCH_SIZE, drop_remainder=True)\n",
    "test_dataset_distr = strategy.experimental_distribute_dataset(test_dataset)"
   ]
  },
  {
   "cell_type": "code",
   "execution_count": 12,
   "metadata": {
    "colab": {},
    "colab_type": "code",
    "id": "Awi-bm9pWxvL",
    "scrolled": false
   },
   "outputs": [
    {
     "name": "stdout",
     "output_type": "stream",
     "text": [
      "  English   : ['we were both thirsty .']\n",
      "  Predicted : epuisante epuisante epuisante droguerie droguerie droguerie droguerie epuisante droguerie droguerie droguerie survecumes droguerie droguerie droguerie droguerie droguerie droguerie droguerie droguerie droguerie droguerie droguerie droguerie droguerie droguerie droguerie droguerie droguerie droguerie droguerie droguerie droguerie droguerie droguerie droguerie\n",
      "  Correct   : ['nous avions tous les deux soif .']\n",
      "INFO:tensorflow:batch_all_reduce: 254 all-reduces with algorithm = nccl, num_packs = 1, agg_small_grads_max_bytes = 0 and agg_small_grads_max_group = 10\n",
      "WARNING:tensorflow:Efficient allreduce is not supported for 2 IndexedSlices\n",
      "INFO:tensorflow:Reduce to /job:localhost/replica:0/task:0/device:GPU:0 then broadcast to ('/job:localhost/replica:0/task:0/device:GPU:0', '/job:localhost/replica:0/task:0/device:GPU:1', '/job:localhost/replica:0/task:0/device:GPU:2', '/job:localhost/replica:0/task:0/device:GPU:3').\n",
      "INFO:tensorflow:Reduce to /job:localhost/replica:0/task:0/device:GPU:0 then broadcast to ('/job:localhost/replica:0/task:0/device:GPU:0', '/job:localhost/replica:0/task:0/device:GPU:1', '/job:localhost/replica:0/task:0/device:GPU:2', '/job:localhost/replica:0/task:0/device:GPU:3').\n",
      "INFO:tensorflow:Reduce to /job:localhost/replica:0/task:0/device:CPU:0 then broadcast to ('/job:localhost/replica:0/task:0/device:CPU:0',).\n",
      "INFO:tensorflow:batch_all_reduce: 254 all-reduces with algorithm = nccl, num_packs = 1, agg_small_grads_max_bytes = 0 and agg_small_grads_max_group = 10\n",
      "WARNING:tensorflow:Efficient allreduce is not supported for 2 IndexedSlices\n",
      "INFO:tensorflow:Reduce to /job:localhost/replica:0/task:0/device:GPU:0 then broadcast to ('/job:localhost/replica:0/task:0/device:GPU:0', '/job:localhost/replica:0/task:0/device:GPU:1', '/job:localhost/replica:0/task:0/device:GPU:2', '/job:localhost/replica:0/task:0/device:GPU:3').\n",
      "INFO:tensorflow:Reduce to /job:localhost/replica:0/task:0/device:GPU:0 then broadcast to ('/job:localhost/replica:0/task:0/device:GPU:0', '/job:localhost/replica:0/task:0/device:GPU:1', '/job:localhost/replica:0/task:0/device:GPU:2', '/job:localhost/replica:0/task:0/device:GPU:3').\n",
      "INFO:tensorflow:Reduce to /job:localhost/replica:0/task:0/device:CPU:0 then broadcast to ('/job:localhost/replica:0/task:0/device:CPU:0',).\n",
      "INFO:tensorflow:Reduce to /job:localhost/replica:0/task:0/device:CPU:0 then broadcast to ('/job:localhost/replica:0/task:0/device:CPU:0',).\n",
      "Epoch 1 training Loss 57.7048 Accuracy 0.0334  test Loss 36.8094 Accuracy 0.0845\n",
      "  English   : ['tom looks very bored .']\n",
      "  Predicted : tom a a l a tom .\n",
      "  Correct   : ['tom a l air tres ennuye .']\n",
      "Epoch 2 training Loss 30.8147 Accuracy 0.0639  test Loss 25.6213 Accuracy 0.1117\n",
      "  English   : ['she plays the piano very well .']\n",
      "  Predicted : elle a fait tres tres tres tres tres tres tres bien .\n",
      "  Correct   : ['elle joue tres bien du piano .']\n"
     ]
    },
    {
     "name": "stderr",
     "output_type": "stream",
     "text": [
      "ERROR:root:Internal Python error in the inspect module.\n",
      "Below is the traceback from this internal error.\n",
      "\n"
     ]
    },
    {
     "name": "stdout",
     "output_type": "stream",
     "text": [
      "Traceback (most recent call last):\n",
      "  File \"/usr/local/lib/python3.6/dist-packages/IPython/core/interactiveshell.py\", line 3326, in run_code\n",
      "    exec(code_obj, self.user_global_ns, self.user_ns)\n",
      "  File \"<ipython-input-12-59a1546e9298>\", line 120, in <module>\n",
      "    loss = distributed_train_step(en_data, fr_data_in, fr_train_out)\n",
      "  File \"/usr/local/lib/python3.6/dist-packages/tensorflow_core/python/eager/def_function.py\", line 457, in __call__\n",
      "    result = self._call(*args, **kwds)\n",
      "  File \"/usr/local/lib/python3.6/dist-packages/tensorflow_core/python/eager/def_function.py\", line 487, in _call\n",
      "    return self._stateless_fn(*args, **kwds)  # pylint: disable=not-callable\n",
      "  File \"/usr/local/lib/python3.6/dist-packages/tensorflow_core/python/eager/function.py\", line 1823, in __call__\n",
      "    return graph_function._filtered_call(args, kwargs)  # pylint: disable=protected-access\n",
      "  File \"/usr/local/lib/python3.6/dist-packages/tensorflow_core/python/eager/function.py\", line 1141, in _filtered_call\n",
      "    self.captured_inputs)\n",
      "  File \"/usr/local/lib/python3.6/dist-packages/tensorflow_core/python/eager/function.py\", line 1224, in _call_flat\n",
      "    ctx, args, cancellation_manager=cancellation_manager)\n",
      "  File \"/usr/local/lib/python3.6/dist-packages/tensorflow_core/python/eager/function.py\", line 511, in call\n",
      "    ctx=ctx)\n",
      "  File \"/usr/local/lib/python3.6/dist-packages/tensorflow_core/python/eager/execute.py\", line 61, in quick_execute\n",
      "    num_outputs)\n",
      "KeyboardInterrupt\n",
      "\n",
      "During handling of the above exception, another exception occurred:\n",
      "\n",
      "Traceback (most recent call last):\n",
      "  File \"/usr/local/lib/python3.6/dist-packages/IPython/core/interactiveshell.py\", line 2040, in showtraceback\n",
      "    stb = value._render_traceback_()\n",
      "AttributeError: 'KeyboardInterrupt' object has no attribute '_render_traceback_'\n",
      "\n",
      "During handling of the above exception, another exception occurred:\n",
      "\n",
      "Traceback (most recent call last):\n",
      "  File \"/usr/local/lib/python3.6/dist-packages/IPython/core/ultratb.py\", line 1101, in get_records\n",
      "    return _fixed_getinnerframes(etb, number_of_lines_of_context, tb_offset)\n",
      "  File \"/usr/local/lib/python3.6/dist-packages/IPython/core/ultratb.py\", line 319, in wrapped\n",
      "    return f(*args, **kwargs)\n",
      "  File \"/usr/local/lib/python3.6/dist-packages/IPython/core/ultratb.py\", line 353, in _fixed_getinnerframes\n",
      "    records = fix_frame_records_filenames(inspect.getinnerframes(etb, context))\n",
      "  File \"/usr/lib/python3.6/inspect.py\", line 1490, in getinnerframes\n",
      "    frameinfo = (tb.tb_frame,) + getframeinfo(tb, context)\n",
      "  File \"/usr/lib/python3.6/inspect.py\", line 1448, in getframeinfo\n",
      "    filename = getsourcefile(frame) or getfile(frame)\n",
      "  File \"/usr/lib/python3.6/inspect.py\", line 696, in getsourcefile\n",
      "    if getattr(getmodule(object, filename), '__loader__', None) is not None:\n",
      "  File \"/usr/lib/python3.6/inspect.py\", line 742, in getmodule\n",
      "    os.path.realpath(f)] = module.__name__\n",
      "  File \"/usr/lib/python3.6/posixpath.py\", line 395, in realpath\n",
      "    path, ok = _joinrealpath(filename[:0], filename, {})\n",
      "  File \"/usr/lib/python3.6/posixpath.py\", line 428, in _joinrealpath\n",
      "    newpath = join(path, name)\n",
      "  File \"/usr/lib/python3.6/posixpath.py\", line 86, in join\n",
      "    for b in map(os.fspath, p):\n",
      "KeyboardInterrupt\n"
     ]
    },
    {
     "ename": "KeyboardInterrupt",
     "evalue": "",
     "output_type": "error",
     "traceback": [
      "\u001b[0;31m---------------------------------------------------------------------------\u001b[0m"
     ]
    }
   ],
   "source": [
    "# distributed train\n",
    "\n",
    "test_losses = []\n",
    "train_losses = []\n",
    "train_accuracyVec = []\n",
    "test_accuracyVec =[]\n",
    "test_loss = tf.keras.metrics.Mean()\n",
    "test_accuracy = tf.keras.metrics.SparseCategoricalAccuracy()\n",
    "train_accuracy = tf.keras.metrics.SparseCategoricalAccuracy()\n",
    "\n",
    "with strategy.scope():\n",
    "  custom_learning_rate = customLearningRate(warmup_steps=4000,\n",
    "                                            d_model=d_model)\n",
    "\n",
    "  optimizer = tf.keras.optimizers.Adam(learning_rate=custom_learning_rate,\n",
    "                                      beta_1=0.9,\n",
    "                                      beta_2=0.98,\n",
    "                                      epsilon=1e-9)\n",
    "\n",
    "  transformer_model = Transformer(embedding_size=d_model,\n",
    "                                  dff=dff,\n",
    "                                  input_max_seq_length=2000,\n",
    "                                  output_max_seq_length=1855,\n",
    "                                  input_vocab_size=en_vocab_size,\n",
    "                                  output_vocab_size=fr_vocab_size,\n",
    "                                  encoder_blocks=num_layers,\n",
    "                                  decoder_blocks=num_layers,\n",
    "                                  heads=num_heads)\n",
    "\n",
    "  loss_object = tf.keras.losses.SparseCategoricalCrossentropy(\n",
    "      from_logits=True, reduction=\"none\")\n",
    "\n",
    "  def loss_fn(real, targets):\n",
    "      mask = tf.math.logical_not(tf.math.equal(targets, 0))\n",
    "      mask = tf.cast(mask, tf.int64)\n",
    "      per_example_loss = loss_object(targets, real, sample_weight=mask)\n",
    "      return tf.nn.compute_average_loss(per_example_loss, global_batch_size=GLOBAL_BATCH_SIZE)  \n",
    "\n",
    "  def train_step(input_data, real_data_in, real_data_out):\n",
    "      encoder_pad_mask = makePaddingMask(input_data)\n",
    "      elements_mask = makeSequenceMask(real_data_in.shape[1])\n",
    "      with tf.GradientTape() as tape:\n",
    "        predicted_data = transformer_model(\n",
    "                                        input_data,\n",
    "                                        real_data_in,\n",
    "                                        encoder_pad_mask,\n",
    "                                        elements_mask,\n",
    "                                        training_enabled=True,\n",
    "                                        training=True)\n",
    "        loss = loss_fn(predicted_data, real_data_out)\n",
    "    \n",
    "      trainable_vars = transformer_model.trainable_variables\n",
    "      grads = tape.gradient(loss, trainable_vars)\n",
    "      optimizer.apply_gradients(zip(grads, trainable_vars))\n",
    "      train_accuracy.update_state(real_data_out, predicted_data)\n",
    "      return loss\n",
    "\n",
    "  @tf.function\n",
    "  def distributed_train_step(input_data, real_data_in, real_data_out):\n",
    "      per_replica_losses = strategy.experimental_run_v2(train_step,\n",
    "                                                      args=(input_data,\n",
    "                                                            real_data_in,\n",
    "                                                            real_data_out))\n",
    "      return strategy.reduce(tf.distribute.ReduceOp.SUM, per_replica_losses, axis=None)\n",
    "\n",
    "\n",
    "  def test_step(input_data, real_data_in, real_data_out):\n",
    "      encoder_pad_mask = makePaddingMask(input_data)\n",
    "      elements_mask = makeSequenceMask(real_data_in.shape[1])\n",
    "      predicted_data = transformer_model(\n",
    "                                          input_data,\n",
    "                                          real_data_in,\n",
    "                                          encoder_pad_mask,\n",
    "                                          elements_mask,\n",
    "                                          training_enabled=False,\n",
    "                                          training=False)\n",
    "      loss = loss_fn(predicted_data, real_data_out)\n",
    "    \n",
    "      test_accuracy.update_state(real_data_out, predicted_data)\n",
    "      return loss\n",
    "\n",
    "  @tf.function\n",
    "  def distributed_test_step(input_data, real_data_in, real_data_out):\n",
    "      per_replica_losses = strategy.experimental_run_v2(test_step, args=(input_data,\n",
    "                                                  real_data_in,\n",
    "                                                  real_data_out,))\n",
    "      return strategy.reduce(tf.distribute.ReduceOp.SUM, per_replica_losses, axis=None)\n",
    "\n",
    "  def predict(input_data, real_data_out):\n",
    "      output_seq = []\n",
    "      input_seq = en_tokenizer.sequences_to_texts([input_data])\n",
    "      real_in = [fr_tokenizer.word_index['<start>']]\n",
    "      real_in = tf.expand_dims(real_in, 0)\n",
    "      end_tag = fr_tokenizer.texts_to_sequences(['<end>'])[0][0]\n",
    "      input_data = tf.expand_dims(input_data, 0)\n",
    "      for _ in range(input_data.shape[1]):\n",
    "          encoder_pad_mask = makePaddingMask(input_data)\n",
    "          elements_mask = makeSequenceMask(real_in.shape[1])\n",
    "          predicted_data = transformer_model(input_data, real_in, encoder_pad_mask, elements_mask, training_enabled=False, training=True)\n",
    "          predicted_data = tf.cast(tf.argmax(predicted_data[:, -1:, :], axis=-1), tf.int32)\n",
    "          if predicted_data.numpy()[0][0] == end_tag:\n",
    "              break\n",
    "          real_in = tf.concat([real_in, predicted_data], axis = -1)\n",
    "          output_seq.append(fr_tokenizer.index_word[predicted_data.numpy()[0][0]])  \n",
    "      print(\"  English   :\", input_seq)\n",
    "      print(\"  Predicted :\", \" \".join(output_seq))\n",
    "      print(\"  Correct   :\", fr_tokenizer.sequences_to_texts([real_data_out]))\n",
    "\n",
    "  idx = np.random.randint(low=0, high=len(en_test), size=1)[0]\n",
    "  predict(en_test[idx], fr_test[idx])\n",
    "    \n",
    "  for epoch in range(EPOCHS):\n",
    "      total_loss = 0\n",
    "      num_batches = 0\n",
    "      test_loss.reset_states()\n",
    "      test_accuracy.reset_states()\n",
    "      train_accuracy.reset_states()\n",
    "    \n",
    "      for _, (en_data, fr_data_in, fr_train_out) in enumerate(train_dataset_distr):\n",
    "          loss = distributed_train_step(en_data, fr_data_in, fr_train_out)\n",
    "          total_loss += loss\n",
    "          num_batches += 1\n",
    "      train_losses.append(total_loss/num_batches)\n",
    "\n",
    "      total_loss = 0\n",
    "      num_batches = 0\n",
    "      for _, (en_data, fr_data_in, fr_data_out) in enumerate(test_dataset_distr):\n",
    "          loss = distributed_test_step(en_data, fr_data_in, fr_data_out)\n",
    "          total_loss += loss\n",
    "          num_batches += 1\n",
    "      test_losses.append(total_loss/num_batches)\n",
    "          \n",
    "      print ('Epoch {} training Loss {:.4f} Accuracy {:.4f}  test Loss {:.4f} Accuracy {:.4f}' .format( \\\n",
    "                                                  epoch + 1, \n",
    "                                                  train_losses[-1], \n",
    "                                                  train_accuracy.result(),\n",
    "                                                  test_losses[-1],\n",
    "                                                  test_accuracy.result()))\n",
    "      train_accuracyVec.append(train_accuracy.result())\n",
    "      test_accuracyVec.append(test_accuracy.result())\n",
    "\n",
    "      idx = np.random.randint(low=0, high=len(en_test), size=1)[0]\n",
    "      predict(en_test[idx], fr_test[idx])"
   ]
  },
  {
   "cell_type": "code",
   "execution_count": null,
   "metadata": {
    "colab": {},
    "colab_type": "code",
    "id": "LbMbzlWzc_7C"
   },
   "outputs": [],
   "source": [
    "import matplotlib.pyplot as plt\n",
    "fig = plt.figure()\n",
    "fig_plot = fig.add_subplot()\n",
    "fig_plot.plot(train_losses, label=\"train_loss\")\n",
    "fig_plot.plot(test_losses, label=\"test_loss\")\n",
    "fig_plot.legend(loc=\"upper right\")\n",
    "fig_plot.set_xlabel(\"epoch\")\n",
    "fig_plot.set_ylabel(\"loss\")\n",
    "fig_plot.grid(linestyle=\"--\")\n",
    "fig.savefig(\"losses_plot.png\")"
   ]
  },
  {
   "cell_type": "code",
   "execution_count": null,
   "metadata": {},
   "outputs": [],
   "source": [
    "fig = plt.figure()\n",
    "fig_plot = fig.add_subplot()\n",
    "fig_plot.plot(train_accuracyVec, label=\"train_accuracy\")\n",
    "fig_plot.plot(test_accuracyVec, label=\"test_accuracy\")\n",
    "fig_plot.legend(loc=\"lower right\")\n",
    "fig_plot.set_xlabel(\"epoch\")\n",
    "fig_plot.set_ylabel(\"accuracy\")\n",
    "fig_plot.grid(linestyle=\"--\")\n",
    "fig.savefig(\"accuracy_plot.png\")"
   ]
  },
  {
   "cell_type": "code",
   "execution_count": null,
   "metadata": {},
   "outputs": [],
   "source": []
  }
 ],
 "metadata": {
  "accelerator": "GPU",
  "colab": {
   "collapsed_sections": [],
   "include_colab_link": true,
   "name": "Distributed Transformer.ipynb",
   "provenance": [],
   "toc_visible": true
  },
  "kernelspec": {
   "display_name": "Python 3",
   "language": "python",
   "name": "python3"
  },
  "language_info": {
   "codemirror_mode": {
    "name": "ipython",
    "version": 3
   },
   "file_extension": ".py",
   "mimetype": "text/x-python",
   "name": "python",
   "nbconvert_exporter": "python",
   "pygments_lexer": "ipython3",
   "version": "3.6.8"
  }
 },
 "nbformat": 4,
 "nbformat_minor": 1
}
