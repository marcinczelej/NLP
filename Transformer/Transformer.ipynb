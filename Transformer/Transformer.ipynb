{
 "cells": [
  {
   "cell_type": "markdown",
   "metadata": {
    "colab_type": "text",
    "id": "view-in-github"
   },
   "source": [
    "<a href=\"https://colab.research.google.com/github/mizzmir/NLP/blob/master/Transformer/Transformer.ipynb\" target=\"_parent\"><img src=\"https://colab.research.google.com/assets/colab-badge.svg\" alt=\"Open In Colab\"/></a>"
   ]
  },
  {
   "cell_type": "code",
   "execution_count": 1,
   "metadata": {
    "colab": {
     "base_uri": "https://localhost:8080/",
     "height": 35
    },
    "colab_type": "code",
    "id": "160XBLnmv-sP",
    "outputId": "0dc07fda-b244-4cdd-a880-83f8e6d53603"
   },
   "outputs": [],
   "source": [
    "collab = False\n",
    "if collab:\n",
    "    !pip install tensorflow-gpu --quiet\n",
    "    !git clone https://github.com/mizzmir/NLP.git"
   ]
  },
  {
   "cell_type": "code",
   "execution_count": 2,
   "metadata": {
    "colab": {},
    "colab_type": "code",
    "id": "nHsXhZrJv_cX"
   },
   "outputs": [],
   "source": [
    "import os\n",
    "import sys\n",
    "import tensorflow as tf\n",
    "import numpy as np\n",
    "\n",
    "from sklearn.model_selection import train_test_split\n",
    "from tensorflow.keras.preprocessing.text import Tokenizer\n",
    "\n",
    "if collab:\n",
    "  sys.path.insert(0, r\"./NLP/utilities\")\n",
    "  data_dir = \"./NLP/data\"\n",
    "else:\n",
    "  sys.path.insert(0, r\"../utilities\")\n",
    "  data_dir = \"../data\"\n",
    "\n",
    "from utils import *\n",
    "from model import *\n",
    "from TransformerTrainer import *"
   ]
  },
  {
   "cell_type": "code",
   "execution_count": 3,
   "metadata": {
    "colab": {
     "base_uri": "https://localhost:8080/",
     "height": 53
    },
    "colab_type": "code",
    "id": "8T85ncKrVRYC",
    "outputId": "2e6b25b1-6bb5-41ef-dddc-66add264379c"
   },
   "outputs": [
    {
     "name": "stdout",
     "output_type": "stream",
     "text": [
      "input shape  (64, 62)\n",
      "(64, 62, 10)\n"
     ]
    }
   ],
   "source": [
    "data = tf.random.uniform((64, 62), dtype=tf.int64, minval=0, maxval=200)\n",
    "print(\"input shape \", data.shape)\n",
    "padding_mask = makePaddingMask(data)\n",
    "\n",
    "encoder = Encoder(embedding_size=10,\n",
    "                  max_sentence_len=1000,\n",
    "                  vocab_size=3000,\n",
    "                  blocks_amount=3,\n",
    "                  heads_number=5, \n",
    "                  dff=2048)\n",
    "encoder_out  = encoder(data, mask=padding_mask)\n",
    "print(encoder_out.shape)"
   ]
  },
  {
   "cell_type": "code",
   "execution_count": 4,
   "metadata": {
    "colab": {
     "base_uri": "https://localhost:8080/",
     "height": 53
    },
    "colab_type": "code",
    "id": "F8Wb0q1bvlxa",
    "outputId": "a2ff194a-db80-4366-cb80-c3b70c9db55f"
   },
   "outputs": [
    {
     "name": "stdout",
     "output_type": "stream",
     "text": [
      "Decoder input shape  (64, 26)\n",
      "decoder_out  (64, 26, 10)\n"
     ]
    }
   ],
   "source": [
    "input_data = np.ones((64, 26))\n",
    "mask = makeSequenceMask(input_data.shape[1])\n",
    "print(\"Decoder input shape \", input_data.shape)\n",
    "blocks_amount = 2\n",
    "heads = 5\n",
    "en_vocab_size = 100\n",
    "fr_vocab_size = 200\n",
    "decoder = Decoder(embedding_size=10,\n",
    "                  max_sentence_len=1000,\n",
    "                  vocab_size=100,\n",
    "                  blocks_amount=3,\n",
    "                  heads_number=5, \n",
    "                  dff=2048)\n",
    "\"\"\"\n",
    "decoder masks are :\n",
    "- encoder_padding_mask - padding mask made on encoder input data\n",
    "- decoder sequences mask - sequence mask made on decoder input data\n",
    "\"\"\"\n",
    "decoder_out  = decoder(encoder_out, input_data, pad_mask=None, elements_mask=None)\n",
    "print(\"decoder_out \", decoder_out.shape)"
   ]
  },
  {
   "cell_type": "code",
   "execution_count": 5,
   "metadata": {
    "colab": {
     "base_uri": "https://localhost:8080/",
     "height": 72
    },
    "colab_type": "code",
    "id": "mrJPalvR37Xp",
    "outputId": "dc7d2809-1d06-4fd0-a87d-db65927ed738"
   },
   "outputs": [
    {
     "name": "stdout",
     "output_type": "stream",
     "text": [
      "output_data  (64, 29)\n",
      "elements_mask  (29, 29)\n",
      "(64, 29, 7001)\n"
     ]
    }
   ],
   "source": [
    "transformer_model = Transformer(embedding_size=512,\n",
    "                                dff=2048,\n",
    "                                input_max_seq_length=2000,\n",
    "                                output_max_seq_length=1855,\n",
    "                                input_vocab_size=4980,\n",
    "                                output_vocab_size=7001,\n",
    "                                encoder_blocks=4,\n",
    "                                decoder_blocks=2,\n",
    "                                heads=8)\n",
    "\n",
    "# input_data and output_data\n",
    "input_data = tf.random.uniform((64, 52), dtype=tf.int64, minval=0, maxval=100)\n",
    "output_data = tf.random.uniform((64, 29), dtype=tf.int64, minval=0, maxval=250)\n",
    "\n",
    "encoder_pad_mask = makePaddingMask(input_data)\n",
    "elements_mask = makeSequenceMask(output_data.shape[1])\n",
    "print(\"output_data \", output_data.shape)\n",
    "print(\"elements_mask \", elements_mask.shape)\n",
    "transformer_output = transformer_model(input_data, output_data, encoder_pad_mask, elements_mask)\n",
    "print(transformer_output.shape)"
   ]
  },
  {
   "cell_type": "code",
   "execution_count": 6,
   "metadata": {
    "colab": {},
    "colab_type": "code",
    "id": "_aYQcBaGlWk7"
   },
   "outputs": [],
   "source": [
    "BATCH_SIZE = 64\n",
    "EPOCHS = 10\n",
    "num_layers = 4 # 6\n",
    "d_model = 128 # 512\n",
    "dff = 512  # 2048\n",
    "num_heads = 8 "
   ]
  },
  {
   "cell_type": "code",
   "execution_count": 7,
   "metadata": {
    "colab": {
     "base_uri": "https://localhost:8080/",
     "height": 53
    },
    "colab_type": "code",
    "id": "bq1qufXuXYqW",
    "outputId": "2b56364b-8194-4c4d-fffb-a0bc82ad5949"
   },
   "outputs": [
    {
     "name": "stdout",
     "output_type": "stream",
     "text": [
      "reading data from  ../data/small_vocab_en\n",
      "reading data from  ../data/small_vocab_fr\n",
      "en_vocab 203\n",
      "fr_vocab 336\n"
     ]
    }
   ],
   "source": [
    "    data_dir = \"../data\"\n",
    "    # reading data\n",
    "\n",
    "    en_lines, fr_lines = read_data_files(data_dir, (\"small_vocab_en\", \"small_vocab_fr\"))\n",
    "    \"\"\"\n",
    "    data = read_data(os.path.join(data_dir, \"fra-eng\"), \"fra.txt\")\n",
    "    en_lines, fr_lines = list(zip(*data))\n",
    "    \n",
    "    en_lines = en_lines[:30000]\n",
    "    fr_lines = fr_lines[:30000]\n",
    "    \"\"\"\n",
    "    en_lines = [normalize(line) for line in en_lines]\n",
    "    fr_lines = [normalize(line) for line in fr_lines]\n",
    "\n",
    "    en_train, en_test, fr_train, fr_test = train_test_split(en_lines, fr_lines, shuffle=True, test_size=0.1)\n",
    "\n",
    "    fr_train_in = ['<start> ' + line for line in fr_train]\n",
    "    fr_train_out = [line + ' <end>' for line in fr_train]\n",
    "\n",
    "    fr_test_in = ['<start> ' + line for line in fr_test]\n",
    "    fr_test_out = [line + ' <end>' for line in fr_test]\n",
    "\n",
    "    fr_tokenizer = Tokenizer(filters='')\n",
    "    en_tokenizer = Tokenizer(filters='')\n",
    "\n",
    "    input_data = [fr_train_in, fr_train_out, fr_test_in, fr_test_out, fr_test, fr_train]\n",
    "    fr_train_in, fr_train_out, fr_test_in, fr_test_out, fr_test, fr_train = tokenizeInput(input_data,\n",
    "                                                                                          fr_tokenizer)\n",
    "\n",
    "    input_data = [en_train, en_test]\n",
    "    en_train, en_test = tokenizeInput(input_data, en_tokenizer)\n",
    "\n",
    "    en_vocab_size = len(en_tokenizer.word_index)+1\n",
    "    fr_vocab_size = len(fr_tokenizer.word_index)+1\n",
    "    print(\"en_vocab {}\\nfr_vocab {}\" .format(en_vocab_size, fr_vocab_size))"
   ]
  },
  {
   "cell_type": "code",
   "execution_count": 8,
   "metadata": {},
   "outputs": [],
   "source": [
    "trainer = TransformerTrainer(BATCH_SIZE, num_layers, d_model, dff, num_heads, 1)"
   ]
  },
  {
   "cell_type": "code",
   "execution_count": 9,
   "metadata": {
    "scrolled": false
   },
   "outputs": [
    {
     "name": "stdout",
     "output_type": "stream",
     "text": [
      "en_vocab 203\n",
      "fr_vocab 336\n",
      "Number of devices: 4\n",
      "creating dataset...\n",
      "training from scratch\n",
      "INFO:tensorflow:batch_all_reduce: 170 all-reduces with algorithm = nccl, num_packs = 1, agg_small_grads_max_bytes = 0 and agg_small_grads_max_group = 10\n",
      "WARNING:tensorflow:Efficient allreduce is not supported for 2 IndexedSlices\n",
      "INFO:tensorflow:Reduce to /job:localhost/replica:0/task:0/device:GPU:0 then broadcast to ('/job:localhost/replica:0/task:0/device:GPU:0', '/job:localhost/replica:0/task:0/device:GPU:1', '/job:localhost/replica:0/task:0/device:GPU:2', '/job:localhost/replica:0/task:0/device:GPU:3').\n",
      "INFO:tensorflow:Reduce to /job:localhost/replica:0/task:0/device:GPU:0 then broadcast to ('/job:localhost/replica:0/task:0/device:GPU:0', '/job:localhost/replica:0/task:0/device:GPU:1', '/job:localhost/replica:0/task:0/device:GPU:2', '/job:localhost/replica:0/task:0/device:GPU:3').\n",
      "INFO:tensorflow:Reduce to /job:localhost/replica:0/task:0/device:CPU:0 then broadcast to ('/job:localhost/replica:0/task:0/device:CPU:0',).\n",
      "INFO:tensorflow:batch_all_reduce: 170 all-reduces with algorithm = nccl, num_packs = 1, agg_small_grads_max_bytes = 0 and agg_small_grads_max_group = 10\n",
      "WARNING:tensorflow:Efficient allreduce is not supported for 2 IndexedSlices\n",
      "INFO:tensorflow:Reduce to /job:localhost/replica:0/task:0/device:GPU:0 then broadcast to ('/job:localhost/replica:0/task:0/device:GPU:0', '/job:localhost/replica:0/task:0/device:GPU:1', '/job:localhost/replica:0/task:0/device:GPU:2', '/job:localhost/replica:0/task:0/device:GPU:3').\n",
      "INFO:tensorflow:Reduce to /job:localhost/replica:0/task:0/device:GPU:0 then broadcast to ('/job:localhost/replica:0/task:0/device:GPU:0', '/job:localhost/replica:0/task:0/device:GPU:1', '/job:localhost/replica:0/task:0/device:GPU:2', '/job:localhost/replica:0/task:0/device:GPU:3').\n",
      "INFO:tensorflow:Reduce to /job:localhost/replica:0/task:0/device:CPU:0 then broadcast to ('/job:localhost/replica:0/task:0/device:CPU:0',).\n",
      "INFO:tensorflow:Reduce to /job:localhost/replica:0/task:0/device:CPU:0 then broadcast to ('/job:localhost/replica:0/task:0/device:CPU:0',).\n",
      "Epoch 1 training Loss 47.0803 Accuracy 0.2358  test Loss 15.0676 Accuracy 0.5190\n",
      "           English   : ['the united states is wonderful during april and it is sometimes rainy in may .']\n",
      "           Predicted : les etats-unis est parfois agreable en avril et il est parfois agreable en avril .\n",
      "           Correct   : ['les etats-unis est merveilleux en avril et il est parfois pluvieux en mai . <end>']\n",
      "Saving checkpoint for epoch 0: ./checkpoints/train/ckpt-1\n",
      "Epoch 2 training Loss 8.1771 Accuracy 0.5350  test Loss 1.5319 Accuracy 0.7007\n",
      "           English   : ['india is sometimes cold during september but it is wonderful in autumn .']\n",
      "           Predicted : l inde est parfois froid en septembre mais il est merveilleux a l automne .\n",
      "           Correct   : ['l inde est parfois froid au mois de septembre mais il est merveilleux a l automne . <end>']\n",
      "Epoch 3 training Loss 1.4118 Accuracy 0.6111  test Loss 0.6945 Accuracy 0.7112\n",
      "           English   : ['i like mangoes grapes and bananas .']\n",
      "           Predicted : j aime les mangues les raisins et les bananes .\n",
      "           Correct   : ['j aime les mangues les raisins et les bananes . <end>']\n",
      "Epoch 4 training Loss 0.7854 Accuracy 0.6180  test Loss 0.4951 Accuracy 0.7145\n",
      "           English   : ['she likes lemons grapes and bananas .']\n",
      "           Predicted : elle aime les citrons les raisins et les bananes .\n",
      "           Correct   : ['elle aime les citrons les raisins et les bananes . <end>']\n",
      "Epoch 5 training Loss 0.5952 Accuracy 0.6204  test Loss 0.3959 Accuracy 0.7161\n",
      "           English   : ['france is usually warm during april but it is mild in february .']\n",
      "           Predicted : la france est habituellement chaud en avril mais il est doux en fevrier .\n",
      "           Correct   : ['la france est habituellement chaud en avril mais il est doux en fevrier . <end>']\n",
      "Epoch 6 training Loss 0.5125 Accuracy 0.6216  test Loss 0.4039 Accuracy 0.7163\n",
      "           English   : ['the united states is wonderful during april and it is sometimes rainy in may .']\n",
      "           Predicted : les etats-unis est merveilleux en avril et il est parfois pluvieux en mai .\n",
      "           Correct   : ['les etats-unis est merveilleux en avril et il est parfois pluvieux en mai . <end>']\n",
      "Saving checkpoint for epoch 5: ./checkpoints/train/ckpt-2\n",
      "Epoch 7 training Loss 0.4666 Accuracy 0.6223  test Loss 0.3506 Accuracy 0.7170\n",
      "           English   : ['china is sometimes busy during autumn and it is sometimes freezing in august .']\n",
      "           Predicted : la chine est parfois occupe pendant l automne et il est parfois le gel en aout\n",
      "           Correct   : ['la chine est parfois occupe pendant l automne et il est parfois le gel en aout . <end>']\n",
      "Epoch 8 training Loss 0.4342 Accuracy 0.6228  test Loss 0.3572 Accuracy 0.7167\n",
      "           English   : ['the united states is sometimes warm during spring but it is never busy in january .']\n",
      "           Predicted : les etats-unis est parfois chaud au printemps mais il est jamais occupe en janvier .\n",
      "           Correct   : ['les etats-unis est parfois chaud au printemps mais il est jamais occupe en janvier . <end>']\n",
      "Epoch 9 training Loss 0.3990 Accuracy 0.6233  test Loss 0.3356 Accuracy 0.7177\n",
      "           English   : ['new jersey is sometimes freezing during july and it is sometimes cold in fall .']\n",
      "           Predicted : new jersey est parfois le gel en juillet et il est parfois froid a l automne\n",
      "           Correct   : ['new jersey est parfois le gel en juillet et il est parfois froid a l automne . <end>']\n",
      "Epoch 10 training Loss 0.3452 Accuracy 0.6240  test Loss 0.2660 Accuracy 0.7181\n",
      "           English   : ['the united states is never wet during august but it is sometimes hot in autumn .']\n",
      "           Predicted : les etats-unis est jamais humide au mois d aout mais il est parfois chaud a l\n",
      "           Correct   : ['les etats-unis est jamais humide au mois d aout mais il est parfois chaud a l automne . <end>']\n",
      "Epoch 11 training Loss 0.3068 Accuracy 0.6245  test Loss 0.2741 Accuracy 0.7184\n",
      "           English   : ['india is never rainy during march and it is never beautiful in fall .']\n",
      "           Predicted : l inde est jamais pluvieux en mars et il est jamais belle a l automne .\n",
      "           Correct   : ['l inde est jamais pluvieux en mars et il est jamais belle a l automne . <end>']\n",
      "Saving checkpoint for epoch 10: ./checkpoints/train/ckpt-3\n",
      "Epoch 12 training Loss 0.2792 Accuracy 0.6249  test Loss 0.2492 Accuracy 0.7188\n",
      "           English   : ['india is never relaxing during may but it is usually chilly in spring .']\n",
      "           Predicted : l inde est jamais relaxant au mois de mai mais il est generalement froid au printemps\n",
      "           Correct   : ['l inde est jamais relaxant au mois de mai mais il est generalement froid au printemps . <end>']\n",
      "Epoch 13 training Loss 0.2500 Accuracy 0.6253  test Loss 0.2284 Accuracy 0.7190\n",
      "           English   : ['france is sometimes hot during june and it is usually rainy in december .']\n",
      "           Predicted : la france est parfois chaud en juin et il est generalement pluvieux en decembre .\n",
      "           Correct   : ['la france est parfois chaud en juin et il est generalement pluvieux en decembre . <end>']\n",
      "Epoch 14 training Loss 0.2335 Accuracy 0.6255  test Loss 0.2250 Accuracy 0.7191\n",
      "           English   : ['the pear is their least liked fruit but the mango is her least liked .']\n",
      "           Predicted : la poire est leur fruit moins aime mais la mangue elle est moins aime .\n",
      "           Correct   : ['la poire est leur fruit moins aime mais la mangue elle est moins aime . <end>']\n",
      "Epoch 15 training Loss 0.2181 Accuracy 0.6257  test Loss 0.2047 Accuracy 0.7192\n",
      "           English   : ['new jersey is usually freezing during september but it is rainy in spring .']\n",
      "           Predicted : new jersey est le gel habituellement en septembre mais il est pluvieux au printemps .\n",
      "           Correct   : ['new jersey est le gel habituellement en septembre mais il est pluvieux au printemps . <end>']\n",
      "Epoch 16 training Loss 0.1994 Accuracy 0.6260  test Loss 0.1902 Accuracy 0.7193\n",
      "           English   : ['paris is hot during summer but it is busy in february .']\n",
      "           Predicted : paris est chaud pendant l ete mais il est occupe en fevrier .\n",
      "           Correct   : ['paris est chaud pendant l ete mais il est occupe en fevrier . <end>']\n"
     ]
    },
    {
     "name": "stdout",
     "output_type": "stream",
     "text": [
      "Saving checkpoint for epoch 15: ./checkpoints/train/ckpt-4\n",
      "Epoch 17 training Loss 0.1873 Accuracy 0.6261  test Loss 0.1869 Accuracy 0.7198\n",
      "           English   : ['he dislikes limes strawberries and peaches .']\n",
      "           Predicted : il aime pas citrons verts les fraises et les peches .\n",
      "           Correct   : ['il aime pas citrons verts les fraises et les peches . <end>']\n",
      "Epoch 18 training Loss 0.1764 Accuracy 0.6262  test Loss 0.1868 Accuracy 0.7197\n",
      "           English   : ['they like grapefruit oranges and mangoes .']\n",
      "           Predicted : ils aiment le pamplemousse les oranges et les mangues .\n",
      "           Correct   : ['ils aiment le pamplemousse les oranges et les mangues . <end>']\n",
      "Epoch 19 training Loss 0.1650 Accuracy 0.6264  test Loss 0.1752 Accuracy 0.7199\n",
      "           English   : ['i like bananas peaches and limes .']\n",
      "           Predicted : j aime les bananes les peches et les citrons verts .\n",
      "           Correct   : ['j aime les bananes les peches et les citrons verts . <end>']\n",
      "Epoch 20 training Loss 0.1593 Accuracy 0.6265  test Loss 0.1789 Accuracy 0.7198\n",
      "           English   : ['we plan to visit the united states in october .']\n",
      "           Predicted : nous prevoyons de visiter les etats-unis en octobre .\n",
      "           Correct   : ['nous prevoyons de visiter les etats-unis en octobre . <end>']\n",
      "Saving checkpoint for end at ./checkpoints/train/ckpt-5\n"
     ]
    }
   ],
   "source": [
    "losses, accuracy= trainer.train([en_train, fr_train_in, fr_train_out], [en_test, fr_test_in, fr_test_out], [en_tokenizer, fr_tokenizer], 20, False)"
   ]
  },
  {
   "cell_type": "code",
   "execution_count": 11,
   "metadata": {},
   "outputs": [],
   "source": [
    "train_losses, test_losses = losses \n",
    "train_accuracyVec, test_accuracyVec = accuracy"
   ]
  },
  {
   "cell_type": "code",
   "execution_count": 12,
   "metadata": {
    "colab": {},
    "colab_type": "code",
    "id": "LbMbzlWzc_7C"
   },
   "outputs": [
    {
     "data": {
      "image/png": "[encoded data removed]",
      "text/plain": [
       "<Figure size 432x288 with 1 Axes>"
      ]
     },
     "metadata": {
      "needs_background": "light"
     },
     "output_type": "display_data"
    }
   ],
   "source": [
    "import matplotlib.pyplot as plt\n",
    "fig = plt.figure()\n",
    "fig_plot = fig.add_subplot()\n",
    "fig_plot.plot(train_losses, label=\"train_loss\")\n",
    "fig_plot.plot(test_losses, label=\"test_loss\")\n",
    "fig_plot.legend(loc=\"upper right\")\n",
    "fig_plot.set_xlabel(\"epoch\")\n",
    "fig_plot.set_ylabel(\"loss\")\n",
    "fig_plot.grid(linestyle=\"--\")\n",
    "fig.savefig(\"losses_plot.png\")"
   ]
  },
  {
   "cell_type": "code",
   "execution_count": 13,
   "metadata": {},
   "outputs": [
    {
     "data": {
      "image/png": "[encoded data removed]",
      "text/plain": [
       "<Figure size 432x288 with 1 Axes>"
      ]
     },
     "metadata": {
      "needs_background": "light"
     },
     "output_type": "display_data"
    }
   ],
   "source": [
    "fig = plt.figure()\n",
    "fig_plot = fig.add_subplot()\n",
    "fig_plot.plot(train_accuracyVec, label=\"train_accuracy\")\n",
    "fig_plot.plot(test_accuracyVec, label=\"test_accuracy\")\n",
    "fig_plot.legend(loc=\"lower right\")\n",
    "fig_plot.set_xlabel(\"epoch\")\n",
    "fig_plot.set_ylabel(\"accuracy\")\n",
    "fig_plot.grid(linestyle=\"--\")\n",
    "fig.savefig(\"accuracy_plot.png\")"
   ]
  },
  {
   "cell_type": "code",
   "execution_count": null,
   "metadata": {},
   "outputs": [],
   "source": []
  }
 ],
 "metadata": {
  "accelerator": "GPU",
  "colab": {
   "collapsed_sections": [],
   "include_colab_link": true,
   "name": "Distributed Transformer.ipynb",
   "provenance": [],
   "toc_visible": true
  },
  "kernelspec": {
   "display_name": "Python 3",
   "language": "python",
   "name": "python3"
  },
  "language_info": {
   "codemirror_mode": {
    "name": "ipython",
    "version": 3
   },
   "file_extension": ".py",
   "mimetype": "text/x-python",
   "name": "python",
   "nbconvert_exporter": "python",
   "pygments_lexer": "ipython3",
   "version": "3.6.8"
  }
 },
 "nbformat": 4,
 "nbformat_minor": 1
}
