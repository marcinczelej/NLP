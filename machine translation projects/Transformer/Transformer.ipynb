{
 "cells": [
  {
   "cell_type": "markdown",
   "metadata": {
    "colab_type": "text",
    "id": "view-in-github"
   },
   "source": [
    "<a href=\"https://colab.research.google.com/github/mizzmir/NLP/blob/master/Transformer/Transformer.ipynb\" target=\"_parent\"><img src=\"https://colab.research.google.com/assets/colab-badge.svg\" alt=\"Open In Colab\"/></a>"
   ]
  },
  {
   "cell_type": "code",
   "execution_count": 1,
   "metadata": {
    "colab": {
     "base_uri": "https://localhost:8080/",
     "height": 35
    },
    "colab_type": "code",
    "id": "160XBLnmv-sP",
    "outputId": "0dc07fda-b244-4cdd-a880-83f8e6d53603"
   },
   "outputs": [],
   "source": [
    "collab = False\n",
    "if collab:\n",
    "    !pip install tensorflow-gpu --quiet\n",
    "    !git clone https://github.com/mizzmir/NLP.git"
   ]
  },
  {
   "cell_type": "code",
   "execution_count": 2,
   "metadata": {
    "colab": {},
    "colab_type": "code",
    "id": "nHsXhZrJv_cX"
   },
   "outputs": [],
   "source": [
    "import os\n",
    "import sys\n",
    "import tensorflow as tf\n",
    "import tensorflow_datasets as tfds\n",
    "import numpy as np\n",
    "import matplotlib.pyplot as plt\n",
    "\n",
    "from sklearn.utils import shuffle\n",
    "from sklearn.model_selection import train_test_split\n",
    "\n",
    "if collab:\n",
    "  sys.path.insert(0, r\"./NLP/utilities\")\n",
    "  data_dir = \"./NLP/data\"\n",
    "else:\n",
    "  sys.path.insert(0, r\"../utilities\")\n",
    "  data_dir = \"../data\"\n",
    "\n",
    "from utils import *\n",
    "from model import *\n",
    "from TransformerTrainer import *"
   ]
  },
  {
   "cell_type": "code",
   "execution_count": 3,
   "metadata": {
    "colab": {
     "base_uri": "https://localhost:8080/",
     "height": 53
    },
    "colab_type": "code",
    "id": "8T85ncKrVRYC",
    "outputId": "2e6b25b1-6bb5-41ef-dddc-66add264379c"
   },
   "outputs": [
    {
     "name": "stdout",
     "output_type": "stream",
     "text": [
      "input shape  (64, 62)\n",
      "(64, 62, 10)\n"
     ]
    }
   ],
   "source": [
    "data = tf.random.uniform((64, 62), dtype=tf.int64, minval=0, maxval=200)\n",
    "print(\"input shape \", data.shape)\n",
    "padding_mask = makePaddingMask(data)\n",
    "\n",
    "encoder = Encoder(embedding_size=10,\n",
    "                  max_sentence_len=1000,\n",
    "                  vocab_size=3000,\n",
    "                  blocks_amount=3,\n",
    "                  heads_number=5, \n",
    "                  dff=2048)\n",
    "encoder_out  = encoder(data, mask=padding_mask)\n",
    "print(encoder_out.shape)"
   ]
  },
  {
   "cell_type": "code",
   "execution_count": 4,
   "metadata": {
    "colab": {
     "base_uri": "https://localhost:8080/",
     "height": 53
    },
    "colab_type": "code",
    "id": "F8Wb0q1bvlxa",
    "outputId": "a2ff194a-db80-4366-cb80-c3b70c9db55f"
   },
   "outputs": [
    {
     "name": "stdout",
     "output_type": "stream",
     "text": [
      "Decoder input shape  (64, 26)\n",
      "decoder_out  (64, 26, 10)\n"
     ]
    }
   ],
   "source": [
    "input_data = np.ones((64, 26))\n",
    "mask = makeSequenceMask(input_data.shape[1])\n",
    "print(\"Decoder input shape \", input_data.shape)\n",
    "blocks_amount = 2\n",
    "heads = 5\n",
    "en_vocab_size = 100\n",
    "fr_vocab_size = 200\n",
    "decoder = Decoder(embedding_size=10,\n",
    "                  max_sentence_len=1000,\n",
    "                  vocab_size=100,\n",
    "                  blocks_amount=3,\n",
    "                  heads_number=5, \n",
    "                  dff=2048)\n",
    "\"\"\"\n",
    "decoder masks are :\n",
    "- encoder_padding_mask - padding mask made on encoder input data\n",
    "- decoder sequences mask - sequence mask made on decoder input data\n",
    "\"\"\"\n",
    "decoder_out  = decoder(encoder_out, input_data, pad_mask=None, elements_mask=None)\n",
    "print(\"decoder_out \", decoder_out.shape)"
   ]
  },
  {
   "cell_type": "code",
   "execution_count": 5,
   "metadata": {
    "colab": {
     "base_uri": "https://localhost:8080/",
     "height": 72
    },
    "colab_type": "code",
    "id": "mrJPalvR37Xp",
    "outputId": "dc7d2809-1d06-4fd0-a87d-db65927ed738"
   },
   "outputs": [
    {
     "name": "stdout",
     "output_type": "stream",
     "text": [
      "output_data  (64, 29)\n",
      "elements_mask  (29, 29)\n",
      "(64, 29, 7001)\n"
     ]
    }
   ],
   "source": [
    "transformer_model = Transformer(embedding_size=512,\n",
    "                                dff=2048,\n",
    "                                input_max_seq_length=2000,\n",
    "                                output_max_seq_length=1855,\n",
    "                                input_vocab_size=4980,\n",
    "                                output_vocab_size=7001,\n",
    "                                encoder_blocks=4,\n",
    "                                decoder_blocks=2,\n",
    "                                heads=8)\n",
    "\n",
    "# input_data and output_data\n",
    "input_data = tf.random.uniform((64, 52), dtype=tf.int64, minval=0, maxval=100)\n",
    "output_data = tf.random.uniform((64, 29), dtype=tf.int64, minval=0, maxval=250)\n",
    "\n",
    "encoder_pad_mask = makePaddingMask(input_data)\n",
    "elements_mask = makeSequenceMask(output_data.shape[1])\n",
    "print(\"output_data \", output_data.shape)\n",
    "print(\"elements_mask \", elements_mask.shape)\n",
    "transformer_output = transformer_model(input_data, output_data, encoder_pad_mask, elements_mask)\n",
    "print(transformer_output.shape)"
   ]
  },
  {
   "cell_type": "code",
   "execution_count": 6,
   "metadata": {
    "colab": {},
    "colab_type": "code",
    "id": "_aYQcBaGlWk7"
   },
   "outputs": [],
   "source": [
    "BATCH_SIZE = 64\n",
    "EPOCHS = 10\n",
    "num_layers = 4 # 6\n",
    "d_model = 128 # 512\n",
    "dff = 512  # 2048\n",
    "num_heads = 8 "
   ]
  },
  {
   "cell_type": "code",
   "execution_count": 7,
   "metadata": {},
   "outputs": [
    {
     "name": "stdout",
     "output_type": "stream",
     "text": [
      "reading data from  ../data/fra-eng/fra.txt\n"
     ]
    }
   ],
   "source": [
    "data_dir = \"../data\"\n",
    "# en_lines, fr_lines = read_data_files(data_dir, (\"small_vocab_en\", \"small_vocab_fr\"))\n",
    "\n",
    "data = read_data(os.path.join(data_dir, \"fra-eng\"), \"fra.txt\")\n",
    "\n",
    "en_lines, fr_lines = list(zip(*data))\n",
    "en_lines, fr_lines = shuffle(en_lines, fr_lines)\n",
    "\n",
    "en_lines = en_lines[:10000]\n",
    "fr_lines = fr_lines[:10000]\n",
    "\n",
    "en_lines = [normalize(line) for line in en_lines]\n",
    "fr_lines = [normalize(line) for line in fr_lines]\n",
    "\n",
    "en_train, en_test, fr_train, fr_test = train_test_split(en_lines, fr_lines, shuffle=True, test_size=0.1)\n",
    "\n",
    "en_lines = en_test\n",
    "fr_lines = fr_test"
   ]
  },
  {
   "cell_type": "code",
   "execution_count": 8,
   "metadata": {},
   "outputs": [
    {
     "name": "stdout",
     "output_type": "stream",
     "text": [
      "en_tokenizer size  6278\n",
      "fr_tokenizer size  8436\n"
     ]
    }
   ],
   "source": [
    "# creating tokenizers\n",
    "en_tokenizer = tfds.features.text.SubwordTextEncoder.build_from_corpus(\n",
    "    (en for en in en_train), target_vocab_size=2**13)\n",
    "\n",
    "fr_tokenizer = tfds.features.text.SubwordTextEncoder.build_from_corpus(\n",
    "    (fr for fr in fr_train), target_vocab_size=2**13)\n",
    "\n",
    "print(\"en_tokenizer size \", en_tokenizer.vocab_size)\n",
    "print(\"fr_tokenizer size \", fr_tokenizer.vocab_size)"
   ]
  },
  {
   "cell_type": "code",
   "execution_count": 9,
   "metadata": {},
   "outputs": [],
   "source": [
    "from tensorflow.keras.preprocessing.sequence import pad_sequences\n",
    "\n",
    "# train dataset\n",
    "fr_train_in = [[fr_tokenizer.vocab_size] + fr_tokenizer.encode(line) for line in fr_train]\n",
    "fr_train_out = [fr_tokenizer.encode(line) + [fr_tokenizer.vocab_size+1] for line in fr_train]\n",
    "\n",
    "fr_train_in = pad_sequences(fr_train_in, padding='post')\n",
    "fr_train_out = pad_sequences(fr_train_out, padding='post')\n",
    "\n",
    "# test dataset\n",
    "fr_test_in = [[fr_tokenizer.vocab_size] + fr_tokenizer.encode(line) for line in fr_test]\n",
    "fr_test_out = [fr_tokenizer.encode(line) + [fr_tokenizer.vocab_size+1] for line in fr_test]\n",
    "\n",
    "fr_test_in = pad_sequences(fr_test_in, padding='post')\n",
    "fr_test_out = pad_sequences(fr_test_out, padding='post')\n",
    "\n",
    "en_vocab_size = en_tokenizer.vocab_size\n",
    "fr_vocab_size = fr_tokenizer.vocab_size + 2"
   ]
  },
  {
   "cell_type": "code",
   "execution_count": 10,
   "metadata": {},
   "outputs": [
    {
     "name": "stdout",
     "output_type": "stream",
     "text": [
      "WARNING:tensorflow:There is non-GPU devices in `tf.distribute.Strategy`, not using nccl allreduce.\n"
     ]
    },
    {
     "name": "stderr",
     "output_type": "stream",
     "text": [
      "WARNING:tensorflow:There is non-GPU devices in `tf.distribute.Strategy`, not using nccl allreduce.\n"
     ]
    }
   ],
   "source": [
    "trainer = TransformerTrainer(batch_size=BATCH_SIZE,\n",
    "                             num_layers=num_layers, \n",
    "                             d_model=d_model,\n",
    "                             dff=dff,\n",
    "                             num_heads=num_heads,\n",
    "                             tokenizers=[en_tokenizer, fr_tokenizer],\n",
    "                             predict_every=1)"
   ]
  },
  {
   "cell_type": "code",
   "execution_count": 11,
   "metadata": {
    "scrolled": false
   },
   "outputs": [
    {
     "name": "stdout",
     "output_type": "stream",
     "text": [
      "en_vocab 6278\n",
      "fr_vocab 8438\n",
      "Number of devices: 1\n",
      "creating dataset...\n",
      "prediction input :  Do you mind if I change the channel ?\n",
      "prediction output:  Voyez-vous un inconvenient a ce que je change de chaine ?\n",
      "training from scratch\n",
      "INFO:tensorflow:Error reported to Coordinator: in converted code:\n",
      "\n",
      "    /shared/machine translation projects/Transformer/TransformerTrainer.py:196 train_step  *\n",
      "        encoder_pad_mask = makePaddingMask(input_data)\n",
      "    /shared/machine translation projects/Transformer/model.py:187 makePaddingMask  *\n",
      "        mask = tf.math.equal(sequence, 0)\n",
      "    /usr/local/lib/python3.6/dist-packages/tensorflow_core/python/util/dispatch.py:180 wrapper\n",
      "        return target(*args, **kwargs)\n",
      "    /usr/local/lib/python3.6/dist-packages/tensorflow_core/python/ops/math_ops.py:1306 equal\n",
      "        return gen_math_ops.equal(x, y, name=name)\n",
      "    /usr/local/lib/python3.6/dist-packages/tensorflow_core/python/ops/gen_math_ops.py:3627 equal\n",
      "        name=name)\n",
      "    /usr/local/lib/python3.6/dist-packages/tensorflow_core/python/framework/op_def_library.py:536 _apply_op_helper\n",
      "        repr(values), type(values).__name__, err))\n",
      "\n",
      "    TypeError: Expected string passed to parameter 'y' of op 'Equal', got 0 of type 'int' instead. Error: Expected string, got 0 of type 'int' instead.\n",
      "Traceback (most recent call last):\n",
      "  File \"/usr/local/lib/python3.6/dist-packages/tensorflow_core/python/training/coordinator.py\", line 297, in stop_on_exception\n",
      "    yield\n",
      "  File \"/usr/local/lib/python3.6/dist-packages/tensorflow_core/python/distribute/mirrored_strategy.py\", line 879, in run\n",
      "    self.main_result = self.main_fn(*self.main_args, **self.main_kwargs)\n",
      "  File \"/usr/local/lib/python3.6/dist-packages/tensorflow_core/python/autograph/impl/api.py\", line 237, in wrapper\n",
      "    raise e.ag_error_metadata.to_exception(e)\n",
      "TypeError: in converted code:\n",
      "\n",
      "    /shared/machine translation projects/Transformer/TransformerTrainer.py:196 train_step  *\n",
      "        encoder_pad_mask = makePaddingMask(input_data)\n",
      "    /shared/machine translation projects/Transformer/model.py:187 makePaddingMask  *\n",
      "        mask = tf.math.equal(sequence, 0)\n",
      "    /usr/local/lib/python3.6/dist-packages/tensorflow_core/python/util/dispatch.py:180 wrapper\n",
      "        return target(*args, **kwargs)\n",
      "    /usr/local/lib/python3.6/dist-packages/tensorflow_core/python/ops/math_ops.py:1306 equal\n",
      "        return gen_math_ops.equal(x, y, name=name)\n",
      "    /usr/local/lib/python3.6/dist-packages/tensorflow_core/python/ops/gen_math_ops.py:3627 equal\n",
      "        name=name)\n",
      "    /usr/local/lib/python3.6/dist-packages/tensorflow_core/python/framework/op_def_library.py:536 _apply_op_helper\n",
      "        repr(values), type(values).__name__, err))\n",
      "\n",
      "    TypeError: Expected string passed to parameter 'y' of op 'Equal', got 0 of type 'int' instead. Error: Expected string, got 0 of type 'int' instead.\n",
      "\n"
     ]
    },
    {
     "name": "stderr",
     "output_type": "stream",
     "text": [
      "INFO:tensorflow:Error reported to Coordinator: in converted code:\n",
      "\n",
      "    /shared/machine translation projects/Transformer/TransformerTrainer.py:196 train_step  *\n",
      "        encoder_pad_mask = makePaddingMask(input_data)\n",
      "    /shared/machine translation projects/Transformer/model.py:187 makePaddingMask  *\n",
      "        mask = tf.math.equal(sequence, 0)\n",
      "    /usr/local/lib/python3.6/dist-packages/tensorflow_core/python/util/dispatch.py:180 wrapper\n",
      "        return target(*args, **kwargs)\n",
      "    /usr/local/lib/python3.6/dist-packages/tensorflow_core/python/ops/math_ops.py:1306 equal\n",
      "        return gen_math_ops.equal(x, y, name=name)\n",
      "    /usr/local/lib/python3.6/dist-packages/tensorflow_core/python/ops/gen_math_ops.py:3627 equal\n",
      "        name=name)\n",
      "    /usr/local/lib/python3.6/dist-packages/tensorflow_core/python/framework/op_def_library.py:536 _apply_op_helper\n",
      "        repr(values), type(values).__name__, err))\n",
      "\n",
      "    TypeError: Expected string passed to parameter 'y' of op 'Equal', got 0 of type 'int' instead. Error: Expected string, got 0 of type 'int' instead.\n",
      "Traceback (most recent call last):\n",
      "  File \"/usr/local/lib/python3.6/dist-packages/tensorflow_core/python/training/coordinator.py\", line 297, in stop_on_exception\n",
      "    yield\n",
      "  File \"/usr/local/lib/python3.6/dist-packages/tensorflow_core/python/distribute/mirrored_strategy.py\", line 879, in run\n",
      "    self.main_result = self.main_fn(*self.main_args, **self.main_kwargs)\n",
      "  File \"/usr/local/lib/python3.6/dist-packages/tensorflow_core/python/autograph/impl/api.py\", line 237, in wrapper\n",
      "    raise e.ag_error_metadata.to_exception(e)\n",
      "TypeError: in converted code:\n",
      "\n",
      "    /shared/machine translation projects/Transformer/TransformerTrainer.py:196 train_step  *\n",
      "        encoder_pad_mask = makePaddingMask(input_data)\n",
      "    /shared/machine translation projects/Transformer/model.py:187 makePaddingMask  *\n",
      "        mask = tf.math.equal(sequence, 0)\n",
      "    /usr/local/lib/python3.6/dist-packages/tensorflow_core/python/util/dispatch.py:180 wrapper\n",
      "        return target(*args, **kwargs)\n",
      "    /usr/local/lib/python3.6/dist-packages/tensorflow_core/python/ops/math_ops.py:1306 equal\n",
      "        return gen_math_ops.equal(x, y, name=name)\n",
      "    /usr/local/lib/python3.6/dist-packages/tensorflow_core/python/ops/gen_math_ops.py:3627 equal\n",
      "        name=name)\n",
      "    /usr/local/lib/python3.6/dist-packages/tensorflow_core/python/framework/op_def_library.py:536 _apply_op_helper\n",
      "        repr(values), type(values).__name__, err))\n",
      "\n",
      "    TypeError: Expected string passed to parameter 'y' of op 'Equal', got 0 of type 'int' instead. Error: Expected string, got 0 of type 'int' instead.\n",
      "\n"
     ]
    },
    {
     "ename": "TypeError",
     "evalue": "in converted code:\n\n    /shared/machine translation projects/Transformer/TransformerTrainer.py:216 distributed_train_step  *\n        per_replica_losses = self.strategy.experimental_run_v2(train_step,\n    /usr/local/lib/python3.6/dist-packages/tensorflow_core/python/distribute/distribute_lib.py:760 experimental_run_v2\n        return self._extended.call_for_each_replica(fn, args=args, kwargs=kwargs)\n    /shared/machine translation projects/Transformer/TransformerTrainer.py:196 train_step  *\n        encoder_pad_mask = makePaddingMask(input_data)\n    /shared/machine translation projects/Transformer/model.py:187 makePaddingMask  *\n        mask = tf.math.equal(sequence, 0)\n    /usr/local/lib/python3.6/dist-packages/tensorflow_core/python/util/dispatch.py:180 wrapper\n        return target(*args, **kwargs)\n    /usr/local/lib/python3.6/dist-packages/tensorflow_core/python/ops/math_ops.py:1306 equal\n        return gen_math_ops.equal(x, y, name=name)\n    /usr/local/lib/python3.6/dist-packages/tensorflow_core/python/ops/gen_math_ops.py:3627 equal\n        name=name)\n    /usr/local/lib/python3.6/dist-packages/tensorflow_core/python/framework/op_def_library.py:536 _apply_op_helper\n        repr(values), type(values).__name__, err))\n\n    TypeError: Expected string passed to parameter 'y' of op 'Equal', got 0 of type 'int' instead. Error: Expected string, got 0 of type 'int' instead.\n",
     "output_type": "error",
     "traceback": [
      "\u001b[0;31m---------------------------------------------------------------------------\u001b[0m",
      "\u001b[0;31mTypeError\u001b[0m                                 Traceback (most recent call last)",
      "\u001b[0;32m<ipython-input-11-14493fb177c7>\u001b[0m in \u001b[0;36m<module>\u001b[0;34m\u001b[0m\n\u001b[1;32m      2\u001b[0m                                 \u001b[0mtest_data\u001b[0m\u001b[0;34m=\u001b[0m\u001b[0;34m[\u001b[0m\u001b[0men_test\u001b[0m\u001b[0;34m,\u001b[0m \u001b[0mfr_test_in\u001b[0m\u001b[0;34m,\u001b[0m \u001b[0mfr_test_out\u001b[0m\u001b[0;34m]\u001b[0m\u001b[0;34m,\u001b[0m\u001b[0;34m\u001b[0m\u001b[0;34m\u001b[0m\u001b[0m\n\u001b[1;32m      3\u001b[0m                                 \u001b[0mprediction_data\u001b[0m\u001b[0;34m=\u001b[0m\u001b[0;34m[\u001b[0m\u001b[0men_lines\u001b[0m\u001b[0;34m,\u001b[0m \u001b[0mfr_lines\u001b[0m\u001b[0;34m]\u001b[0m\u001b[0;34m,\u001b[0m\u001b[0;34m\u001b[0m\u001b[0;34m\u001b[0m\u001b[0m\n\u001b[0;32m----> 4\u001b[0;31m                                 epochs=1)\n\u001b[0m",
      "\u001b[0;32m/shared/machine translation projects/Transformer/TransformerTrainer.py\u001b[0m in \u001b[0;36mtrain\u001b[0;34m(self, train_data, test_data, prediction_data, epochs, restore_checkpoint)\u001b[0m\n\u001b[1;32m    251\u001b[0m \u001b[0;34m\u001b[0m\u001b[0m\n\u001b[1;32m    252\u001b[0m               \u001b[0;32mfor\u001b[0m \u001b[0m_\u001b[0m\u001b[0;34m,\u001b[0m \u001b[0;34m(\u001b[0m\u001b[0men_data\u001b[0m\u001b[0;34m,\u001b[0m \u001b[0mfr_data_in\u001b[0m\u001b[0;34m,\u001b[0m \u001b[0mfr_train_out\u001b[0m\u001b[0;34m)\u001b[0m \u001b[0;32min\u001b[0m \u001b[0menumerate\u001b[0m\u001b[0;34m(\u001b[0m\u001b[0mtrain_dataset_distr\u001b[0m\u001b[0;34m)\u001b[0m\u001b[0;34m:\u001b[0m\u001b[0;34m\u001b[0m\u001b[0;34m\u001b[0m\u001b[0m\n\u001b[0;32m--> 253\u001b[0;31m                   \u001b[0mloss\u001b[0m \u001b[0;34m=\u001b[0m \u001b[0mdistributed_train_step\u001b[0m\u001b[0;34m(\u001b[0m\u001b[0men_data\u001b[0m\u001b[0;34m,\u001b[0m \u001b[0mfr_data_in\u001b[0m\u001b[0;34m,\u001b[0m \u001b[0mfr_train_out\u001b[0m\u001b[0;34m)\u001b[0m\u001b[0;34m\u001b[0m\u001b[0;34m\u001b[0m\u001b[0m\n\u001b[0m\u001b[1;32m    254\u001b[0m                   \u001b[0mtotal_loss\u001b[0m \u001b[0;34m+=\u001b[0m \u001b[0mloss\u001b[0m\u001b[0;34m\u001b[0m\u001b[0;34m\u001b[0m\u001b[0m\n\u001b[1;32m    255\u001b[0m                   \u001b[0mnum_batches\u001b[0m \u001b[0;34m+=\u001b[0m \u001b[0;36m1\u001b[0m\u001b[0;34m\u001b[0m\u001b[0;34m\u001b[0m\u001b[0m\n",
      "\u001b[0;32m/usr/local/lib/python3.6/dist-packages/tensorflow_core/python/eager/def_function.py\u001b[0m in \u001b[0;36m__call__\u001b[0;34m(self, *args, **kwds)\u001b[0m\n\u001b[1;32m    455\u001b[0m \u001b[0;34m\u001b[0m\u001b[0m\n\u001b[1;32m    456\u001b[0m     \u001b[0mtracing_count\u001b[0m \u001b[0;34m=\u001b[0m \u001b[0mself\u001b[0m\u001b[0;34m.\u001b[0m\u001b[0m_get_tracing_count\u001b[0m\u001b[0;34m(\u001b[0m\u001b[0;34m)\u001b[0m\u001b[0;34m\u001b[0m\u001b[0;34m\u001b[0m\u001b[0m\n\u001b[0;32m--> 457\u001b[0;31m     \u001b[0mresult\u001b[0m \u001b[0;34m=\u001b[0m \u001b[0mself\u001b[0m\u001b[0;34m.\u001b[0m\u001b[0m_call\u001b[0m\u001b[0;34m(\u001b[0m\u001b[0;34m*\u001b[0m\u001b[0margs\u001b[0m\u001b[0;34m,\u001b[0m \u001b[0;34m**\u001b[0m\u001b[0mkwds\u001b[0m\u001b[0;34m)\u001b[0m\u001b[0;34m\u001b[0m\u001b[0;34m\u001b[0m\u001b[0m\n\u001b[0m\u001b[1;32m    458\u001b[0m     \u001b[0;32mif\u001b[0m \u001b[0mtracing_count\u001b[0m \u001b[0;34m==\u001b[0m \u001b[0mself\u001b[0m\u001b[0;34m.\u001b[0m\u001b[0m_get_tracing_count\u001b[0m\u001b[0;34m(\u001b[0m\u001b[0;34m)\u001b[0m\u001b[0;34m:\u001b[0m\u001b[0;34m\u001b[0m\u001b[0;34m\u001b[0m\u001b[0m\n\u001b[1;32m    459\u001b[0m       \u001b[0mself\u001b[0m\u001b[0;34m.\u001b[0m\u001b[0m_call_counter\u001b[0m\u001b[0;34m.\u001b[0m\u001b[0mcalled_without_tracing\u001b[0m\u001b[0;34m(\u001b[0m\u001b[0;34m)\u001b[0m\u001b[0;34m\u001b[0m\u001b[0;34m\u001b[0m\u001b[0m\n",
      "\u001b[0;32m/usr/local/lib/python3.6/dist-packages/tensorflow_core/python/eager/def_function.py\u001b[0m in \u001b[0;36m_call\u001b[0;34m(self, *args, **kwds)\u001b[0m\n\u001b[1;32m    501\u001b[0m       \u001b[0;31m# This is the first call of __call__, so we have to initialize.\u001b[0m\u001b[0;34m\u001b[0m\u001b[0;34m\u001b[0m\u001b[0;34m\u001b[0m\u001b[0m\n\u001b[1;32m    502\u001b[0m       \u001b[0minitializer_map\u001b[0m \u001b[0;34m=\u001b[0m \u001b[0mobject_identity\u001b[0m\u001b[0;34m.\u001b[0m\u001b[0mObjectIdentityDictionary\u001b[0m\u001b[0;34m(\u001b[0m\u001b[0;34m)\u001b[0m\u001b[0;34m\u001b[0m\u001b[0;34m\u001b[0m\u001b[0m\n\u001b[0;32m--> 503\u001b[0;31m       \u001b[0mself\u001b[0m\u001b[0;34m.\u001b[0m\u001b[0m_initialize\u001b[0m\u001b[0;34m(\u001b[0m\u001b[0margs\u001b[0m\u001b[0;34m,\u001b[0m \u001b[0mkwds\u001b[0m\u001b[0;34m,\u001b[0m \u001b[0madd_initializers_to\u001b[0m\u001b[0;34m=\u001b[0m\u001b[0minitializer_map\u001b[0m\u001b[0;34m)\u001b[0m\u001b[0;34m\u001b[0m\u001b[0;34m\u001b[0m\u001b[0m\n\u001b[0m\u001b[1;32m    504\u001b[0m     \u001b[0;32mfinally\u001b[0m\u001b[0;34m:\u001b[0m\u001b[0;34m\u001b[0m\u001b[0;34m\u001b[0m\u001b[0m\n\u001b[1;32m    505\u001b[0m       \u001b[0;31m# At this point we know that the initialization is complete (or less\u001b[0m\u001b[0;34m\u001b[0m\u001b[0;34m\u001b[0m\u001b[0;34m\u001b[0m\u001b[0m\n",
      "\u001b[0;32m/usr/local/lib/python3.6/dist-packages/tensorflow_core/python/eager/def_function.py\u001b[0m in \u001b[0;36m_initialize\u001b[0;34m(self, args, kwds, add_initializers_to)\u001b[0m\n\u001b[1;32m    406\u001b[0m     self._concrete_stateful_fn = (\n\u001b[1;32m    407\u001b[0m         self._stateful_fn._get_concrete_function_internal_garbage_collected(  # pylint: disable=protected-access\n\u001b[0;32m--> 408\u001b[0;31m             *args, **kwds))\n\u001b[0m\u001b[1;32m    409\u001b[0m \u001b[0;34m\u001b[0m\u001b[0m\n\u001b[1;32m    410\u001b[0m     \u001b[0;32mdef\u001b[0m \u001b[0minvalid_creator_scope\u001b[0m\u001b[0;34m(\u001b[0m\u001b[0;34m*\u001b[0m\u001b[0munused_args\u001b[0m\u001b[0;34m,\u001b[0m \u001b[0;34m**\u001b[0m\u001b[0munused_kwds\u001b[0m\u001b[0;34m)\u001b[0m\u001b[0;34m:\u001b[0m\u001b[0;34m\u001b[0m\u001b[0;34m\u001b[0m\u001b[0m\n",
      "\u001b[0;32m/usr/local/lib/python3.6/dist-packages/tensorflow_core/python/eager/function.py\u001b[0m in \u001b[0;36m_get_concrete_function_internal_garbage_collected\u001b[0;34m(self, *args, **kwargs)\u001b[0m\n\u001b[1;32m   1846\u001b[0m     \u001b[0;32mif\u001b[0m \u001b[0mself\u001b[0m\u001b[0;34m.\u001b[0m\u001b[0minput_signature\u001b[0m\u001b[0;34m:\u001b[0m\u001b[0;34m\u001b[0m\u001b[0;34m\u001b[0m\u001b[0m\n\u001b[1;32m   1847\u001b[0m       \u001b[0margs\u001b[0m\u001b[0;34m,\u001b[0m \u001b[0mkwargs\u001b[0m \u001b[0;34m=\u001b[0m \u001b[0;32mNone\u001b[0m\u001b[0;34m,\u001b[0m \u001b[0;32mNone\u001b[0m\u001b[0;34m\u001b[0m\u001b[0;34m\u001b[0m\u001b[0m\n\u001b[0;32m-> 1848\u001b[0;31m     \u001b[0mgraph_function\u001b[0m\u001b[0;34m,\u001b[0m \u001b[0m_\u001b[0m\u001b[0;34m,\u001b[0m \u001b[0m_\u001b[0m \u001b[0;34m=\u001b[0m \u001b[0mself\u001b[0m\u001b[0;34m.\u001b[0m\u001b[0m_maybe_define_function\u001b[0m\u001b[0;34m(\u001b[0m\u001b[0margs\u001b[0m\u001b[0;34m,\u001b[0m \u001b[0mkwargs\u001b[0m\u001b[0;34m)\u001b[0m\u001b[0;34m\u001b[0m\u001b[0;34m\u001b[0m\u001b[0m\n\u001b[0m\u001b[1;32m   1849\u001b[0m     \u001b[0;32mreturn\u001b[0m \u001b[0mgraph_function\u001b[0m\u001b[0;34m\u001b[0m\u001b[0;34m\u001b[0m\u001b[0m\n\u001b[1;32m   1850\u001b[0m \u001b[0;34m\u001b[0m\u001b[0m\n",
      "\u001b[0;32m/usr/local/lib/python3.6/dist-packages/tensorflow_core/python/eager/function.py\u001b[0m in \u001b[0;36m_maybe_define_function\u001b[0;34m(self, args, kwargs)\u001b[0m\n\u001b[1;32m   2148\u001b[0m         \u001b[0mgraph_function\u001b[0m \u001b[0;34m=\u001b[0m \u001b[0mself\u001b[0m\u001b[0;34m.\u001b[0m\u001b[0m_function_cache\u001b[0m\u001b[0;34m.\u001b[0m\u001b[0mprimary\u001b[0m\u001b[0;34m.\u001b[0m\u001b[0mget\u001b[0m\u001b[0;34m(\u001b[0m\u001b[0mcache_key\u001b[0m\u001b[0;34m,\u001b[0m \u001b[0;32mNone\u001b[0m\u001b[0;34m)\u001b[0m\u001b[0;34m\u001b[0m\u001b[0;34m\u001b[0m\u001b[0m\n\u001b[1;32m   2149\u001b[0m         \u001b[0;32mif\u001b[0m \u001b[0mgraph_function\u001b[0m \u001b[0;32mis\u001b[0m \u001b[0;32mNone\u001b[0m\u001b[0;34m:\u001b[0m\u001b[0;34m\u001b[0m\u001b[0;34m\u001b[0m\u001b[0m\n\u001b[0;32m-> 2150\u001b[0;31m           \u001b[0mgraph_function\u001b[0m \u001b[0;34m=\u001b[0m \u001b[0mself\u001b[0m\u001b[0;34m.\u001b[0m\u001b[0m_create_graph_function\u001b[0m\u001b[0;34m(\u001b[0m\u001b[0margs\u001b[0m\u001b[0;34m,\u001b[0m \u001b[0mkwargs\u001b[0m\u001b[0;34m)\u001b[0m\u001b[0;34m\u001b[0m\u001b[0;34m\u001b[0m\u001b[0m\n\u001b[0m\u001b[1;32m   2151\u001b[0m           \u001b[0mself\u001b[0m\u001b[0;34m.\u001b[0m\u001b[0m_function_cache\u001b[0m\u001b[0;34m.\u001b[0m\u001b[0mprimary\u001b[0m\u001b[0;34m[\u001b[0m\u001b[0mcache_key\u001b[0m\u001b[0;34m]\u001b[0m \u001b[0;34m=\u001b[0m \u001b[0mgraph_function\u001b[0m\u001b[0;34m\u001b[0m\u001b[0;34m\u001b[0m\u001b[0m\n\u001b[1;32m   2152\u001b[0m         \u001b[0;32mreturn\u001b[0m \u001b[0mgraph_function\u001b[0m\u001b[0;34m,\u001b[0m \u001b[0margs\u001b[0m\u001b[0;34m,\u001b[0m \u001b[0mkwargs\u001b[0m\u001b[0;34m\u001b[0m\u001b[0;34m\u001b[0m\u001b[0m\n",
      "\u001b[0;32m/usr/local/lib/python3.6/dist-packages/tensorflow_core/python/eager/function.py\u001b[0m in \u001b[0;36m_create_graph_function\u001b[0;34m(self, args, kwargs, override_flat_arg_shapes)\u001b[0m\n\u001b[1;32m   2039\u001b[0m             \u001b[0marg_names\u001b[0m\u001b[0;34m=\u001b[0m\u001b[0marg_names\u001b[0m\u001b[0;34m,\u001b[0m\u001b[0;34m\u001b[0m\u001b[0;34m\u001b[0m\u001b[0m\n\u001b[1;32m   2040\u001b[0m             \u001b[0moverride_flat_arg_shapes\u001b[0m\u001b[0;34m=\u001b[0m\u001b[0moverride_flat_arg_shapes\u001b[0m\u001b[0;34m,\u001b[0m\u001b[0;34m\u001b[0m\u001b[0;34m\u001b[0m\u001b[0m\n\u001b[0;32m-> 2041\u001b[0;31m             capture_by_value=self._capture_by_value),\n\u001b[0m\u001b[1;32m   2042\u001b[0m         \u001b[0mself\u001b[0m\u001b[0;34m.\u001b[0m\u001b[0m_function_attributes\u001b[0m\u001b[0;34m,\u001b[0m\u001b[0;34m\u001b[0m\u001b[0;34m\u001b[0m\u001b[0m\n\u001b[1;32m   2043\u001b[0m         \u001b[0;31m# Tell the ConcreteFunction to clean up its graph once it goes out of\u001b[0m\u001b[0;34m\u001b[0m\u001b[0;34m\u001b[0m\u001b[0;34m\u001b[0m\u001b[0m\n",
      "\u001b[0;32m/usr/local/lib/python3.6/dist-packages/tensorflow_core/python/framework/func_graph.py\u001b[0m in \u001b[0;36mfunc_graph_from_py_func\u001b[0;34m(name, python_func, args, kwargs, signature, func_graph, autograph, autograph_options, add_control_dependencies, arg_names, op_return_value, collections, capture_by_value, override_flat_arg_shapes)\u001b[0m\n\u001b[1;32m    913\u001b[0m                                           converted_func)\n\u001b[1;32m    914\u001b[0m \u001b[0;34m\u001b[0m\u001b[0m\n\u001b[0;32m--> 915\u001b[0;31m       \u001b[0mfunc_outputs\u001b[0m \u001b[0;34m=\u001b[0m \u001b[0mpython_func\u001b[0m\u001b[0;34m(\u001b[0m\u001b[0;34m*\u001b[0m\u001b[0mfunc_args\u001b[0m\u001b[0;34m,\u001b[0m \u001b[0;34m**\u001b[0m\u001b[0mfunc_kwargs\u001b[0m\u001b[0;34m)\u001b[0m\u001b[0;34m\u001b[0m\u001b[0;34m\u001b[0m\u001b[0m\n\u001b[0m\u001b[1;32m    916\u001b[0m \u001b[0;34m\u001b[0m\u001b[0m\n\u001b[1;32m    917\u001b[0m       \u001b[0;31m# invariant: `func_outputs` contains only Tensors, CompositeTensors,\u001b[0m\u001b[0;34m\u001b[0m\u001b[0;34m\u001b[0m\u001b[0;34m\u001b[0m\u001b[0m\n",
      "\u001b[0;32m/usr/local/lib/python3.6/dist-packages/tensorflow_core/python/eager/def_function.py\u001b[0m in \u001b[0;36mwrapped_fn\u001b[0;34m(*args, **kwds)\u001b[0m\n\u001b[1;32m    356\u001b[0m         \u001b[0;31m# __wrapped__ allows AutoGraph to swap in a converted function. We give\u001b[0m\u001b[0;34m\u001b[0m\u001b[0;34m\u001b[0m\u001b[0;34m\u001b[0m\u001b[0m\n\u001b[1;32m    357\u001b[0m         \u001b[0;31m# the function a weak reference to itself to avoid a reference cycle.\u001b[0m\u001b[0;34m\u001b[0m\u001b[0;34m\u001b[0m\u001b[0;34m\u001b[0m\u001b[0m\n\u001b[0;32m--> 358\u001b[0;31m         \u001b[0;32mreturn\u001b[0m \u001b[0mweak_wrapped_fn\u001b[0m\u001b[0;34m(\u001b[0m\u001b[0;34m)\u001b[0m\u001b[0;34m.\u001b[0m\u001b[0m__wrapped__\u001b[0m\u001b[0;34m(\u001b[0m\u001b[0;34m*\u001b[0m\u001b[0margs\u001b[0m\u001b[0;34m,\u001b[0m \u001b[0;34m**\u001b[0m\u001b[0mkwds\u001b[0m\u001b[0;34m)\u001b[0m\u001b[0;34m\u001b[0m\u001b[0;34m\u001b[0m\u001b[0m\n\u001b[0m\u001b[1;32m    359\u001b[0m     \u001b[0mweak_wrapped_fn\u001b[0m \u001b[0;34m=\u001b[0m \u001b[0mweakref\u001b[0m\u001b[0;34m.\u001b[0m\u001b[0mref\u001b[0m\u001b[0;34m(\u001b[0m\u001b[0mwrapped_fn\u001b[0m\u001b[0;34m)\u001b[0m\u001b[0;34m\u001b[0m\u001b[0;34m\u001b[0m\u001b[0m\n\u001b[1;32m    360\u001b[0m \u001b[0;34m\u001b[0m\u001b[0m\n",
      "\u001b[0;32m/usr/local/lib/python3.6/dist-packages/tensorflow_core/python/framework/func_graph.py\u001b[0m in \u001b[0;36mwrapper\u001b[0;34m(*args, **kwargs)\u001b[0m\n\u001b[1;32m    903\u001b[0m           \u001b[0;32mexcept\u001b[0m \u001b[0mException\u001b[0m \u001b[0;32mas\u001b[0m \u001b[0me\u001b[0m\u001b[0;34m:\u001b[0m  \u001b[0;31m# pylint:disable=broad-except\u001b[0m\u001b[0;34m\u001b[0m\u001b[0;34m\u001b[0m\u001b[0m\n\u001b[1;32m    904\u001b[0m             \u001b[0;32mif\u001b[0m \u001b[0mhasattr\u001b[0m\u001b[0;34m(\u001b[0m\u001b[0me\u001b[0m\u001b[0;34m,\u001b[0m \u001b[0;34m\"ag_error_metadata\"\u001b[0m\u001b[0;34m)\u001b[0m\u001b[0;34m:\u001b[0m\u001b[0;34m\u001b[0m\u001b[0;34m\u001b[0m\u001b[0m\n\u001b[0;32m--> 905\u001b[0;31m               \u001b[0;32mraise\u001b[0m \u001b[0me\u001b[0m\u001b[0;34m.\u001b[0m\u001b[0mag_error_metadata\u001b[0m\u001b[0;34m.\u001b[0m\u001b[0mto_exception\u001b[0m\u001b[0;34m(\u001b[0m\u001b[0me\u001b[0m\u001b[0;34m)\u001b[0m\u001b[0;34m\u001b[0m\u001b[0;34m\u001b[0m\u001b[0m\n\u001b[0m\u001b[1;32m    906\u001b[0m             \u001b[0;32melse\u001b[0m\u001b[0;34m:\u001b[0m\u001b[0;34m\u001b[0m\u001b[0;34m\u001b[0m\u001b[0m\n\u001b[1;32m    907\u001b[0m               \u001b[0;32mraise\u001b[0m\u001b[0;34m\u001b[0m\u001b[0;34m\u001b[0m\u001b[0m\n",
      "\u001b[0;31mTypeError\u001b[0m: in converted code:\n\n    /shared/machine translation projects/Transformer/TransformerTrainer.py:216 distributed_train_step  *\n        per_replica_losses = self.strategy.experimental_run_v2(train_step,\n    /usr/local/lib/python3.6/dist-packages/tensorflow_core/python/distribute/distribute_lib.py:760 experimental_run_v2\n        return self._extended.call_for_each_replica(fn, args=args, kwargs=kwargs)\n    /shared/machine translation projects/Transformer/TransformerTrainer.py:196 train_step  *\n        encoder_pad_mask = makePaddingMask(input_data)\n    /shared/machine translation projects/Transformer/model.py:187 makePaddingMask  *\n        mask = tf.math.equal(sequence, 0)\n    /usr/local/lib/python3.6/dist-packages/tensorflow_core/python/util/dispatch.py:180 wrapper\n        return target(*args, **kwargs)\n    /usr/local/lib/python3.6/dist-packages/tensorflow_core/python/ops/math_ops.py:1306 equal\n        return gen_math_ops.equal(x, y, name=name)\n    /usr/local/lib/python3.6/dist-packages/tensorflow_core/python/ops/gen_math_ops.py:3627 equal\n        name=name)\n    /usr/local/lib/python3.6/dist-packages/tensorflow_core/python/framework/op_def_library.py:536 _apply_op_helper\n        repr(values), type(values).__name__, err))\n\n    TypeError: Expected string passed to parameter 'y' of op 'Equal', got 0 of type 'int' instead. Error: Expected string, got 0 of type 'int' instead.\n"
     ]
    }
   ],
   "source": [
    "losses, accuracy= trainer.train(train_data=[en_train, fr_train_in, fr_train_out],\n",
    "                                test_data=[en_test, fr_test_in, fr_test_out],\n",
    "                                prediction_data=[en_lines, fr_lines],\n",
    "                                epochs=1)"
   ]
  },
  {
   "cell_type": "code",
   "execution_count": null,
   "metadata": {},
   "outputs": [],
   "source": [
    "train_losses, test_losses = losses \n",
    "train_accuracyVec, test_accuracyVec = accuracy"
   ]
  },
  {
   "cell_type": "code",
   "execution_count": null,
   "metadata": {
    "colab": {},
    "colab_type": "code",
    "id": "LbMbzlWzc_7C"
   },
   "outputs": [],
   "source": [
    "fig = plt.figure()\n",
    "fig_plot = fig.add_subplot()\n",
    "fig_plot.plot(train_losses, label=\"train_loss\")\n",
    "fig_plot.plot(test_losses, label=\"test_loss\")\n",
    "fig_plot.legend(loc=\"upper right\")\n",
    "fig_plot.set_xlabel(\"epoch\")\n",
    "fig_plot.set_ylabel(\"loss\")\n",
    "fig_plot.grid(linestyle=\"--\")\n",
    "fig.savefig(\"losses_plot.png\")"
   ]
  },
  {
   "cell_type": "code",
   "execution_count": null,
   "metadata": {},
   "outputs": [],
   "source": [
    "fig = plt.figure()\n",
    "fig_plot = fig.add_subplot()\n",
    "fig_plot.plot(train_accuracyVec, label=\"train_accuracy\")\n",
    "fig_plot.plot(test_accuracyVec, label=\"test_accuracy\")\n",
    "fig_plot.legend(loc=\"lower right\")\n",
    "fig_plot.set_xlabel(\"epoch\")\n",
    "fig_plot.set_ylabel(\"accuracy\")\n",
    "fig_plot.grid(linestyle=\"--\")\n",
    "fig.savefig(\"accuracy_plot.png\")"
   ]
  },
  {
   "cell_type": "code",
   "execution_count": null,
   "metadata": {
    "scrolled": false
   },
   "outputs": [],
   "source": [
    "transformer_model = trainer.transformer_model\n",
    "checkpoint_path = trainer.checkpoint_path\n",
    "\n",
    "loadWeights(transformer_model, checkpoint_path)"
   ]
  },
  {
   "cell_type": "code",
   "execution_count": null,
   "metadata": {},
   "outputs": [],
   "source": [
    "trainer.predict()"
   ]
  }
 ],
 "metadata": {
  "accelerator": "GPU",
  "colab": {
   "collapsed_sections": [],
   "include_colab_link": true,
   "name": "Distributed Transformer.ipynb",
   "provenance": [],
   "toc_visible": true
  },
  "kernelspec": {
   "display_name": "Python 3",
   "language": "python",
   "name": "python3"
  },
  "language_info": {
   "codemirror_mode": {
    "name": "ipython",
    "version": 3
   },
   "file_extension": ".py",
   "mimetype": "text/x-python",
   "name": "python",
   "nbconvert_exporter": "python",
   "pygments_lexer": "ipython3",
   "version": "3.6.8"
  }
 },
 "nbformat": 4,
 "nbformat_minor": 1
}
