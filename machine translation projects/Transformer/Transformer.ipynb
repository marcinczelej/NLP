{
 "cells": [
  {
   "cell_type": "markdown",
   "metadata": {
    "colab_type": "text",
    "id": "view-in-github"
   },
   "source": [
    "<a href=\"https://colab.research.google.com/github/mizzmir/NLP/blob/master/Transformer/Transformer.ipynb\" target=\"_parent\"><img src=\"https://colab.research.google.com/assets/colab-badge.svg\" alt=\"Open In Colab\"/></a>"
   ]
  },
  {
   "cell_type": "code",
   "execution_count": 1,
   "metadata": {
    "colab": {
     "base_uri": "https://localhost:8080/",
     "height": 35
    },
    "colab_type": "code",
    "id": "160XBLnmv-sP",
    "outputId": "0dc07fda-b244-4cdd-a880-83f8e6d53603"
   },
   "outputs": [],
   "source": [
    "collab = False\n",
    "if collab:\n",
    "    !pip install tensorflow-gpu --quiet\n",
    "    !git clone https://github.com/mizzmir/NLP.git"
   ]
  },
  {
   "cell_type": "code",
   "execution_count": 2,
   "metadata": {
    "colab": {},
    "colab_type": "code",
    "id": "nHsXhZrJv_cX"
   },
   "outputs": [],
   "source": [
    "import os\n",
    "import sys\n",
    "import tensorflow as tf\n",
    "import tensorflow_datasets as tfds\n",
    "import numpy as np\n",
    "import matplotlib.pyplot as plt\n",
    "\n",
    "from sklearn.utils import shuffle\n",
    "from sklearn.model_selection import train_test_split\n",
    "from tensorflow.keras.preprocessing.sequence import pad_sequences\n",
    "\n",
    "if collab:\n",
    "  sys.path.insert(0, r\"./NLP/utilities\")\n",
    "  data_dir = \"./NLP/data\"\n",
    "else:\n",
    "  sys.path.insert(0, r\"../utilities\")\n",
    "  data_dir = \"../data\"\n",
    "\n",
    "from utils import *\n",
    "from model import *\n",
    "from TransformerTrainer import *\n",
    "from model import *\n",
    "\n",
    "tf.get_logger().setLevel('WARNING')"
   ]
  },
  {
   "cell_type": "code",
   "execution_count": 3,
   "metadata": {
    "colab": {
     "base_uri": "https://localhost:8080/",
     "height": 53
    },
    "colab_type": "code",
    "id": "8T85ncKrVRYC",
    "outputId": "2e6b25b1-6bb5-41ef-dddc-66add264379c"
   },
   "outputs": [
    {
     "name": "stdout",
     "output_type": "stream",
     "text": [
      "input shape  (64, 62)\n",
      "(64, 62, 10)\n"
     ]
    }
   ],
   "source": [
    "data = tf.random.uniform((64, 62), dtype=tf.int64, minval=0, maxval=200)\n",
    "print(\"input shape \", data.shape)\n",
    "padding_mask = makePaddingMask(data)\n",
    "\n",
    "encoder = Encoder(embedding_size=10,\n",
    "                  max_sentence_len=1000,\n",
    "                  vocab_size=3000,\n",
    "                  blocks_amount=3,\n",
    "                  heads_number=5, \n",
    "                  dff=2048)\n",
    "encoder_out  = encoder(data, mask=padding_mask)\n",
    "print(encoder_out.shape)"
   ]
  },
  {
   "cell_type": "code",
   "execution_count": 4,
   "metadata": {
    "colab": {
     "base_uri": "https://localhost:8080/",
     "height": 53
    },
    "colab_type": "code",
    "id": "F8Wb0q1bvlxa",
    "outputId": "a2ff194a-db80-4366-cb80-c3b70c9db55f"
   },
   "outputs": [
    {
     "name": "stdout",
     "output_type": "stream",
     "text": [
      "Decoder input shape  (64, 26)\n",
      "decoder_out  (64, 26, 10)\n"
     ]
    }
   ],
   "source": [
    "input_data = np.ones((64, 26))\n",
    "mask = makeSequenceMask(input_data.shape[1])\n",
    "print(\"Decoder input shape \", input_data.shape)\n",
    "blocks_amount = 2\n",
    "heads = 5\n",
    "en_vocab_size = 100\n",
    "fr_vocab_size = 200\n",
    "decoder = Decoder(embedding_size=10,\n",
    "                  max_sentence_len=1000,\n",
    "                  vocab_size=100,\n",
    "                  blocks_amount=3,\n",
    "                  heads_number=5, \n",
    "                  dff=2048)\n",
    "\"\"\"\n",
    "decoder masks are :\n",
    "- encoder_padding_mask - padding mask made on encoder input data\n",
    "- decoder sequences mask - sequence mask made on decoder input data\n",
    "\"\"\"\n",
    "decoder_out  = decoder(encoder_out, input_data, pad_mask=None, elements_mask=None)\n",
    "print(\"decoder_out \", decoder_out.shape)"
   ]
  },
  {
   "cell_type": "code",
   "execution_count": 5,
   "metadata": {
    "colab": {
     "base_uri": "https://localhost:8080/",
     "height": 72
    },
    "colab_type": "code",
    "id": "mrJPalvR37Xp",
    "outputId": "dc7d2809-1d06-4fd0-a87d-db65927ed738"
   },
   "outputs": [
    {
     "name": "stdout",
     "output_type": "stream",
     "text": [
      "output_data  (64, 29)\n",
      "elements_mask  (29, 29)\n",
      "(64, 29, 7001)\n"
     ]
    }
   ],
   "source": [
    "transformer_model = Transformer(embedding_size=512,\n",
    "                                dff=2048,\n",
    "                                input_max_seq_length=2000,\n",
    "                                output_max_seq_length=1855,\n",
    "                                input_vocab_size=4980,\n",
    "                                output_vocab_size=7001,\n",
    "                                encoder_blocks=4,\n",
    "                                decoder_blocks=2,\n",
    "                                heads=8)\n",
    "\n",
    "# input_data and output_data\n",
    "input_data = tf.random.uniform((64, 52), dtype=tf.int64, minval=0, maxval=100)\n",
    "output_data = tf.random.uniform((64, 29), dtype=tf.int64, minval=0, maxval=250)\n",
    "\n",
    "encoder_pad_mask = makePaddingMask(input_data)\n",
    "elements_mask = makeSequenceMask(output_data.shape[1])\n",
    "print(\"output_data \", output_data.shape)\n",
    "print(\"elements_mask \", elements_mask.shape)\n",
    "transformer_output = transformer_model(input_data, output_data, encoder_pad_mask, elements_mask)\n",
    "print(transformer_output.shape)"
   ]
  },
  {
   "cell_type": "code",
   "execution_count": 6,
   "metadata": {
    "colab": {},
    "colab_type": "code",
    "id": "_aYQcBaGlWk7"
   },
   "outputs": [],
   "source": [
    "BATCH_SIZE = 64\n",
    "EPOCHS = 10\n",
    "num_layers = 4 # 6\n",
    "d_model = 128 # 512\n",
    "dff = 512  # 2048\n",
    "num_heads = 8 "
   ]
  },
  {
   "cell_type": "code",
   "execution_count": 7,
   "metadata": {},
   "outputs": [
    {
     "name": "stdout",
     "output_type": "stream",
     "text": [
      "reading data from  ../data/small_vocab_en\n",
      "reading data from  ../data/small_vocab_fr\n"
     ]
    }
   ],
   "source": [
    "data_dir = \"../data\"\n",
    "en_lines, fr_lines = read_data_files(data_dir, (\"small_vocab_en\", \"small_vocab_fr\"))\n",
    "\n",
    "#data = read_data(os.path.join(data_dir, \"fra-eng\"), \"fra.txt\")\n",
    "\n",
    "#en_lines, fr_lines = list(zip(*data))\n",
    "en_lines, fr_lines = shuffle(en_lines, fr_lines)\n",
    "\n",
    "#en_lines = en_lines[:40000]\n",
    "#fr_lines = fr_lines[:40000]\n",
    "\n",
    "en_lines = [normalize(line) for line in en_lines]\n",
    "fr_lines = [normalize(line) for line in fr_lines]\n",
    "\n",
    "en_train, en_test, fr_train, fr_test = train_test_split(en_lines, fr_lines, shuffle=True, test_size=0.1)\n",
    "\n",
    "en_lines = en_test\n",
    "fr_lines = fr_test"
   ]
  },
  {
   "cell_type": "code",
   "execution_count": 8,
   "metadata": {},
   "outputs": [
    {
     "name": "stdout",
     "output_type": "stream",
     "text": [
      "en_tokenizer size  542\n",
      "fr_tokenizer size  712\n"
     ]
    }
   ],
   "source": [
    "# creating tokenizers\n",
    "en_tokenizer = tfds.features.text.SubwordTextEncoder.build_from_corpus(\n",
    "    (en for en in en_train), target_vocab_size=2**13)\n",
    "\n",
    "fr_tokenizer = tfds.features.text.SubwordTextEncoder.build_from_corpus(\n",
    "    (fr for fr in fr_train), target_vocab_size=2**13)\n",
    "\n",
    "print(\"en_tokenizer size \", en_tokenizer.vocab_size)\n",
    "print(\"fr_tokenizer size \", fr_tokenizer.vocab_size)"
   ]
  },
  {
   "cell_type": "code",
   "execution_count": 9,
   "metadata": {},
   "outputs": [],
   "source": [
    "# train dataset\n",
    "fr_train_in = [[fr_tokenizer.vocab_size] + fr_tokenizer.encode(line) for line in fr_train]\n",
    "fr_train_out = [fr_tokenizer.encode(line) + [fr_tokenizer.vocab_size+1] for line in fr_train]\n",
    "\n",
    "fr_train_in = pad_sequences(fr_train_in, padding='post')\n",
    "fr_train_out = pad_sequences(fr_train_out, padding='post')\n",
    "\n",
    "# test dataset\n",
    "fr_test_in = [[fr_tokenizer.vocab_size] + fr_tokenizer.encode(line) for line in fr_test]\n",
    "fr_test_out = [fr_tokenizer.encode(line) + [fr_tokenizer.vocab_size+1] for line in fr_test]\n",
    "\n",
    "fr_test_in = pad_sequences(fr_test_in, padding='post')\n",
    "fr_test_out = pad_sequences(fr_test_out, padding='post')\n",
    "\n",
    "en_train = [en_tokenizer.encode(line) for line in en_train]\n",
    "en_test = [en_tokenizer.encode(line) for line in en_test]\n",
    "\n",
    "en_train = pad_sequences(en_train, padding='post')\n",
    "en_test = pad_sequences(en_test, padding='post')"
   ]
  },
  {
   "cell_type": "code",
   "execution_count": 10,
   "metadata": {},
   "outputs": [],
   "source": [
    "trainer = TransformerTrainer(batch_size=BATCH_SIZE,\n",
    "                             num_layers=num_layers, \n",
    "                             d_model=d_model,\n",
    "                             dff=dff,\n",
    "                             num_heads=num_heads,\n",
    "                             tokenizers=[en_tokenizer, fr_tokenizer],\n",
    "                             predict_every=5)"
   ]
  },
  {
   "cell_type": "code",
   "execution_count": 11,
   "metadata": {
    "scrolled": false
   },
   "outputs": [
    {
     "name": "stdout",
     "output_type": "stream",
     "text": [
      "Number of devices: 4\n",
      "creating dataset...\n",
      "prediction input :  the peach is my most loved fruit but the strawberry is her most loved . \n",
      "prediction output:  la peche est mon fruit le plus aime mais la fraise elle est le plus aime . \n",
      "training from scratch\n",
      "WARNING:tensorflow:Efficient allreduce is not supported for 2 IndexedSlices\n"
     ]
    },
    {
     "name": "stderr",
     "output_type": "stream",
     "text": [
      "WARNING:tensorflow:Efficient allreduce is not supported for 2 IndexedSlices\n"
     ]
    },
    {
     "name": "stdout",
     "output_type": "stream",
     "text": [
      "WARNING:tensorflow:Efficient allreduce is not supported for 2 IndexedSlices\n"
     ]
    },
    {
     "name": "stderr",
     "output_type": "stream",
     "text": [
      "WARNING:tensorflow:Efficient allreduce is not supported for 2 IndexedSlices\n"
     ]
    },
    {
     "name": "stdout",
     "output_type": "stream",
     "text": [
      "Epoch 1 training Loss 57.6746 Accuracy 0.2024  test Loss 19.8654 Accuracy 0.4234\n",
      "Saving checkpoint for epoch 0: ./checkpoints/train/ckpt-1\n",
      "Epoch 2 training Loss 11.5500 Accuracy 0.4896  test Loss 2.4672 Accuracy 0.6056\n",
      "Epoch 3 training Loss 1.8342 Accuracy 0.5893  test Loss 0.7828 Accuracy 0.6233\n",
      "Epoch 4 training Loss 0.8517 Accuracy 0.5988  test Loss 0.4839 Accuracy 0.6274\n",
      "Epoch 5 training Loss 0.6162 Accuracy 0.6015  test Loss 0.3897 Accuracy 0.6283\n",
      "Epoch 6 training Loss 0.5153 Accuracy 0.6027  test Loss 0.3431 Accuracy 0.6296\n",
      "----------------------------PREDICTION----------------------------\n",
      "Predicted : la peche est mon fruit le plus aime mais la fraise elle est le plus aime . \n",
      "Correct   : la peche est mon fruit le plus aime mais la fraise elle est le plus aime . \n",
      "--------------------------END PREDICTION--------------------------\n",
      "Saving checkpoint for epoch 5: ./checkpoints/train/ckpt-2\n",
      "Epoch 7 training Loss 0.4657 Accuracy 0.6034  test Loss 0.3383 Accuracy 0.6298\n",
      "Epoch 8 training Loss 0.4295 Accuracy 0.6039  test Loss 0.3107 Accuracy 0.6298\n",
      "Epoch 9 training Loss 0.3984 Accuracy 0.6043  test Loss 0.2922 Accuracy 0.6301\n",
      "Epoch 10 training Loss 0.3433 Accuracy 0.6051  test Loss 0.2631 Accuracy 0.6308\n",
      "Saving checkpoint for end at ./checkpoints/train/ckpt-3\n"
     ]
    }
   ],
   "source": [
    "losses, accuracy= trainer.train(train_data=[en_train, fr_train_in, fr_train_out],\n",
    "                                test_data=[en_test, fr_test_in, fr_test_out],\n",
    "                                prediction_data=[en_lines, fr_lines],\n",
    "                                epochs=10)"
   ]
  },
  {
   "cell_type": "code",
   "execution_count": 12,
   "metadata": {},
   "outputs": [],
   "source": [
    "train_losses, test_losses = losses \n",
    "train_accuracyVec, test_accuracyVec = accuracy"
   ]
  },
  {
   "cell_type": "code",
   "execution_count": 13,
   "metadata": {
    "colab": {},
    "colab_type": "code",
    "id": "LbMbzlWzc_7C"
   },
   "outputs": [
    {
     "data": {
      "image/png": "[encoded data removed]",
      "text/plain": [
       "<Figure size 432x288 with 1 Axes>"
      ]
     },
     "metadata": {
      "needs_background": "light"
     },
     "output_type": "display_data"
    }
   ],
   "source": [
    "fig = plt.figure()\n",
    "fig_plot = fig.add_subplot()\n",
    "fig_plot.plot(train_losses, label=\"train_loss\")\n",
    "fig_plot.plot(test_losses, label=\"test_loss\")\n",
    "fig_plot.legend(loc=\"upper right\")\n",
    "fig_plot.set_xlabel(\"epoch\")\n",
    "fig_plot.set_ylabel(\"loss\")\n",
    "fig_plot.grid(linestyle=\"--\")\n",
    "fig.savefig(\"losses_plot.png\")"
   ]
  },
  {
   "cell_type": "code",
   "execution_count": 14,
   "metadata": {},
   "outputs": [
    {
     "data": {
      "image/png": "[encoded data removed]",
      "text/plain": [
       "<Figure size 432x288 with 1 Axes>"
      ]
     },
     "metadata": {
      "needs_background": "light"
     },
     "output_type": "display_data"
    }
   ],
   "source": [
    "fig = plt.figure()\n",
    "fig_plot = fig.add_subplot()\n",
    "fig_plot.plot(train_accuracyVec, label=\"train_accuracy\")\n",
    "fig_plot.plot(test_accuracyVec, label=\"test_accuracy\")\n",
    "fig_plot.legend(loc=\"lower right\")\n",
    "fig_plot.set_xlabel(\"epoch\")\n",
    "fig_plot.set_ylabel(\"accuracy\")\n",
    "fig_plot.grid(linestyle=\"--\")\n",
    "fig.savefig(\"accuracy_plot.png\")"
   ]
  },
  {
   "cell_type": "code",
   "execution_count": 15,
   "metadata": {
    "scrolled": false
   },
   "outputs": [
    {
     "name": "stdout",
     "output_type": "stream",
     "text": [
      "Latest checkpoint restored!!\n"
     ]
    }
   ],
   "source": [
    "transformer_model = trainer.transformer_model\n",
    "checkpoint_path = trainer.checkpoint_path\n",
    "\n",
    "loadWeights(transformer_model, checkpoint_path)"
   ]
  },
  {
   "cell_type": "code",
   "execution_count": 16,
   "metadata": {},
   "outputs": [
    {
     "data": {
      "text/plain": [
       "'mes animaux les plus redoutes sont des souris . '"
      ]
     },
     "execution_count": 16,
     "metadata": {},
     "output_type": "execute_result"
    }
   ],
   "source": [
    "trainer.translate(\"What are you doing?\")"
   ]
  },
  {
   "cell_type": "code",
   "execution_count": null,
   "metadata": {},
   "outputs": [],
   "source": []
  }
 ],
 "metadata": {
  "accelerator": "GPU",
  "colab": {
   "collapsed_sections": [],
   "include_colab_link": true,
   "name": "Distributed Transformer.ipynb",
   "provenance": [],
   "toc_visible": true
  },
  "kernelspec": {
   "display_name": "Python 3",
   "language": "python",
   "name": "python3"
  },
  "language_info": {
   "codemirror_mode": {
    "name": "ipython",
    "version": 3
   },
   "file_extension": ".py",
   "mimetype": "text/x-python",
   "name": "python",
   "nbconvert_exporter": "python",
   "pygments_lexer": "ipython3",
   "version": "3.6.8"
  }
 },
 "nbformat": 4,
 "nbformat_minor": 1
}
