{
 "cells": [
  {
   "cell_type": "markdown",
   "metadata": {
    "colab_type": "text",
    "id": "view-in-github"
   },
   "source": [
    "<a href=\"https://colab.research.google.com/github/mizzmir/NLP/blob/master/Transformer/Transformer.ipynb\" target=\"_parent\"><img src=\"https://colab.research.google.com/assets/colab-badge.svg\" alt=\"Open In Colab\"/></a>"
   ]
  },
  {
   "cell_type": "code",
   "execution_count": 1,
   "metadata": {
    "colab": {
     "base_uri": "https://localhost:8080/",
     "height": 35
    },
    "colab_type": "code",
    "id": "160XBLnmv-sP",
    "outputId": "0dc07fda-b244-4cdd-a880-83f8e6d53603"
   },
   "outputs": [],
   "source": [
    "collab = False\n",
    "if collab:\n",
    "    !pip install tensorflow-gpu --quiet\n",
    "    !git clone https://github.com/mizzmir/NLP.git"
   ]
  },
  {
   "cell_type": "code",
   "execution_count": 2,
   "metadata": {
    "colab": {},
    "colab_type": "code",
    "id": "nHsXhZrJv_cX"
   },
   "outputs": [],
   "source": [
    "import os\n",
    "import sys\n",
    "import tensorflow as tf\n",
    "import numpy as np\n",
    "\n",
    "from sklearn.model_selection import train_test_split\n",
    "from tensorflow.keras.preprocessing.text import Tokenizer\n",
    "\n",
    "if collab:\n",
    "  sys.path.insert(0, r\"./NLP/utilities\")\n",
    "  data_dir = \"./NLP/data\"\n",
    "else:\n",
    "  sys.path.insert(0, r\"../utilities\")\n",
    "  data_dir = \"../data\"\n",
    "\n",
    "from utils import *\n",
    "from model import *\n",
    "from TransformerTrainer import *"
   ]
  },
  {
   "cell_type": "code",
   "execution_count": 3,
   "metadata": {
    "colab": {
     "base_uri": "https://localhost:8080/",
     "height": 53
    },
    "colab_type": "code",
    "id": "8T85ncKrVRYC",
    "outputId": "2e6b25b1-6bb5-41ef-dddc-66add264379c"
   },
   "outputs": [
    {
     "name": "stdout",
     "output_type": "stream",
     "text": [
      "input shape  (64, 62)\n",
      "(64, 62, 10)\n"
     ]
    }
   ],
   "source": [
    "data = tf.random.uniform((64, 62), dtype=tf.int64, minval=0, maxval=200)\n",
    "print(\"input shape \", data.shape)\n",
    "padding_mask = makePaddingMask(data)\n",
    "\n",
    "encoder = Encoder(embedding_size=10,\n",
    "                  max_sentence_len=1000,\n",
    "                  vocab_size=3000,\n",
    "                  blocks_amount=3,\n",
    "                  heads_number=5, \n",
    "                  dff=2048)\n",
    "encoder_out  = encoder(data, mask=padding_mask)\n",
    "print(encoder_out.shape)"
   ]
  },
  {
   "cell_type": "code",
   "execution_count": 4,
   "metadata": {
    "colab": {
     "base_uri": "https://localhost:8080/",
     "height": 53
    },
    "colab_type": "code",
    "id": "F8Wb0q1bvlxa",
    "outputId": "a2ff194a-db80-4366-cb80-c3b70c9db55f"
   },
   "outputs": [
    {
     "name": "stdout",
     "output_type": "stream",
     "text": [
      "Decoder input shape  (64, 26)\n",
      "decoder_out  (64, 26, 10)\n"
     ]
    }
   ],
   "source": [
    "input_data = np.ones((64, 26))\n",
    "mask = makeSequenceMask(input_data.shape[1])\n",
    "print(\"Decoder input shape \", input_data.shape)\n",
    "blocks_amount = 2\n",
    "heads = 5\n",
    "en_vocab_size = 100\n",
    "fr_vocab_size = 200\n",
    "decoder = Decoder(embedding_size=10,\n",
    "                  max_sentence_len=1000,\n",
    "                  vocab_size=100,\n",
    "                  blocks_amount=3,\n",
    "                  heads_number=5, \n",
    "                  dff=2048)\n",
    "\"\"\"\n",
    "decoder masks are :\n",
    "- encoder_padding_mask - padding mask made on encoder input data\n",
    "- decoder sequences mask - sequence mask made on decoder input data\n",
    "\"\"\"\n",
    "decoder_out  = decoder(encoder_out, input_data, pad_mask=None, elements_mask=None)\n",
    "print(\"decoder_out \", decoder_out.shape)"
   ]
  },
  {
   "cell_type": "code",
   "execution_count": 5,
   "metadata": {
    "colab": {
     "base_uri": "https://localhost:8080/",
     "height": 72
    },
    "colab_type": "code",
    "id": "mrJPalvR37Xp",
    "outputId": "dc7d2809-1d06-4fd0-a87d-db65927ed738"
   },
   "outputs": [
    {
     "name": "stdout",
     "output_type": "stream",
     "text": [
      "output_data  (64, 29)\n",
      "elements_mask  (29, 29)\n",
      "(64, 29, 7001)\n"
     ]
    }
   ],
   "source": [
    "transformer_model = Transformer(embedding_size=512,\n",
    "                                dff=2048,\n",
    "                                input_max_seq_length=2000,\n",
    "                                output_max_seq_length=1855,\n",
    "                                input_vocab_size=4980,\n",
    "                                output_vocab_size=7001,\n",
    "                                encoder_blocks=4,\n",
    "                                decoder_blocks=2,\n",
    "                                heads=8)\n",
    "\n",
    "# input_data and output_data\n",
    "input_data = tf.random.uniform((64, 52), dtype=tf.int64, minval=0, maxval=100)\n",
    "output_data = tf.random.uniform((64, 29), dtype=tf.int64, minval=0, maxval=250)\n",
    "\n",
    "encoder_pad_mask = makePaddingMask(input_data)\n",
    "elements_mask = makeSequenceMask(output_data.shape[1])\n",
    "print(\"output_data \", output_data.shape)\n",
    "print(\"elements_mask \", elements_mask.shape)\n",
    "transformer_output = transformer_model(input_data, output_data, encoder_pad_mask, elements_mask)\n",
    "print(transformer_output.shape)"
   ]
  },
  {
   "cell_type": "code",
   "execution_count": 6,
   "metadata": {
    "colab": {},
    "colab_type": "code",
    "id": "_aYQcBaGlWk7"
   },
   "outputs": [],
   "source": [
    "BATCH_SIZE = 64\n",
    "EPOCHS = 10\n",
    "num_layers = 4 # 6\n",
    "d_model = 128 # 512\n",
    "dff = 512  # 2048\n",
    "num_heads = 8 "
   ]
  },
  {
   "cell_type": "code",
   "execution_count": 7,
   "metadata": {
    "colab": {
     "base_uri": "https://localhost:8080/",
     "height": 53
    },
    "colab_type": "code",
    "id": "bq1qufXuXYqW",
    "outputId": "2b56364b-8194-4c4d-fffb-a0bc82ad5949"
   },
   "outputs": [
    {
     "name": "stdout",
     "output_type": "stream",
     "text": [
      "reading data from  ../data/small_vocab_en\n",
      "reading data from  ../data/small_vocab_fr\n",
      "en_vocab 203\n",
      "fr_vocab 336\n"
     ]
    }
   ],
   "source": [
    "    data_dir = \"../data\"\n",
    "    # reading data\n",
    "\n",
    "    en_lines, fr_lines = read_data_files(data_dir, (\"small_vocab_en\", \"small_vocab_fr\"))\n",
    "    \"\"\"\n",
    "    data = read_data(os.path.join(data_dir, \"fra-eng\"), \"fra.txt\")\n",
    "    en_lines, fr_lines = list(zip(*data))\n",
    "    \n",
    "    en_lines = en_lines[:30000]\n",
    "    fr_lines = fr_lines[:30000]\n",
    "    \"\"\"\n",
    "    en_lines = [normalize(line) for line in en_lines]\n",
    "    fr_lines = [normalize(line) for line in fr_lines]\n",
    "\n",
    "    en_train, en_test, fr_train, fr_test = train_test_split(en_lines, fr_lines, shuffle=True, test_size=0.1)\n",
    "\n",
    "    fr_train_in = ['<start> ' + line for line in fr_train]\n",
    "    fr_train_out = [line + ' <end>' for line in fr_train]\n",
    "\n",
    "    fr_test_in = ['<start> ' + line for line in fr_test]\n",
    "    fr_test_out = [line + ' <end>' for line in fr_test]\n",
    "\n",
    "    fr_tokenizer = Tokenizer(filters='')\n",
    "    en_tokenizer = Tokenizer(filters='')\n",
    "\n",
    "    input_data = [fr_train_in, fr_train_out, fr_test_in, fr_test_out, fr_test, fr_train]\n",
    "    fr_train_in, fr_train_out, fr_test_in, fr_test_out, fr_test, fr_train = tokenizeInput(input_data,\n",
    "                                                                                          fr_tokenizer)\n",
    "\n",
    "    input_data = [en_train, en_test]\n",
    "    en_train, en_test = tokenizeInput(input_data, en_tokenizer)\n",
    "\n",
    "    en_vocab_size = len(en_tokenizer.word_index)+1\n",
    "    fr_vocab_size = len(fr_tokenizer.word_index)+1\n",
    "    print(\"en_vocab {}\\nfr_vocab {}\" .format(en_vocab_size, fr_vocab_size))"
   ]
  },
  {
   "cell_type": "code",
   "execution_count": 8,
   "metadata": {},
   "outputs": [],
   "source": [
    "trainer = TransformerTrainer(BATCH_SIZE, num_layers, d_model, dff, num_heads, 1)"
   ]
  },
  {
   "cell_type": "code",
   "execution_count": 9,
   "metadata": {
    "scrolled": false
   },
   "outputs": [
    {
     "name": "stdout",
     "output_type": "stream",
     "text": [
      "en_vocab 203\n",
      "fr_vocab 336\n",
      "Number of devices: 4\n",
      "creating dataset...\n",
      "training from scratch\n",
      "INFO:tensorflow:batch_all_reduce: 170 all-reduces with algorithm = nccl, num_packs = 1, agg_small_grads_max_bytes = 0 and agg_small_grads_max_group = 10\n",
      "WARNING:tensorflow:Efficient allreduce is not supported for 2 IndexedSlices\n",
      "INFO:tensorflow:Reduce to /job:localhost/replica:0/task:0/device:GPU:0 then broadcast to ('/job:localhost/replica:0/task:0/device:GPU:0', '/job:localhost/replica:0/task:0/device:GPU:1', '/job:localhost/replica:0/task:0/device:GPU:2', '/job:localhost/replica:0/task:0/device:GPU:3').\n",
      "INFO:tensorflow:Reduce to /job:localhost/replica:0/task:0/device:GPU:0 then broadcast to ('/job:localhost/replica:0/task:0/device:GPU:0', '/job:localhost/replica:0/task:0/device:GPU:1', '/job:localhost/replica:0/task:0/device:GPU:2', '/job:localhost/replica:0/task:0/device:GPU:3').\n",
      "INFO:tensorflow:Reduce to /job:localhost/replica:0/task:0/device:CPU:0 then broadcast to ('/job:localhost/replica:0/task:0/device:CPU:0',).\n",
      "INFO:tensorflow:batch_all_reduce: 170 all-reduces with algorithm = nccl, num_packs = 1, agg_small_grads_max_bytes = 0 and agg_small_grads_max_group = 10\n",
      "WARNING:tensorflow:Efficient allreduce is not supported for 2 IndexedSlices\n",
      "INFO:tensorflow:Reduce to /job:localhost/replica:0/task:0/device:GPU:0 then broadcast to ('/job:localhost/replica:0/task:0/device:GPU:0', '/job:localhost/replica:0/task:0/device:GPU:1', '/job:localhost/replica:0/task:0/device:GPU:2', '/job:localhost/replica:0/task:0/device:GPU:3').\n",
      "INFO:tensorflow:Reduce to /job:localhost/replica:0/task:0/device:GPU:0 then broadcast to ('/job:localhost/replica:0/task:0/device:GPU:0', '/job:localhost/replica:0/task:0/device:GPU:1', '/job:localhost/replica:0/task:0/device:GPU:2', '/job:localhost/replica:0/task:0/device:GPU:3').\n",
      "INFO:tensorflow:Reduce to /job:localhost/replica:0/task:0/device:CPU:0 then broadcast to ('/job:localhost/replica:0/task:0/device:CPU:0',).\n",
      "INFO:tensorflow:Reduce to /job:localhost/replica:0/task:0/device:CPU:0 then broadcast to ('/job:localhost/replica:0/task:0/device:CPU:0',).\n",
      "Epoch 1 training Loss 47.0745 Accuracy 0.2397  test Loss 15.0706 Accuracy 0.4950\n",
      "           English   : ['california is sometimes cold during december and it is sometimes rainy in summer .']\n",
      "           Predicted : californie est parfois froid en fevrier et il est parfois agreable en fevrier .\n",
      "           Correct   : ['californie est parfois froid en decembre et il est parfois pluvieux en ete . <end>']\n",
      "Saving checkpoint for epoch 0: ./checkpoints/train/ckpt-1\n",
      "Epoch 2 training Loss 8.5376 Accuracy 0.5307  test Loss 1.6083 Accuracy 0.6659\n",
      "           English   : ['he likes the rusty white car .']\n",
      "           Predicted : il aime la voiture blanche rouillee .\n",
      "           Correct   : ['il aime la voiture blanche rouillee . <end>']\n",
      "Epoch 3 training Loss 1.4205 Accuracy 0.6111  test Loss 0.6733 Accuracy 0.6783\n",
      "           English   : ['new jersey is rainy during march and it is sometimes wet in july .']\n",
      "           Predicted : new jersey est pluvieux en mars et il est parfois humide en juillet .\n",
      "           Correct   : ['new jersey est pluvieux en mars et il est parfois humide en juillet . <end>']\n",
      "Epoch 4 training Loss 0.7866 Accuracy 0.6180  test Loss 0.4528 Accuracy 0.6814\n",
      "           English   : ['i plan to visit paris in summer .']\n",
      "           Predicted : je prevois de visiter paris en ete .\n",
      "           Correct   : ['je prevois de visiter en ete paris . <end>']\n",
      "Epoch 5 training Loss 0.5971 Accuracy 0.6204  test Loss 0.3879 Accuracy 0.6828\n",
      "           English   : ['the lemon is our most loved fruit but the pear is your most loved .']\n",
      "           Predicted : le citron est notre fruit le plus aime mais la poire est votre plus aime .\n",
      "           Correct   : ['le citron est notre fruit le plus aime mais la poire est votre plus aime . <end>']\n",
      "Epoch 6 training Loss 0.5156 Accuracy 0.6215  test Loss 0.3734 Accuracy 0.6823\n",
      "           English   : ['i like oranges grapes and lemons .']\n",
      "           Predicted : i comme les oranges les raisins et les citrons .\n",
      "           Correct   : ['j aime les oranges les raisins et les citrons . <end>']\n",
      "Saving checkpoint for epoch 5: ./checkpoints/train/ckpt-2\n",
      "Epoch 7 training Loss 0.4623 Accuracy 0.6223  test Loss 0.3594 Accuracy 0.6831\n",
      "           English   : ['new jersey is never freezing during june and it is sometimes snowy in autumn .']\n",
      "           Predicted : new jersey ne gele en juin et il est parfois neigeux a l automne .\n",
      "           Correct   : ['new jersey ne gele en juin et il est parfois neigeux a l automne . <end>']\n",
      "Epoch 8 training Loss 0.4383 Accuracy 0.6227  test Loss 0.3720 Accuracy 0.6831\n",
      "           English   : ['their least favorite fruit is the lemon but my least favorite is the lime .']\n",
      "           Predicted : leur fruit prefere est moins le citron mais mon prefere moins est la chaux .\n",
      "           Correct   : ['leur fruit prefere est moins le citron mais mon prefere moins est la chaux . <end>']\n",
      "Epoch 9 training Loss 0.4015 Accuracy 0.6232  test Loss 0.2906 Accuracy 0.6840\n",
      "           English   : ['india is busy during april but it is sometimes snowy in january .']\n",
      "           Predicted : l inde est occupe en avril mais il est parfois enneigee en janvier .\n",
      "           Correct   : ['l inde est occupe en avril mais il est parfois enneigee en janvier . <end>']\n",
      "Epoch 10 training Loss 0.3498 Accuracy 0.6239  test Loss 0.2815 Accuracy 0.6842\n",
      "           English   : ['he thinks it is difficult to translate between portuguese and french .']\n",
      "           Predicted : il pense qu il est difficile de traduire entre portugais et francais .\n",
      "           Correct   : ['il pense qu il est difficile de traduire entre portugais et francais . <end>']\n",
      "Epoch 11 training Loss 0.3091 Accuracy 0.6244  test Loss 0.2537 Accuracy 0.6849\n",
      "           English   : ['new jersey is wet during january but it is usually dry in november .']\n",
      "           Predicted : new jersey est humide en janvier mais il est generalement sec en novembre .\n",
      "           Correct   : ['new jersey est humide en janvier mais il est generalement sec en novembre . <end>']\n",
      "Saving checkpoint for epoch 10: ./checkpoints/train/ckpt-3\n",
      "Epoch 12 training Loss 0.2813 Accuracy 0.6248  test Loss 0.2272 Accuracy 0.6851\n",
      "           English   : ['she dislikes lemons grapes and mangoes .']\n",
      "           Predicted : elle deteste les citrons les raisins et les mangues .\n",
      "           Correct   : ['elle deteste les citrons les raisins et les mangues . <end>']\n",
      "Epoch 13 training Loss 0.2518 Accuracy 0.6252  test Loss 0.2213 Accuracy 0.6854\n",
      "           English   : ['california is sometimes quiet during winter but it is never hot in february .']\n",
      "           Predicted : california est parfois calme pendant l hiver mais il est jamais chaude en fevrier .\n",
      "           Correct   : ['california est parfois calme pendant l hiver mais il est jamais chaude en fevrier . <end>']\n",
      "Epoch 14 training Loss 0.2345 Accuracy 0.6254  test Loss 0.2155 Accuracy 0.6855\n",
      "           English   : ['his most feared animal was the lion .']\n",
      "           Predicted : son animal le plus redoute etait le lion .\n",
      "           Correct   : ['son animal le plus redoute etait le lion . <end>']\n",
      "Epoch 15 training Loss 0.2178 Accuracy 0.6257  test Loss 0.2045 Accuracy 0.6855\n",
      "           English   : ['the lemon is your least favorite fruit but the mango is their least favorite .']\n",
      "           Predicted : le citron est votre fruit prefere moins mais la mangue est leur moins preferee .\n",
      "           Correct   : ['le citron est votre fruit prefere moins mais la mangue est leur moins preferee . <end>']\n",
      "Epoch 16 training Loss 0.2008 Accuracy 0.6259  test Loss 0.1912 Accuracy 0.6858\n",
      "           English   : ['my least favorite fruit is the lime but their least favorite is the mango .']\n",
      "           Predicted : mon fruit prefere est moins la chaux mais leur moins prefere est la mangue .\n",
      "           Correct   : ['mon fruit prefere est moins la chaux mais leur moins prefere est la mangue . <end>']\n",
      "Saving checkpoint for epoch 15: ./checkpoints/train/ckpt-4\n",
      "Epoch 17 training Loss 0.1913 Accuracy 0.6260  test Loss 0.1899 Accuracy 0.6857\n",
      "           English   : ['she dislikes oranges peaches and apples .']\n",
      "           Predicted : elle deteste les oranges les peches et les pommes .\n",
      "           Correct   : ['elle n aime les oranges les peches et les pommes . <end>']\n"
     ]
    },
    {
     "name": "stdout",
     "output_type": "stream",
     "text": [
      "Epoch 18 training Loss 0.1788 Accuracy 0.6262  test Loss 0.1809 Accuracy 0.6857\n",
      "           English   : ['new jersey is sometimes pleasant during november but it is warm in june .']\n",
      "           Predicted : new jersey est parfois agreable au mois de novembre mais il est chaud en juin .\n",
      "           Correct   : ['new jersey est parfois agreable au mois de novembre mais il est chaud en juin . <end>']\n",
      "Epoch 19 training Loss 0.1687 Accuracy 0.6263  test Loss 0.1646 Accuracy 0.6861\n",
      "           English   : ['paris is usually beautiful during spring but it is busy in summer .']\n",
      "           Predicted : paris est generalement beau au printemps mais il est occupe en ete .\n",
      "           Correct   : ['paris est generalement beau au printemps mais il est occupe en ete . <end>']\n",
      "Epoch 20 training Loss 0.1590 Accuracy 0.6264  test Loss 0.1683 Accuracy 0.6864\n",
      "           English   : ['our least liked fruit is the lemon but their least liked is the grapefruit .']\n",
      "           Predicted : notre fruit est moins aime le citron mais leur moins aime est le pamplemousse .\n",
      "           Correct   : ['notre fruit est moins aime le citron mais leur moins aime est le pamplemousse . <end>']\n",
      "Saving checkpoint for end at ./checkpoints/train/ckpt-5\n"
     ]
    }
   ],
   "source": [
    "losses, accuracy= trainer.train([en_train, fr_train_in, fr_train_out], [en_test, fr_test_in, fr_test_out], [en_tokenizer, fr_tokenizer], 20)"
   ]
  },
  {
   "cell_type": "code",
   "execution_count": 10,
   "metadata": {},
   "outputs": [],
   "source": [
    "train_losses, test_losses = losses \n",
    "train_accuracyVec, test_accuracyVec = accuracy"
   ]
  },
  {
   "cell_type": "code",
   "execution_count": 11,
   "metadata": {
    "colab": {},
    "colab_type": "code",
    "id": "LbMbzlWzc_7C"
   },
   "outputs": [],
   "source": [
    "import matplotlib.pyplot as plt\n",
    "fig = plt.figure()\n",
    "fig_plot = fig.add_subplot()\n",
    "fig_plot.plot(train_losses, label=\"train_loss\")\n",
    "fig_plot.plot(test_losses, label=\"test_loss\")\n",
    "fig_plot.legend(loc=\"upper right\")\n",
    "fig_plot.set_xlabel(\"epoch\")\n",
    "fig_plot.set_ylabel(\"loss\")\n",
    "fig_plot.grid(linestyle=\"--\")\n",
    "fig.savefig(\"losses_plot.png\")"
   ]
  },
  {
   "cell_type": "code",
   "execution_count": 12,
   "metadata": {},
   "outputs": [
    {
     "data": {
      "image/png": "[encoded data removed]",
      "text/plain": [
       "<Figure size 432x288 with 1 Axes>"
      ]
     },
     "metadata": {
      "needs_background": "light"
     },
     "output_type": "display_data"
    }
   ],
   "source": [
    "fig = plt.figure()\n",
    "fig_plot = fig.add_subplot()\n",
    "fig_plot.plot(train_accuracyVec, label=\"train_accuracy\")\n",
    "fig_plot.plot(test_accuracyVec, label=\"test_accuracy\")\n",
    "fig_plot.legend(loc=\"lower right\")\n",
    "fig_plot.set_xlabel(\"epoch\")\n",
    "fig_plot.set_ylabel(\"accuracy\")\n",
    "fig_plot.grid(linestyle=\"--\")\n",
    "fig.savefig(\"accuracy_plot.png\")"
   ]
  },
  {
   "cell_type": "code",
   "execution_count": 13,
   "metadata": {
    "scrolled": false
   },
   "outputs": [
    {
     "name": "stdout",
     "output_type": "stream",
     "text": [
      "Latest checkpoint restored!!\n"
     ]
    }
   ],
   "source": [
    "transformer_model = trainer.transformer_model\n",
    "checkpoint_path = trainer.checkpoint_path\n",
    "\n",
    "loadWeights(transformer_model, checkpoint_path)"
   ]
  },
  {
   "cell_type": "code",
   "execution_count": null,
   "metadata": {},
   "outputs": [],
   "source": []
  }
 ],
 "metadata": {
  "accelerator": "GPU",
  "colab": {
   "collapsed_sections": [],
   "include_colab_link": true,
   "name": "Distributed Transformer.ipynb",
   "provenance": [],
   "toc_visible": true
  },
  "kernelspec": {
   "display_name": "Python 3",
   "language": "python",
   "name": "python3"
  },
  "language_info": {
   "codemirror_mode": {
    "name": "ipython",
    "version": 3
   },
   "file_extension": ".py",
   "mimetype": "text/x-python",
   "name": "python",
   "nbconvert_exporter": "python",
   "pygments_lexer": "ipython3",
   "version": "3.6.8"
  }
 },
 "nbformat": 4,
 "nbformat_minor": 1
}
