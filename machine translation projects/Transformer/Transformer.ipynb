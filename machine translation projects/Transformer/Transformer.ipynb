{
 "cells": [
  {
   "cell_type": "code",
   "execution_count": null,
   "metadata": {},
   "outputs": [],
   "source": [
    "import sys\n",
    "\n",
    "import tensorflow as tf\n",
    "\n",
    "sys.path.insert(0, r\"../utilities\")\n",
    "sys.path.insert(0, r\"../preprocessing\")\n",
    "\n",
    "from preprocessor import *\n",
    "from utils import loss_accuracy_plot\n",
    "\n",
    "from TransformerTrainer import TransformerTrainer\n",
    "\n",
    "encoder_tokenizer_name = \"en_tokenizer\"\n",
    "decoder_tokenizer_name = \"fr_tokenizer\"\n",
    "\n",
    "tf.get_logger().setLevel('WARNING')"
   ]
  },
  {
   "cell_type": "code",
   "execution_count": null,
   "metadata": {},
   "outputs": [],
   "source": [
    "data_dir = \"../data\"\n",
    "en_lines, fr_lines = read_data_files(data_dir, (\"small_vocab_en\", \"small_vocab_fr\"))\n",
    "\n",
    "train_data, test_data, prediction_data, tokenizers = preprocess_data(en_lines, fr_lines, [encoder_tokenizer_name, decoder_tokenizer_name])"
   ]
  },
  {
   "cell_type": "code",
   "execution_count": null,
   "metadata": {},
   "outputs": [],
   "source": [
    "BATCH_SIZE = 64\n",
    "EPOCHS = 10\n",
    "num_layers = 4 # 6\n",
    "d_model = 128 # 512\n",
    "dff = 512  # 2048\n",
    "num_heads = 8 "
   ]
  },
  {
   "cell_type": "code",
   "execution_count": null,
   "metadata": {},
   "outputs": [],
   "source": [
    "trainer = TransformerTrainer(batch_size=BATCH_SIZE,\n",
    "                             num_layers=num_layers, \n",
    "                             d_model=d_model,\n",
    "                             dff=dff,\n",
    "                             num_heads=num_heads,\n",
    "                             tokenizers=tokenizers,\n",
    "                             predict_every=5)"
   ]
  },
  {
   "cell_type": "code",
   "execution_count": null,
   "metadata": {},
   "outputs": [],
   "source": [
    "losses, accuracy= trainer.train(train_data=train_data,\n",
    "                                test_data=test_data,\n",
    "                                prediction_data=prediction_data,\n",
    "                                epochs=10)"
   ]
  },
  {
   "cell_type": "code",
   "execution_count": null,
   "metadata": {},
   "outputs": [],
   "source": [
    "loss_accuracy_plot(losses, accuracy, \"Transformer\")"
   ]
  },
  {
   "cell_type": "code",
   "execution_count": null,
   "metadata": {},
   "outputs": [],
   "source": []
  }
 ],
 "metadata": {
  "kernelspec": {
   "display_name": "Python 3",
   "language": "python",
   "name": "python3"
  },
  "language_info": {
   "codemirror_mode": {
    "name": "ipython",
    "version": 3
   },
   "file_extension": ".py",
   "mimetype": "text/x-python",
   "name": "python",
   "nbconvert_exporter": "python",
   "pygments_lexer": "ipython3",
   "version": "3.6.8"
  }
 },
 "nbformat": 4,
 "nbformat_minor": 2
}
