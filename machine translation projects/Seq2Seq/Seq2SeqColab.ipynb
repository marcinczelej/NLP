{
  "nbformat": 4,
  "nbformat_minor": 0,
  "metadata": {
    "accelerator": "GPU",
    "colab": {
      "name": "Seq2SeqColab.ipynb",
      "provenance": [],
      "collapsed_sections": [],
      "include_colab_link": true
    },
    "kernelspec": {
      "display_name": "Python 3",
      "language": "python",
      "name": "python3"
    },
    "language_info": {
      "codemirror_mode": {
        "name": "ipython",
        "version": 3
      },
      "file_extension": ".py",
      "mimetype": "text/x-python",
      "name": "python",
      "nbconvert_exporter": "python",
      "pygments_lexer": "ipython3",
      "version": "3.6.8"
    }
  },
  "cells": [
    {
      "cell_type": "markdown",
      "metadata": {
        "id": "view-in-github",
        "colab_type": "text"
      },
      "source": [
        "<a href=\"https://colab.research.google.com/github/mizzmir/NLP/blob/machine_translation_develop/machine%20translation%20projects/Seq2Seq/Seq2SeqColab.ipynb\" target=\"_parent\"><img src=\"https://colab.research.google.com/assets/colab-badge.svg\" alt=\"Open In Colab\"/></a>"
      ]
    },
    {
      "cell_type": "code",
      "metadata": {
        "colab_type": "code",
        "id": "4gt1BXkCOjge",
        "outputId": "803fa17b-5d3d-45e3-d421-d8b815ee5151",
        "colab": {
          "base_uri": "https://localhost:8080/",
          "height": 156
        }
      },
      "source": [
        "pip install tensorflow-gpu --quiet"
      ],
      "execution_count": 1,
      "outputs": [
        {
          "output_type": "stream",
          "text": [
            "\u001b[K     |████████████████████████████████| 380.8MB 45kB/s \n",
            "\u001b[K     |████████████████████████████████| 450kB 52.9MB/s \n",
            "\u001b[K     |████████████████████████████████| 3.8MB 46.1MB/s \n",
            "\u001b[K     |████████████████████████████████| 81kB 13.6MB/s \n",
            "\u001b[31mERROR: tensorflow 1.15.0 has requirement tensorboard<1.16.0,>=1.15.0, but you'll have tensorboard 2.0.2 which is incompatible.\u001b[0m\n",
            "\u001b[31mERROR: tensorflow 1.15.0 has requirement tensorflow-estimator==1.15.1, but you'll have tensorflow-estimator 2.0.1 which is incompatible.\u001b[0m\n",
            "\u001b[31mERROR: tensorboard 2.0.2 has requirement grpcio>=1.24.3, but you'll have grpcio 1.15.0 which is incompatible.\u001b[0m\n",
            "\u001b[31mERROR: google-colab 1.0.0 has requirement google-auth~=1.4.0, but you'll have google-auth 1.10.0 which is incompatible.\u001b[0m\n",
            "\u001b[?25h"
          ],
          "name": "stdout"
        }
      ]
    },
    {
      "cell_type": "code",
      "metadata": {
        "colab_type": "code",
        "id": "GiWYjnc4P_0G",
        "colab": {
          "base_uri": "https://localhost:8080/",
          "height": 121
        },
        "outputId": "97978cf5-3bd2-45d4-ba93-ae34000d32b1"
      },
      "source": [
        "!git clone https://github.com/mizzmir/data.git"
      ],
      "execution_count": 2,
      "outputs": [
        {
          "output_type": "stream",
          "text": [
            "Cloning into 'data'...\n",
            "remote: Enumerating objects: 14, done.\u001b[K\n",
            "remote: Counting objects: 100% (14/14), done.\u001b[K\n",
            "remote: Compressing objects: 100% (10/10), done.\u001b[K\n",
            "remote: Total 14 (delta 2), reused 10 (delta 1), pack-reused 0\n",
            "Unpacking objects: 100% (14/14), done.\n"
          ],
          "name": "stdout"
        }
      ]
    },
    {
      "cell_type": "code",
      "metadata": {
        "colab_type": "code",
        "id": "gHzn2juDOuKo",
        "colab": {}
      },
      "source": [
        "import os\n",
        "import re\n",
        "import sys\n",
        "import unicodedata\n",
        "import tensorflow_datasets as tfds\n",
        "import tensorflow as tf\n",
        "import numpy as np\n",
        "\n",
        "from sklearn.utils import shuffle\n",
        "from sklearn.model_selection import train_test_split\n",
        "\n",
        "from tensorflow.keras.preprocessing.sequence import pad_sequences"
      ],
      "execution_count": 0,
      "outputs": []
    },
    {
      "cell_type": "code",
      "metadata": {
        "colab_type": "code",
        "id": "DwOBy64XO8A5",
        "colab": {}
      },
      "source": [
        "def unicode_to_ascii(s):\n",
        "    return ''.join(\n",
        "        c for c in unicodedata.normalize('NFD', s)\n",
        "        if unicodedata.category(c) != 'Mn')\n",
        "\n",
        "def normalize(s):\n",
        "    s = unicode_to_ascii(s)\n",
        "    s = re.sub(r'([!.?])', r' \\1', s)\n",
        "    s = re.sub(r'[^a-zA-Z.!?-]+', r' ', s)\n",
        "    s = re.sub(r'\\s+', r' ', s)\n",
        "    return s\n",
        "\n",
        "def read_data(data_dir, file_name):\n",
        "    full_path = os.path.join(data_dir, file_name)\n",
        "    print(\"reading data from \", full_path)\n",
        "\n",
        "    with open(full_path) as file:\n",
        "      lines = file.readlines()\n",
        "    \n",
        "    data = []\n",
        "\n",
        "    for line in lines:\n",
        "        data.append(line.split(\"\\t\")[:-1])\n",
        "    \n",
        "    return data\n",
        "\n",
        "def read_data_files(data_dir, file_names):\n",
        "    \n",
        "    en_file_name, fr_file_name = file_names\n",
        "    \n",
        "    full_path = os.path.join(data_dir, en_file_name)\n",
        "    print(\"reading data from \", full_path)\n",
        "\n",
        "    with open(full_path) as file:\n",
        "      en_lines = file.readlines()\n",
        "    \n",
        "    full_path = os.path.join(data_dir, fr_file_name)\n",
        "    print(\"reading data from \", full_path)\n",
        "\n",
        "    with open(full_path) as file:\n",
        "      fr_lines = file.readlines()    \n",
        "    \n",
        "    return en_lines, fr_lines\n",
        "\n"
      ],
      "execution_count": 0,
      "outputs": []
    },
    {
      "cell_type": "code",
      "metadata": {
        "colab_type": "code",
        "id": "6R_7ag1WPFDH",
        "outputId": "64f4c8d5-3dfa-46d2-8564-1bff545bcea7",
        "colab": {
          "base_uri": "https://localhost:8080/",
          "height": 86
        }
      },
      "source": [
        "data_dir = \"/content/data\"\n",
        "en_lines, fr_lines = read_data_files(data_dir, (\"small_vocab_en\", \"small_vocab_fr\"))\n",
        "\n",
        "#data = read_data(os.path.join(data_dir, \"fra-eng\"), \"fra.txt\")\n",
        "\n",
        "#en_lines, fr_lines = list(zip(*data))\n",
        "en_lines, fr_lines = shuffle(en_lines, fr_lines)\n",
        "\n",
        "#en_lines = en_lines[:40000]\n",
        "#fr_lines = fr_lines[:40000]\n",
        "\n",
        "en_lines = [normalize(line) for line in en_lines]\n",
        "fr_lines = [normalize(line) for line in fr_lines]\n",
        "\n",
        "en_train, en_test, fr_train, fr_test = train_test_split(en_lines, fr_lines, shuffle=True, test_size=0.1)\n",
        "\n",
        "en_lines = en_test\n",
        "fr_lines = fr_test\n",
        "\n",
        "# creating tokenizers\n",
        "en_tokenizer = tfds.features.text.SubwordTextEncoder.build_from_corpus(\n",
        "    (en for en in en_train), target_vocab_size=2**13)\n",
        "\n",
        "fr_tokenizer = tfds.features.text.SubwordTextEncoder.build_from_corpus(\n",
        "    (fr for fr in fr_train), target_vocab_size=2**13)\n",
        "\n",
        "print(\"en_tokenizer size \", en_tokenizer.vocab_size)\n",
        "print(\"fr_tokenizer size \", fr_tokenizer.vocab_size)\n",
        "\n",
        "en_tokenizer.save_to_file(\"en_tokenizer\")\n",
        "fr_tokenizer.save_to_file(\"fr_tokenizer\")\n",
        "\n",
        "# train dataset\n",
        "fr_train_in = [[fr_tokenizer.vocab_size] + fr_tokenizer.encode(line) for line in fr_train]\n",
        "fr_train_out = [fr_tokenizer.encode(line) + [fr_tokenizer.vocab_size+1] for line in fr_train]\n",
        "\n",
        "fr_train_in = pad_sequences(fr_train_in, padding='post')\n",
        "fr_train_out = pad_sequences(fr_train_out, padding='post')\n",
        "\n",
        "# test dataset\n",
        "fr_test_in = [[fr_tokenizer.vocab_size] + fr_tokenizer.encode(line) for line in fr_test]\n",
        "fr_test_out = [fr_tokenizer.encode(line) + [fr_tokenizer.vocab_size+1] for line in fr_test]\n",
        "\n",
        "fr_test_in = pad_sequences(fr_test_in, padding='post')\n",
        "fr_test_out = pad_sequences(fr_test_out, padding='post')\n",
        "\n",
        "en_train = [en_tokenizer.encode(line) for line in en_train]\n",
        "en_test = [en_tokenizer.encode(line) for line in en_test]\n",
        "\n",
        "en_train = pad_sequences(en_train, padding='post')\n",
        "en_test = pad_sequences(en_test, padding='post')"
      ],
      "execution_count": 8,
      "outputs": [
        {
          "output_type": "stream",
          "text": [
            "reading data from  /content/data/small_vocab_en\n",
            "reading data from  /content/data/small_vocab_fr\n",
            "en_tokenizer size  542\n",
            "fr_tokenizer size  712\n"
          ],
          "name": "stdout"
        }
      ]
    },
    {
      "cell_type": "code",
      "metadata": {
        "colab_type": "code",
        "id": "cXBrMgd2Qi_m",
        "colab": {}
      },
      "source": [
        "# Encoder Decoder network\n",
        "\n",
        "class Encoder(tf.keras.Model):\n",
        "  def __init__(self, vocab_size, embedding_size, units):\n",
        "    super(Encoder, self).__init__()\n",
        "\n",
        "    self.units = units\n",
        "    self.embeding_layer = tf.keras.layers.Embedding(vocab_size, embedding_size, mask_zero=True, trainable=True)\n",
        "    self.lstm_layer = tf.keras.layers.LSTM(units, dropout=0.2, return_sequences=True, return_state=True)\n",
        "  \n",
        "  def call(self, sequences, lstm_states, training_mode):\n",
        "    # sequences shape = [batch_size, seq_max_len]\n",
        "    # lstm_states = [batch_size, lstm_size] x 2\n",
        "    # encoder_embedded shape = [batch_size, seq_max_len, embedding_size]\n",
        "    # output shape = [batch_size, seq_max_len, lstm_size]\n",
        "    # state_h, state_c shape = [batch_size, lstm_size] x 2\n",
        "\n",
        "    encoder_embedded = self.embeding_layer(sequences, training=training_mode)\n",
        "    #print(\"encoder_embedded = \", encoder_embedded.shape)\n",
        "    output, state_h, state_c = self.lstm_layer(encoder_embedded, initial_state=lstm_states, training=training_mode)\n",
        "\n",
        "    return output, state_h, state_c\n",
        "\n",
        "  def init_states(self, batch_size):\n",
        "        return (tf.zeros([batch_size, self.units]),\n",
        "                tf.zeros([batch_size, self.units]))\n",
        "\n",
        "class Decoder(tf.keras.Model):\n",
        "  def __init__(self, vocab_size, embedding_size, units):\n",
        "    super(Decoder, self).__init__()\n",
        "\n",
        "    self.embedding_layer = tf.keras.layers.Embedding(vocab_size, embedding_size)\n",
        "    self.lstm_layer = tf.keras.layers.LSTM(units, dropout=0.2, return_sequences=True,\n",
        "                                           return_state=True)\n",
        "    self.dense_layer = tf.keras.layers.Dense(vocab_size)\n",
        "  \n",
        "  def call(self, sequences, lstm_states, training_mode):\n",
        "    # sequences shape = [batch_size, seq_max_len]\n",
        "    # embedding shape = [batch_size, seq_max_len, embedding_size]\n",
        "    # output shape = [batch_szie, seq_max_len, lstm_size]\n",
        "    # state_h, state_c = [batch_size, lstm_size] x2\n",
        "    # dense shape = [batch_size, seq_max_len, vocab_size]\n",
        "    \n",
        "    decoder_embedded = self.embedding_layer(sequences, training=training_mode)\n",
        "    lstm_output, state_h, state_c = self.lstm_layer(decoder_embedded, lstm_states, training=training_mode)\n",
        "    return self.dense_layer(lstm_output), state_h, state_c"
      ],
      "execution_count": 0,
      "outputs": []
    },
    {
      "cell_type": "code",
      "metadata": {
        "id": "Csz3aO-OeHqI",
        "colab_type": "code",
        "colab": {}
      },
      "source": [
        "def makeDatasets(train_data, test_data, batch_size, strategy=None):\n",
        "        \"\"\"\n",
        "            Parameters:\n",
        "                train_data - input data for training. Should be in form : en_train, fr_train_in, fr_train_out\n",
        "                test_data - input data for test step. Should be in form : en_test, fr_test_in, fr_test_out\n",
        "                batch_size - batch_size that should be used to create datasets\n",
        "                strategy - strategy that datasets should use to be distributed across GPUs. Default is None\n",
        "        \"\"\"\n",
        "        print(\"creating dataset...\")\n",
        "        en_train, fr_train_in, fr_train_out = train_data\n",
        "        en_test, fr_test_in, fr_test_out = test_data\n",
        "        \n",
        "        train_dataset = tf.data.Dataset.from_tensor_slices((en_train, fr_train_in, fr_train_out))\n",
        "        train_dataset = train_dataset.shuffle(len(en_train), reshuffle_each_iteration=True)\\\n",
        "                                         .batch(batch_size, drop_remainder=True)\n",
        "\n",
        "        test_dataset = tf.data.Dataset.from_tensor_slices((en_test, fr_test_in, fr_test_out))\n",
        "        test_dataset = test_dataset.shuffle(len(en_test), reshuffle_each_iteration=True)\\\n",
        "                                       .batch(batch_size, drop_remainder=True)\n",
        "        \n",
        "        if strategy is not None:\n",
        "            train_dataset = strategy.experimental_distribute_dataset(train_dataset)\n",
        "            test_dataset = strategy.experimental_distribute_dataset(test_dataset)\n",
        "        \n",
        "        return train_dataset, test_dataset"
      ],
      "execution_count": 0,
      "outputs": []
    },
    {
      "cell_type": "code",
      "metadata": {
        "colab_type": "code",
        "id": "p_ksVldRQ0z-",
        "colab": {}
      },
      "source": [
        "LSTM_SIZE = 512\n",
        "EMBEDDING_SIZE = 250\n",
        "BATCH_SIZE= 64\n",
        "EPOCHS = 20"
      ],
      "execution_count": 0,
      "outputs": []
    },
    {
      "cell_type": "code",
      "metadata": {
        "colab_type": "code",
        "id": "aCCUpHkNQLCG",
        "colab": {}
      },
      "source": [
        "class Seq2SeqTrainer:\n",
        "    def __init__(self, batch_size, lstm_size, embedding_size, tokenizers, predict_every):\n",
        "        \"\"\"\n",
        "            Parameters: \n",
        "                batch_size - batch_size of input data,\n",
        "                lstm_size - number of lstm units\n",
        "                embedding_size - embedding size for wholde model\n",
        "                tokenizers - two tokenizers for input and output data. Should be in form en_tokenizer, fr_tokenizer\n",
        "                predict_every - how often to write prediction during training\n",
        "        \"\"\"\n",
        "\n",
        "        self.en_tokenizer, self.fr_tokenizer = tokenizers\n",
        "        self.batch_size = batch_size\n",
        "        self.lstm_size = lstm_size\n",
        "        self.embedding_size = embedding_size\n",
        "        self.predict_every = predict_every\n",
        "        self.strategy = tf.distribute.MirroredStrategy()\n",
        "        self.encoder = None\n",
        "        self.decoder = None\n",
        "        self.optimizer = None\n",
        "\n",
        "    def translate(self, en_sentence):\n",
        "        \"\"\"\n",
        "            Translates sentence\n",
        "\n",
        "            Parameters:\n",
        "                en_sentence - sentence that will be translated\n",
        "\n",
        "            returns:\n",
        "                translated sentence\n",
        "        \"\"\"\n",
        "        tokenized_input_data = self.en_tokenizer.encode(en_sentence)      \n",
        "        tokenized_input_data = tf.expand_dims(tokenized_input_data, 0)\n",
        "        initial_states = self.encoder.init_states(1)\n",
        "        _, state_h, state_c = self.encoder(tf.constant(tokenized_input_data), initial_states, training_mode=False)\n",
        "\n",
        "        symbol = [self.fr_tokenizer.vocab_size]\n",
        "        symbol = tf.expand_dims(symbol, 0)\n",
        "        end_tag = self.fr_tokenizer.vocab_size+1\n",
        "        output_seq = []\n",
        "\n",
        "        while True:\n",
        "            symbol, state_h, state_c = self.decoder(tf.constant(symbol), (state_h, state_c), training_mode=False)\n",
        "            # argmax to get max index \n",
        "            symbol = tf.argmax(symbol, axis=-1)\n",
        "\n",
        "            if symbol.numpy()[0][0] == end_tag or len(output_seq) >= 40:\n",
        "              break\n",
        "\n",
        "            word = self.fr_tokenizer.decode(symbol.numpy()[0])\n",
        "            output_seq.append(word)\n",
        "        return \"\".join(output_seq)\n",
        "\n",
        "    def train(self, train_data, test_data, prediction_data, epochs, restore_checkpoint=False):\n",
        "        \"\"\"\n",
        "            Training method that uses distributed training\n",
        "            \n",
        "            Parameters:\n",
        "                train_data - input data for training. Should be in form : en_train, fr_train_in, fr_train_out\n",
        "                test_data - input data for test step. Should be in form : en_test, fr_test_in, fr_test_out\n",
        "                prediction_data - input data for prediction step. Should be in form of: en_predict, fr_predict\n",
        "                epochs - number of epochs that should be run\n",
        "                restore_checkpoint - should we restore last checkpoint and resume training. Defualt set to false.\n",
        "                \n",
        "            retuns:\n",
        "                tuple losses, accuracy where losses = (train_losses, test_losses), accuracy = (train-accuracy, test_accuracy)\n",
        "        \"\"\"\n",
        "        \n",
        "        en_predict, fr_predict = prediction_data\n",
        "        en_vocab_size = self.en_tokenizer.vocab_size\n",
        "        fr_vocab_size = self.fr_tokenizer.vocab_size + 2\n",
        "        \n",
        "        print ('Number of devices: {}'.format(self.strategy.num_replicas_in_sync))\n",
        "        GLOBAL_BATCH_SIZE = self.batch_size*self.strategy.num_replicas_in_sync\n",
        "\n",
        "        train_dataset_distr, test_dataset_distr = makeDatasets(train_data, test_data, GLOBAL_BATCH_SIZE, self.strategy)\n",
        "        \n",
        "        test_losses = []\n",
        "        train_losses = []\n",
        "        train_accuracyVec = []\n",
        "        test_accuracyVec =[]\n",
        "        test_accuracy = tf.keras.metrics.SparseCategoricalAccuracy()\n",
        "        train_accuracy = tf.keras.metrics.SparseCategoricalAccuracy()\n",
        "        \n",
        "        prediction_idx = np.random.randint(low=0, high=len(en_predict), size=1)[0]\n",
        "        prediction_en, prediction_fr = en_predict[prediction_idx], fr_predict[prediction_idx]\n",
        "        print(\"input : \", prediction_en)\n",
        "        print(\"output: \", prediction_fr)\n",
        "\n",
        "        with self.strategy.scope():\n",
        "            self.optimizer = tf.keras.optimizers.Adam(clipnorm=5.0)\n",
        "            self.encoder = Encoder(en_vocab_size, self.embedding_size, self.lstm_size)\n",
        "            self.decoder = Decoder(fr_vocab_size, self.embedding_size, self.lstm_size)\n",
        "            \n",
        "            ckpt = tf.train.Checkpoint(encoder=self.encoder,\n",
        "                                       decoder = self.decoder,\n",
        "                                       optimizer=self.optimizer,\n",
        "                                       epoch=tf.Variable(1))\n",
        "\n",
        "            manager = tf.train.CheckpointManager(ckpt, \"./checkpoints/Seq2Seq\", max_to_keep=5)\n",
        "\n",
        "            \n",
        "            if manager.latest_checkpoint and restore_checkpoint:\n",
        "                ckpt.restore(manager.latest_checkpoint)\n",
        "                print ('Latest checkpoint restored!!')\n",
        "            else:\n",
        "                print(\"training from scratch\")\n",
        "\n",
        "            loss_obj = tf.keras.losses.SparseCategoricalCrossentropy(from_logits=True, \n",
        "                                                                     reduction=\"none\") \n",
        "            def compute_loss(predictions, labels):\n",
        "                mask = tf.math.logical_not(tf.math.equal(labels, 0))\n",
        "                mask = tf.cast(mask, tf.int64)\n",
        "                per_example_loss = loss_obj(labels, predictions, sample_weight=mask)\n",
        "                return tf.nn.compute_average_loss(per_example_loss, global_batch_size=GLOBAL_BATCH_SIZE)\n",
        "\n",
        "            # one training step\n",
        "            def train_step(encoder_input, decoder_in, decoder_out, initial_states):\n",
        "                with tf.GradientTape() as tape:\n",
        "                    encoder_states = self.encoder(encoder_input, initial_state, training_mode=True)\n",
        "                    predicted_data, _, _ = self.decoder(decoder_in, encoder_states[1:], training_mode=True)\n",
        "                    loss = compute_loss(predicted_data, decoder_out)\n",
        "\n",
        "                trainable = self.encoder.trainable_variables + self.decoder.trainable_variables\n",
        "                grads = tape.gradient(loss, trainable)\n",
        "                self.optimizer.apply_gradients(zip(grads, trainable))\n",
        "                train_accuracy.update_state(decoder_out, predicted_data)\n",
        "                return loss\n",
        "\n",
        "            @tf.function\n",
        "            def distributed_train_step(encoder_input, decoder_in, decoder_out, initial_states):\n",
        "                per_replica_losses = self.strategy.experimental_run_v2(train_step,\n",
        "                                                              args=(encoder_input,\n",
        "                                                                    decoder_in,\n",
        "                                                                    decoder_out,\n",
        "                                                                    initial_states,))\n",
        "                return self.strategy.reduce(tf.distribute.ReduceOp.SUM, per_replica_losses,\n",
        "                                   axis=None)\n",
        "        \n",
        "            def test_step(encoder_input, decoder_in, decoder_out):\n",
        "                initial_state = self.encoder.init_states(self.batch_size)\n",
        "                encoder_states = self.encoder(encoder_input, initial_state, training_mode=False)\n",
        "                predicted_data, _, _ = self.decoder(decoder_in, encoder_states[1:], training_mode=False)\n",
        "                loss = compute_loss(predicted_data, decoder_out)\n",
        "\n",
        "                test_accuracy.update_state(decoder_out, predicted_data)\n",
        "                return loss\n",
        "\n",
        "            @tf.function\n",
        "            def distributed_test_step(encoder_input, decoder_in, decoder_out):\n",
        "                per_replica_losses = self.strategy.experimental_run_v2(test_step,\n",
        "                                                              args=(encoder_input,\n",
        "                                                                    decoder_in,\n",
        "                                                                    decoder_out,))\n",
        "                return self.strategy.reduce(tf.distribute.ReduceOp.SUM, per_replica_losses,\n",
        "                                   axis=None)\n",
        "            print(\"starting training with {} epochs with prediction each {} epoch\" .format(epochs, self.predict_every))\n",
        "            for epoch in range(epochs):\n",
        "                test_accuracy.reset_states()\n",
        "                train_accuracy.reset_states()\n",
        "                initial_state = self.encoder.init_states(self.batch_size)\n",
        "                total_loss = 0.0\n",
        "                num_batches = 0\n",
        "                for _, (en_data, fr_data_in, fr_data_out) in enumerate(train_dataset_distr):\n",
        "                    loss = distributed_train_step(en_data, fr_data_in, fr_data_out, initial_state)\n",
        "                    total_loss += loss\n",
        "                    num_batches += 1\n",
        "                train_losses.append(total_loss/num_batches)\n",
        "                total_loss = 0.0\n",
        "                num_batches = 0\n",
        "                for _, (en_data, fr_data_in, fr_data_out) in enumerate(test_dataset_distr):\n",
        "                    loss = distributed_test_step(en_data, fr_data_in, fr_data_out)\n",
        "                    total_loss += loss\n",
        "                    num_batches += 1\n",
        "                test_losses.append(total_loss/num_batches)\n",
        "                print ('Epoch {} training Loss {:.4f} Accuracy {:.4f}  test Loss {:.4f} Accuracy {:.4f}' .format(\n",
        "                                                      epoch + 1, \n",
        "                                                      train_losses[-1], \n",
        "                                                      train_accuracy.result(),\n",
        "                                                      test_losses[-1],\n",
        "                                                      test_accuracy.result()))\n",
        "                train_accuracyVec.append(train_accuracy.result())\n",
        "                test_accuracyVec.append(test_accuracy.result())\n",
        "                ckpt.epoch.assign_add(1)\n",
        "                if int(epoch) % 5 == 0:\n",
        "                    save_path = manager.save()\n",
        "                    print(\"Saving checkpoint for epoch {}: {}\".format(epoch, save_path))\n",
        "\n",
        "                if epoch%self.predict_every == 0 and epoch !=0:\n",
        "                  output_seq = self.translate(prediction_en)\n",
        "                  print(\"----------------------------PREDICTION----------------------------\")\n",
        "                  print(\"Predicted :\", output_seq)\n",
        "                  print(\"Correct   :\", prediction_fr)\n",
        "                  print(\"--------------------------END PREDICTION--------------------------\")\n",
        "        return (train_losses, test_losses), (train_accuracyVec, test_accuracyVec)\n"
      ],
      "execution_count": 0,
      "outputs": []
    },
    {
      "cell_type": "code",
      "metadata": {
        "colab_type": "code",
        "id": "lFijmdG7QoZX",
        "colab": {}
      },
      "source": [
        "trainer = Seq2SeqTrainer(batch_size=BATCH_SIZE, \n",
        "                         lstm_size=LSTM_SIZE, \n",
        "                         embedding_size=EMBEDDING_SIZE, \n",
        "                         tokenizers=[en_tokenizer, fr_tokenizer], \n",
        "                         predict_every=2)"
      ],
      "execution_count": 0,
      "outputs": []
    },
    {
      "cell_type": "code",
      "metadata": {
        "colab_type": "code",
        "id": "9l9fzFSvQ7dH",
        "outputId": "70e0b0c6-ef44-4ff0-81da-6d21be214403",
        "colab": {
          "base_uri": "https://localhost:8080/",
          "height": 1000
        }
      },
      "source": [
        "losses, accuracy = trainer.train(train_data=[en_train, fr_train_in, fr_train_out],\n",
        "                                test_data=[en_test, fr_test_in, fr_test_out],\n",
        "                                prediction_data=[en_lines, fr_lines],\n",
        "                                epochs=20)"
      ],
      "execution_count": 14,
      "outputs": [
        {
          "output_type": "stream",
          "text": [
            "Number of devices: 1\n",
            "creating dataset...\n",
            "input :  his favorite fruit is the strawberry but their favorite is the grapefruit . \n",
            "output:  son fruit prefere est la fraise mais leur favori est le pamplemousse . \n",
            "training from scratch\n",
            "starting training with 20 epochs with prediction each 2 epoch\n",
            "Epoch 1 training Loss 11.3778 Accuracy 0.4686  test Loss 2.2553 Accuracy 0.6341\n",
            "Saving checkpoint for epoch 0: ./checkpoints/Seq2Seq/ckpt-1\n",
            "Epoch 2 training Loss 1.0520 Accuracy 0.5963  test Loss 0.6160 Accuracy 0.6570\n",
            "Epoch 3 training Loss 0.4611 Accuracy 0.6034  test Loss 0.3624 Accuracy 0.6602\n",
            "----------------------------PREDICTION----------------------------\n",
            "Predicted : son fruit prefere est la fraise mais leur prefere est le pamplemousse . \n",
            "Correct   : son fruit prefere est la fraise mais leur favori est le pamplemousse . \n",
            "--------------------------END PREDICTION--------------------------\n",
            "Epoch 4 training Loss 0.3205 Accuracy 0.6051  test Loss 0.2935 Accuracy 0.6611\n",
            "Epoch 5 training Loss 0.2488 Accuracy 0.6060  test Loss 0.2563 Accuracy 0.6617\n",
            "----------------------------PREDICTION----------------------------\n",
            "Predicted : son fruit prefere est la fraise mais leur favori est le pamplemousse . \n",
            "Correct   : son fruit prefere est la fraise mais leur favori est le pamplemousse . \n",
            "--------------------------END PREDICTION--------------------------\n",
            "Epoch 6 training Loss 0.2032 Accuracy 0.6066  test Loss 0.2302 Accuracy 0.6619\n",
            "Saving checkpoint for epoch 5: ./checkpoints/Seq2Seq/ckpt-2\n",
            "Epoch 7 training Loss 0.1734 Accuracy 0.6070  test Loss 0.2125 Accuracy 0.6623\n",
            "----------------------------PREDICTION----------------------------\n",
            "Predicted : son fruit prefere est la fraise mais leur favori est le pamplemousse . \n",
            "Correct   : son fruit prefere est la fraise mais leur favori est le pamplemousse . \n",
            "--------------------------END PREDICTION--------------------------\n",
            "Epoch 8 training Loss 0.1490 Accuracy 0.6074  test Loss 0.2048 Accuracy 0.6624\n",
            "Epoch 9 training Loss 0.1329 Accuracy 0.6075  test Loss 0.1980 Accuracy 0.6627\n",
            "----------------------------PREDICTION----------------------------\n",
            "Predicted : son fruit prefere est la fraise mais leur favori est le pamplemousse . \n",
            "Correct   : son fruit prefere est la fraise mais leur favori est le pamplemousse . \n",
            "--------------------------END PREDICTION--------------------------\n",
            "Epoch 10 training Loss 0.1155 Accuracy 0.6078  test Loss 0.1864 Accuracy 0.6628\n",
            "Epoch 11 training Loss 0.1053 Accuracy 0.6079  test Loss 0.1791 Accuracy 0.6630\n",
            "Saving checkpoint for epoch 10: ./checkpoints/Seq2Seq/ckpt-3\n",
            "----------------------------PREDICTION----------------------------\n",
            "Predicted : son fruit prefere est la fraise mais leur prefere est le pamplemousse . \n",
            "Correct   : son fruit prefere est la fraise mais leur favori est le pamplemousse . \n",
            "--------------------------END PREDICTION--------------------------\n",
            "Epoch 12 training Loss 0.0970 Accuracy 0.6080  test Loss 0.1861 Accuracy 0.6628\n",
            "Epoch 13 training Loss 0.0864 Accuracy 0.6082  test Loss 0.1864 Accuracy 0.6630\n",
            "----------------------------PREDICTION----------------------------\n",
            "Predicted : son fruit prefere est la fraise mais leur favori est le pamplemousse . \n",
            "Correct   : son fruit prefere est la fraise mais leur favori est le pamplemousse . \n",
            "--------------------------END PREDICTION--------------------------\n",
            "Epoch 14 training Loss 0.0776 Accuracy 0.6083  test Loss 0.1883 Accuracy 0.6630\n",
            "Epoch 15 training Loss 0.0731 Accuracy 0.6084  test Loss 0.1730 Accuracy 0.6632\n",
            "----------------------------PREDICTION----------------------------\n",
            "Predicted : son fruit prefere est la fraise mais leur favori est le pamplemousse . \n",
            "Correct   : son fruit prefere est la fraise mais leur favori est le pamplemousse . \n",
            "--------------------------END PREDICTION--------------------------\n",
            "Epoch 16 training Loss 0.0683 Accuracy 0.6085  test Loss 0.1930 Accuracy 0.6631\n",
            "Saving checkpoint for epoch 15: ./checkpoints/Seq2Seq/ckpt-4\n",
            "Epoch 17 training Loss 0.0641 Accuracy 0.6085  test Loss 0.1794 Accuracy 0.6631\n",
            "----------------------------PREDICTION----------------------------\n",
            "Predicted : son fruit prefere est la fraise mais leur favori est le pamplemousse . \n",
            "Correct   : son fruit prefere est la fraise mais leur favori est le pamplemousse . \n",
            "--------------------------END PREDICTION--------------------------\n",
            "Epoch 18 training Loss 0.0586 Accuracy 0.6086  test Loss 0.1835 Accuracy 0.6631\n",
            "Epoch 19 training Loss 0.0560 Accuracy 0.6086  test Loss 0.1857 Accuracy 0.6633\n",
            "----------------------------PREDICTION----------------------------\n",
            "Predicted : son fruit prefere est la fraise mais leur favori est le pamplemousse . \n",
            "Correct   : son fruit prefere est la fraise mais leur favori est le pamplemousse . \n",
            "--------------------------END PREDICTION--------------------------\n",
            "Epoch 20 training Loss 0.0524 Accuracy 0.6087  test Loss 0.1943 Accuracy 0.6631\n"
          ],
          "name": "stdout"
        }
      ]
    },
    {
      "cell_type": "code",
      "metadata": {
        "colab_type": "code",
        "id": "BiD8-8tHRI92",
        "colab": {}
      },
      "source": [
        "train_losses, test_losses = losses \n",
        "train_accuracyVec, test_accuracyVec = accuracy"
      ],
      "execution_count": 0,
      "outputs": []
    },
    {
      "cell_type": "code",
      "metadata": {
        "colab_type": "code",
        "id": "QlhT--W5RKTp",
        "outputId": "f7f7e132-e387-4dcb-ad76-dd68ce1c6e44",
        "colab": {
          "base_uri": "https://localhost:8080/",
          "height": 279
        }
      },
      "source": [
        "import matplotlib.pyplot as plt\n",
        "fig = plt.figure()\n",
        "fig_plot = fig.add_subplot()\n",
        "fig_plot.plot(train_losses, label=\"train_loss\")\n",
        "fig_plot.plot(test_losses, label=\"test_loss\")\n",
        "fig_plot.legend(loc=\"upper right\")\n",
        "fig_plot.set_xlabel(\"epoch\")\n",
        "fig_plot.set_ylabel(\"loss\")\n",
        "fig_plot.grid(linestyle=\"--\")\n",
        "fig.savefig(\"losses_plot.png\")\n",
        "fig.show()"
      ],
      "execution_count": 16,
      "outputs": [
        {
          "output_type": "display_data",
          "data": {
            "image/png": "[encoded data removed]",
            "text/plain": [
              "<Figure size 432x288 with 1 Axes>"
            ]
          },
          "metadata": {
            "tags": []
          }
        }
      ]
    },
    {
      "cell_type": "code",
      "metadata": {
        "colab_type": "code",
        "id": "Dl6Fh-poRMOH",
        "outputId": "97ba671a-2f95-4c96-a071-520ce4bb0bea",
        "colab": {
          "base_uri": "https://localhost:8080/",
          "height": 279
        }
      },
      "source": [
        "fig = plt.figure()\n",
        "fig_plot = fig.add_subplot()\n",
        "fig_plot.plot(train_accuracyVec, label=\"train_accuracy\")\n",
        "fig_plot.plot(test_accuracyVec, label=\"test_accuracy\")\n",
        "fig_plot.legend(loc=\"lower right\")\n",
        "fig_plot.set_xlabel(\"epoch\")\n",
        "fig_plot.set_ylabel(\"accuracy\")\n",
        "fig_plot.grid(linestyle=\"--\")\n",
        "fig.savefig(\"accuracy_plot.png\")"
      ],
      "execution_count": 17,
      "outputs": [
        {
          "output_type": "display_data",
          "data": {
            "image/png": "[encoded data removed]",
            "text/plain": [
              "<Figure size 432x288 with 1 Axes>"
            ]
          },
          "metadata": {
            "tags": []
          }
        }
      ]
    }
  ]
}