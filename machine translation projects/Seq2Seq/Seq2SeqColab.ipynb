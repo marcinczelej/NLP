{
  "nbformat": 4,
  "nbformat_minor": 0,
  "metadata": {
    "colab": {
      "name": "Seq2Seq.ipynb",
      "provenance": [],
      "collapsed_sections": [],
      "include_colab_link": true
    },
    "kernelspec": {
      "name": "python3",
      "display_name": "Python 3"
    },
    "accelerator": "GPU"
  },
  "cells": [
    {
      "cell_type": "markdown",
      "metadata": {
        "id": "view-in-github",
        "colab_type": "text"
      },
      "source": [
        "<a href=\"https://colab.research.google.com/github/mizzmir/NLP/blob/master/machine%20translation%20projects/Seq2Seq/Seq2SeqColab.ipynb\" target=\"_parent\"><img src=\"https://colab.research.google.com/assets/colab-badge.svg\" alt=\"Open In Colab\"/></a>"
      ]
    },
    {
      "cell_type": "code",
      "metadata": {
        "id": "4gt1BXkCOjge",
        "colab_type": "code",
        "colab": {}
      },
      "source": [
        "pip install tensorflow-gpu --quiet"
      ],
      "execution_count": 0,
      "outputs": []
    },
    {
      "cell_type": "code",
      "metadata": {
        "id": "GiWYjnc4P_0G",
        "colab_type": "code",
        "colab": {
          "base_uri": "https://localhost:8080/",
          "height": 35
        },
        "outputId": "751994b0-b000-4c20-c67b-1d56f4f844e4"
      },
      "source": [
        "!git clone https://github.com/mizzmir/data.git"
      ],
      "execution_count": 2,
      "outputs": [
        {
          "output_type": "stream",
          "text": [
            "fatal: destination path 'data' already exists and is not an empty directory.\n"
          ],
          "name": "stdout"
        }
      ]
    },
    {
      "cell_type": "code",
      "metadata": {
        "id": "gHzn2juDOuKo",
        "colab_type": "code",
        "colab": {}
      },
      "source": [
        "import os\n",
        "import re\n",
        "import sys\n",
        "import unicodedata\n",
        "import tensorflow as tf\n",
        "import numpy as np\n",
        "\n",
        "from sklearn.model_selection import train_test_split\n",
        "\n",
        "from tensorflow.keras.preprocessing.sequence import pad_sequences\n",
        "from tensorflow.keras.preprocessing.text import Tokenizer"
      ],
      "execution_count": 0,
      "outputs": []
    },
    {
      "cell_type": "code",
      "metadata": {
        "id": "DwOBy64XO8A5",
        "colab_type": "code",
        "colab": {}
      },
      "source": [
        "def unicode_to_ascii(s):\n",
        "    return ''.join(\n",
        "        c for c in unicodedata.normalize('NFD', s)\n",
        "        if unicodedata.category(c) != 'Mn')\n",
        "\n",
        "def normalize(s):\n",
        "    s = unicode_to_ascii(s)\n",
        "    s = re.sub(r'([!.?])', r' \\1', s)\n",
        "    s = re.sub(r'[^a-zA-Z.!?-]+', r' ', s)\n",
        "    s = re.sub(r'\\s+', r' ', s)\n",
        "    return s\n",
        "\n",
        "def read_data(data_dir, file_name):\n",
        "    full_path = os.path.join(data_dir, file_name)\n",
        "    print(\"reading data from \", full_path)\n",
        "\n",
        "    with open(full_path) as file:\n",
        "      lines = file.readlines()\n",
        "    \n",
        "    data = []\n",
        "\n",
        "    for line in lines:\n",
        "        data.append(line.split(\"\\t\")[:-1])\n",
        "    \n",
        "    return data\n",
        "\n",
        "def read_data_files(data_dir, file_names):\n",
        "    \n",
        "    en_file_name, fr_file_name = file_names\n",
        "    \n",
        "    full_path = os.path.join(data_dir, en_file_name)\n",
        "    print(\"reading data from \", full_path)\n",
        "\n",
        "    with open(full_path) as file:\n",
        "      en_lines = file.readlines()\n",
        "    \n",
        "    full_path = os.path.join(data_dir, fr_file_name)\n",
        "    print(\"reading data from \", full_path)\n",
        "\n",
        "    with open(full_path) as file:\n",
        "      fr_lines = file.readlines()    \n",
        "    \n",
        "    return en_lines, fr_lines\n",
        "\n",
        "def preprocessSeq(texts, tokenizer):\n",
        "  texts = tokenizer.texts_to_sequences(texts)\n",
        "\n",
        "  return pad_sequences(texts, padding='post')\n",
        "\n",
        "def tokenizeInput(input_data, tokenizer):\n",
        "    output_data = []\n",
        "    for data in input_data:\n",
        "        tokenizer.fit_on_texts(data)\n",
        "    \n",
        "    for data in input_data:\n",
        "        output_data.append(preprocessSeq(data, tokenizer))\n",
        "    \n",
        "    return output_data"
      ],
      "execution_count": 0,
      "outputs": []
    },
    {
      "cell_type": "code",
      "metadata": {
        "id": "6R_7ag1WPFDH",
        "colab_type": "code",
        "colab": {
          "base_uri": "https://localhost:8080/",
          "height": 72
        },
        "outputId": "3b6823bf-7d3c-4634-ca60-012cd10b7316"
      },
      "source": [
        "data_dir = \"/content/data\"\n",
        "\n",
        "# reading data\n",
        "#en_lines, fr_lines = read_data_files(data_dir, (\"small_vocab_en\", \"small_vocab_fr\"))\n",
        "\n",
        "data = read_data(data_dir, \"fra.txt\")\n",
        "en_lines, fr_lines = list(zip(*data))\n",
        "\n",
        "en_lines = en_lines[:30000]\n",
        "fr_lines = fr_lines[:30000]\n",
        "\n",
        "\n",
        "en_lines = [normalize(line) for line in en_lines]\n",
        "fr_lines = [normalize(line) for line in fr_lines]\n",
        "\n",
        "en_train, en_test, fr_train, fr_test = train_test_split(en_lines, fr_lines, shuffle=True, test_size=0.1)\n",
        "\n",
        "fr_train_in = ['<start> ' + line for line in fr_train]\n",
        "fr_train_out = [line + ' <end>' for line in fr_train]\n",
        "\n",
        "fr_test_in = ['<start> ' + line for line in fr_test]\n",
        "fr_test_out = [line + ' <end>' for line in fr_test]\n",
        "\n",
        "fr_tokenizer = Tokenizer(filters='')\n",
        "en_tokenizer = Tokenizer(filters='')\n",
        "\n",
        "input_data = [fr_train_in, fr_train_out, fr_test_in, fr_test_out, fr_test, fr_train]\n",
        "fr_train_in, fr_train_out, fr_test_in, fr_test_out, fr_test, fr_train = tokenizeInput(input_data,\n",
        "                                                                                      fr_tokenizer)\n",
        "\n",
        "input_data = [en_train, en_test]\n",
        "en_train, en_test = tokenizeInput(input_data, en_tokenizer)\n",
        "\n",
        "en_vocab_size = len(en_tokenizer.word_index)+1\n",
        "fr_vocab_size = len(fr_tokenizer.word_index)+1\n",
        "print(\"en_vocab {}\\nfr_vocab {}\" .format(en_vocab_size, fr_vocab_size))"
      ],
      "execution_count": 5,
      "outputs": [
        {
          "output_type": "stream",
          "text": [
            "reading data from  /content/data/fra.txt\n",
            "en_vocab 4398\n",
            "fr_vocab 8329\n"
          ],
          "name": "stdout"
        }
      ]
    },
    {
      "cell_type": "code",
      "metadata": {
        "id": "cXBrMgd2Qi_m",
        "colab_type": "code",
        "colab": {}
      },
      "source": [
        "#\n",
        "# Encoder Decoder\n",
        "#\n",
        "class Encoder(tf.keras.Model):\n",
        "  def __init__(self, vocab_size, embedding_size, units):\n",
        "    super(Encoder, self).__init__()\n",
        "\n",
        "    self.units = units\n",
        "    self.embeding_layer = tf.keras.layers.Embedding(vocab_size, embedding_size, mask_zero=True, trainable=True)\n",
        "    self.lstm_layer = tf.keras.layers.LSTM(units, dropout=0.2, return_sequences=True, return_state=True)\n",
        "  \n",
        "  def call(self, sequences, lstm_states):\n",
        "    # sequences shape = [batch_size, seq_max_len]\n",
        "    # lstm_states = [batch_size, lstm_size] x 2\n",
        "    # encoder_embedded shape = [batch_size, seq_max_len, embedding_size]\n",
        "    # output shape = [batch_size, seq_max_len, lstm_size]\n",
        "    # state_h, state_c shape = [batch_size, lstm_size] x 2\n",
        "\n",
        "    encoder_embedded = self.embeding_layer(sequences)\n",
        "    #print(\"encoder_embedded = \", encoder_embedded.shape)\n",
        "    output, state_h, state_c = self.lstm_layer(encoder_embedded, initial_state=lstm_states)\n",
        "\n",
        "    return output, state_h, state_c\n",
        "\n",
        "  def init_states(self, batch_size):\n",
        "        return (tf.zeros([batch_size, self.units]),\n",
        "                tf.zeros([batch_size, self.units]))\n",
        "\n",
        "class Decoder(tf.keras.Model):\n",
        "  def __init__(self, vocab_size, embedding_size, units):\n",
        "    super(Decoder, self).__init__()\n",
        "\n",
        "    self.embedding_layer = tf.keras.layers.Embedding(vocab_size, embedding_size)\n",
        "    self.lstm_layer = tf.keras.layers.LSTM(units, dropout=0.2, return_sequences=True,\n",
        "                                           return_state=True)\n",
        "    self.dense_layer = tf.keras.layers.Dense(vocab_size)\n",
        "  \n",
        "  def call(self, sequences, lstm_states):\n",
        "    # sequences shape = [batch_size, seq_max_len]\n",
        "    # embedding shape = [batch_size, seq_max_len, embedding_size]\n",
        "    # output shape = [batch_szie, seq_max_len, lstm_size]\n",
        "    # state_h, state_c = [batch_size, lstm_size] x2\n",
        "    # dense shape = [batch_size, seq_max_len, vocab_size]\n",
        "    \n",
        "    decoder_embedded = self.embedding_layer(sequences)\n",
        "    lstm_output, state_h, state_c = self.lstm_layer(decoder_embedded, lstm_states)\n",
        "    return self.dense_layer(lstm_output), state_h, state_c"
      ],
      "execution_count": 0,
      "outputs": []
    },
    {
      "cell_type": "code",
      "metadata": {
        "id": "p_ksVldRQ0z-",
        "colab_type": "code",
        "colab": {}
      },
      "source": [
        "LSTM_SIZE = 512\n",
        "EMBEDDING_SIZE = 250\n",
        "BATCH_SIZE= 64\n",
        "EPOCHS = 20"
      ],
      "execution_count": 0,
      "outputs": []
    },
    {
      "cell_type": "code",
      "metadata": {
        "id": "aCCUpHkNQLCG",
        "colab_type": "code",
        "colab": {}
      },
      "source": [
        "class Seq2SeqTrainer:\n",
        "    def __init__(self, batch_size, lstm_size, embedding_size, predict_every):\n",
        "        self.batch_size = batch_size\n",
        "        self.lstm_size = lstm_size\n",
        "        self.embedding_size = embedding_size\n",
        "        self.predict_every = predict_every\n",
        "        self.strategy = tf.distribute.MirroredStrategy()\n",
        "        self.encoder = None\n",
        "        self.decoder = None\n",
        "        self.optimizer = None\n",
        "        self.fr_tokenizer = None\n",
        "        self.en_tokenizer = None\n",
        "    \n",
        "    def predict(self, input_data, real_data_out):\n",
        "      en_sentence = self.en_tokenizer.sequences_to_texts([input_data])\n",
        "      input_data = tf.expand_dims(input_data, 0)\n",
        "      initial_states = self.encoder.init_states(1)\n",
        "      _, state_h, state_c = self.encoder(tf.constant(input_data), initial_states, training=False)\n",
        "\n",
        "      symbol = tf.constant([[self.fr_tokenizer.word_index['<start>']]])\n",
        "      sentence = []\n",
        "\n",
        "      while True:\n",
        "          symbol, state_h, state_c = self.decoder(symbol, (state_h, state_c), training=False)\n",
        "          # argmax to get max index \n",
        "          symbol = tf.argmax(symbol, axis=-1)\n",
        "          word = self.fr_tokenizer.index_word[symbol.numpy()[0][0]]\n",
        "\n",
        "          if word == '<end>' or len(sentence) >= len(real_data_out):\n",
        "              break\n",
        "\n",
        "          sentence.append(word)\n",
        "      print(\"--------------PREDICTION--------------\")\n",
        "      print(\"  English   :  {}\" .format(en_sentence))\n",
        "      print(\"  Predicted :  {}\" .format(' '.join(sentence)))\n",
        "      print(\"  Correct   :  {}\" .format(self.fr_tokenizer.sequences_to_texts([real_data_out[:-1]])))\n",
        "      print(\"------------END PREDICTION------------\")\n",
        "\n",
        "    def train(self, train_dataset_data, test_dataset_data, tokenizers, epochs, restore_checkpoint=True):\n",
        "        \"\"\"\n",
        "            parameters:\n",
        "                train_dataset_data, test_dataset_data, tokenizers, epochs, restore_checkpoint=True\n",
        "                \n",
        "                train_dataset_data should be made from (en_train, fr_train_in, fr_train_out)\n",
        "                test_dataset_data should be made from (en_test, fr_test_in, fr_test_out)\n",
        "        \"\"\"\n",
        "        \n",
        "        self.en_tokenizer, self.fr_tokenizer = tokenizers\n",
        "        en_vocab_size = len(self.en_tokenizer.word_index)+1\n",
        "        fr_vocab_size = len(self.fr_tokenizer.word_index)+1\n",
        "        print(\"en_vocab {}\\nfr_vocab {}\" .format(en_vocab_size, fr_vocab_size))\n",
        "        \n",
        "        print ('Number of devices: {}'.format(self.strategy.num_replicas_in_sync))\n",
        "        GLOBAL_BATCH_SIZE = self.batch_size*self.strategy.num_replicas_in_sync\n",
        "\n",
        "        print(\"creating dataset...\")\n",
        "        en_train, fr_train_in, fr_train_out = train_dataset_data\n",
        "        en_test, fr_test_in, fr_test_out = test_dataset_data\n",
        "        train_dataset = tf.data.Dataset.from_tensor_slices((en_train, fr_train_in, fr_train_out))\n",
        "        train_dataset = train_dataset.shuffle(len(en_train), reshuffle_each_iteration=True)\\\n",
        "                                        .batch(GLOBAL_BATCH_SIZE, drop_remainder=True)\n",
        "        train_dataset_distr = self.strategy.experimental_distribute_dataset(train_dataset)\n",
        "\n",
        "        test_dataset = tf.data.Dataset.from_tensor_slices((en_test, fr_test_in, fr_test_out))\n",
        "        test_dataset = test_dataset.shuffle(len(en_test), reshuffle_each_iteration=True)\\\n",
        "                                       .batch(GLOBAL_BATCH_SIZE, drop_remainder=True)\n",
        "        test_dataset_distr = self.strategy.experimental_distribute_dataset(test_dataset)\n",
        "        print(\"dataset created\")\n",
        "        \n",
        "        test_losses = []\n",
        "        train_losses = []\n",
        "        train_accuracyVec = []\n",
        "        test_accuracyVec =[]\n",
        "        test_accuracy = tf.keras.metrics.SparseCategoricalAccuracy()\n",
        "        train_accuracy = tf.keras.metrics.SparseCategoricalAccuracy()\n",
        "        one_step_test_accuracy = tf.keras.metrics.SparseCategoricalAccuracy()\n",
        "\n",
        "        with self.strategy.scope():\n",
        "            self.optimizer = tf.keras.optimizers.Adam(clipnorm=5.0)\n",
        "            self.encoder = Encoder(en_vocab_size, self.embedding_size, self.lstm_size)\n",
        "            self.decoder = Decoder(fr_vocab_size, self.embedding_size, self.lstm_size)\n",
        "            \n",
        "            ckpt = tf.train.Checkpoint(encoder=self.encoder,\n",
        "                                       decoder = self.decoder,\n",
        "                                       optimizer=self.optimizer,\n",
        "                                       epoch=tf.Variable(1))\n",
        "\n",
        "            manager = tf.train.CheckpointManager(ckpt, \"./checkpoints/train\", max_to_keep=5)\n",
        "\n",
        "            if manager.latest_checkpoint and restore_checkpoint:\n",
        "                ckpt.restore(manager.latest_checkpoint)\n",
        "                print ('Latest checkpoint restored!!')\n",
        "            else:\n",
        "                print(\"training from scratch\")\n",
        "\n",
        "            loss_obj = tf.keras.losses.SparseCategoricalCrossentropy(from_logits=True, \n",
        "                                                                     reduction=\"none\") \n",
        "            def compute_loss(predictions, labels):\n",
        "                mask = tf.math.logical_not(tf.math.equal(labels, 0))\n",
        "                mask = tf.cast(mask, tf.int64)\n",
        "                per_example_loss = loss_obj(labels, predictions, sample_weight=mask)\n",
        "                return tf.nn.compute_average_loss(per_example_loss, global_batch_size=GLOBAL_BATCH_SIZE)\n",
        "\n",
        "            # one training step\n",
        "            def train_step(encoder_input, decoder_in, decoder_out, initial_states):\n",
        "                with tf.GradientTape() as tape:\n",
        "                    encoder_states = self.encoder(encoder_input, initial_state, training=True)\n",
        "                    predicted_data, _, _ = self.decoder(decoder_in, encoder_states[1:], training=True)\n",
        "                    loss = compute_loss(predicted_data, decoder_out)\n",
        "\n",
        "                trainable = self.encoder.trainable_variables + self.decoder.trainable_variables\n",
        "                grads = tape.gradient(loss, trainable)\n",
        "                self.optimizer.apply_gradients(zip(grads, trainable))\n",
        "                train_accuracy.update_state(decoder_out, predicted_data)\n",
        "                return loss\n",
        "\n",
        "            @tf.function\n",
        "            def distributed_train_step(encoder_input, decoder_in, decoder_out, initial_states):\n",
        "                per_replica_losses = self.strategy.experimental_run_v2(train_step,\n",
        "                                                              args=(encoder_input,\n",
        "                                                                    decoder_in,\n",
        "                                                                    decoder_out,\n",
        "                                                                    initial_states,))\n",
        "                return self.strategy.reduce(tf.distribute.ReduceOp.SUM, per_replica_losses,\n",
        "                                   axis=None)\n",
        "        \n",
        "            def test_step(encoder_input, decoder_in, decoder_out):\n",
        "                initial_state = self.encoder.init_states(self.batch_size)\n",
        "                encoder_states = self.encoder(encoder_input, initial_state, training=False)\n",
        "                predicted_data, _, _ = self.decoder(decoder_in, encoder_states[1:], training=False)\n",
        "                loss = compute_loss(predicted_data, decoder_out)\n",
        "\n",
        "                test_accuracy.update_state(decoder_out, predicted_data)\n",
        "                return loss\n",
        "\n",
        "            @tf.function\n",
        "            def distributed_test_step(encoder_input, decoder_in, decoder_out):\n",
        "                per_replica_losses = self.strategy.experimental_run_v2(test_step,\n",
        "                                                              args=(encoder_input,\n",
        "                                                                    decoder_in,\n",
        "                                                                    decoder_out,))\n",
        "                return self.strategy.reduce(tf.distribute.ReduceOp.SUM, per_replica_losses,\n",
        "                                   axis=None)\n",
        "            print(\"starting training with {} epochs with prediction each {} epoch\" .format(epochs, self.predict_every))\n",
        "            for epoch in range(epochs):\n",
        "                test_accuracy.reset_states()\n",
        "                train_accuracy.reset_states()\n",
        "                initial_state = self.encoder.init_states(self.batch_size)\n",
        "                total_loss = 0.0\n",
        "                num_batches = 0\n",
        "                for _, (en_data, fr_data_in, fr_data_out) in enumerate(train_dataset_distr):\n",
        "                    loss = distributed_train_step(en_data, fr_data_in, fr_data_out, initial_state)\n",
        "                    total_loss += loss\n",
        "                    num_batches += 1\n",
        "                train_losses.append(total_loss/num_batches)\n",
        "                total_loss = 0.0\n",
        "                num_batches = 0\n",
        "                for _, (en_data, fr_data_in, fr_data_out) in enumerate(test_dataset_distr):\n",
        "                    loss = distributed_test_step(en_data, fr_data_in, fr_data_out)\n",
        "                    total_loss += loss\n",
        "                    num_batches += 1\n",
        "                test_losses.append(total_loss/num_batches)\n",
        "                print ('Epoch {} training Loss {:.4f} Accuracy {:.4f}  test Loss {:.4f} Accuracy {:.4f}' .format(\n",
        "                                                      epoch + 1, \n",
        "                                                      train_losses[-1], \n",
        "                                                      train_accuracy.result(),\n",
        "                                                      test_losses[-1],\n",
        "                                                      test_accuracy.result()))\n",
        "                train_accuracyVec.append(train_accuracy.result())\n",
        "                test_accuracyVec.append(test_accuracy.result())\n",
        "                ckpt.epoch.assign_add(1)\n",
        "                if int(epoch) % 5 == 0:\n",
        "                    save_path = manager.save()\n",
        "                    print(\"Saving checkpoint for epoch {}: {}\".format(epoch, save_path))\n",
        "\n",
        "                if epoch % self.predict_every == 0:\n",
        "                    try:\n",
        "                        idx = np.random.randint(low=0, high=len(en_test), size=1)[0]\n",
        "                        self.predict(en_test[idx], fr_test_out[idx])\n",
        "                    except:\n",
        "                        print(\" prediction thrown...\")\n",
        "        return (train_losses, test_losses), (train_accuracyVec, test_accuracyVec)"
      ],
      "execution_count": 0,
      "outputs": []
    },
    {
      "cell_type": "code",
      "metadata": {
        "id": "lFijmdG7QoZX",
        "colab_type": "code",
        "colab": {}
      },
      "source": [
        "trainer = Seq2SeqTrainer(BATCH_SIZE, LSTM_SIZE, EMBEDDING_SIZE, 5)"
      ],
      "execution_count": 0,
      "outputs": []
    },
    {
      "cell_type": "code",
      "metadata": {
        "id": "9l9fzFSvQ7dH",
        "colab_type": "code",
        "colab": {
          "base_uri": "https://localhost:8080/",
          "height": 944
        },
        "outputId": "c0047962-9d0b-40b8-8ad8-ce852830d791"
      },
      "source": [
        "losses, accuracy= trainer.train([en_train, fr_train_in, fr_train_out], [en_test, fr_test_in, fr_test_out], [en_tokenizer, fr_tokenizer], 20, restore_checkpoint=False)"
      ],
      "execution_count": 10,
      "outputs": [
        {
          "output_type": "stream",
          "text": [
            "en_vocab 4398\n",
            "fr_vocab 8329\n",
            "Number of devices: 1\n",
            "creating dataset...\n",
            "dataset created\n",
            "training from scratch\n",
            "starting training with 20 epochs with prediction each 5 epoch\n",
            "Epoch 1 training Loss 25.3159 Accuracy 0.1427  test Loss 20.5905 Accuracy 0.2067\n",
            "Saving checkpoint for epoch 0: ./checkpoints/train/ckpt-1\n",
            "--------------PREDICTION--------------\n",
            "  English   :  ['i still have to try .']\n",
            "  Predicted :  je suis en l l air .\n",
            "  Correct   :  ['je dois encore essayer . <end>']\n",
            "------------END PREDICTION------------\n",
            "Epoch 2 training Loss 17.6176 Accuracy 0.1982  test Loss 16.9652 Accuracy 0.2400\n",
            "Epoch 3 training Loss 14.1993 Accuracy 0.2208  test Loss 15.0002 Accuracy 0.2587\n",
            "Epoch 4 training Loss 11.7556 Accuracy 0.2368  test Loss 13.7402 Accuracy 0.2703\n",
            "Epoch 5 training Loss 9.8438 Accuracy 0.2511  test Loss 12.8338 Accuracy 0.2798\n",
            "Epoch 6 training Loss 8.2757 Accuracy 0.2646  test Loss 12.0805 Accuracy 0.2882\n",
            "Saving checkpoint for epoch 5: ./checkpoints/train/ckpt-2\n",
            "--------------PREDICTION--------------\n",
            "  English   :  ['do you want kids ?']\n",
            "  Predicted :  voulez-vous les enfants ?\n",
            "  Correct   :  ['voulez-vous des enfants ? <end>']\n",
            "------------END PREDICTION------------\n",
            "Epoch 7 training Loss 6.9892 Accuracy 0.2774  test Loss 11.7028 Accuracy 0.2946\n",
            "Epoch 8 training Loss 5.9198 Accuracy 0.2897  test Loss 11.3368 Accuracy 0.2997\n",
            "Epoch 9 training Loss 5.0514 Accuracy 0.3004  test Loss 11.2239 Accuracy 0.3036\n",
            "Epoch 10 training Loss 4.3342 Accuracy 0.3099  test Loss 11.0404 Accuracy 0.3080\n",
            "Epoch 11 training Loss 3.7396 Accuracy 0.3182  test Loss 10.8894 Accuracy 0.3103\n",
            "Saving checkpoint for epoch 10: ./checkpoints/train/ckpt-3\n",
            "--------------PREDICTION--------------\n",
            "  English   :  ['that will not do .']\n",
            "  Predicted :  ca ne va pas .\n",
            "  Correct   :  ['ca ne fera pas le compte . <end>']\n",
            "------------END PREDICTION------------\n",
            "Epoch 12 training Loss 3.2640 Accuracy 0.3250  test Loss 10.8811 Accuracy 0.3130\n",
            "Epoch 13 training Loss 2.8802 Accuracy 0.3306  test Loss 10.8608 Accuracy 0.3130\n",
            "Epoch 14 training Loss 2.5834 Accuracy 0.3353  test Loss 10.8874 Accuracy 0.3145\n",
            "Epoch 15 training Loss 2.3337 Accuracy 0.3387  test Loss 11.0155 Accuracy 0.3170\n",
            "Epoch 16 training Loss 2.1362 Accuracy 0.3416  test Loss 11.0570 Accuracy 0.3153\n",
            "Saving checkpoint for epoch 15: ./checkpoints/train/ckpt-4\n",
            "--------------PREDICTION--------------\n",
            "  English   :  ['i paid my taxes .']\n",
            "  Predicted :  j ai paye mes factures .\n",
            "  Correct   :  ['j ai paye mes impots . <end>']\n",
            "------------END PREDICTION------------\n",
            "Epoch 17 training Loss 1.9935 Accuracy 0.3442  test Loss 11.2598 Accuracy 0.3157\n",
            "Epoch 18 training Loss 1.8669 Accuracy 0.3455  test Loss 11.2464 Accuracy 0.3162\n",
            "Epoch 19 training Loss 1.7620 Accuracy 0.3472  test Loss 11.4242 Accuracy 0.3162\n",
            "Epoch 20 training Loss 1.6799 Accuracy 0.3482  test Loss 11.4969 Accuracy 0.3176\n"
          ],
          "name": "stdout"
        }
      ]
    },
    {
      "cell_type": "code",
      "metadata": {
        "id": "BiD8-8tHRI92",
        "colab_type": "code",
        "colab": {}
      },
      "source": [
        "train_losses, test_losses = losses \n",
        "train_accuracyVec, test_accuracyVec = accuracy"
      ],
      "execution_count": 0,
      "outputs": []
    },
    {
      "cell_type": "code",
      "metadata": {
        "id": "QlhT--W5RKTp",
        "colab_type": "code",
        "colab": {
          "base_uri": "https://localhost:8080/",
          "height": 279
        },
        "outputId": "a78340d4-08a0-47f0-81f3-1611b1f4e2e4"
      },
      "source": [
        "import matplotlib.pyplot as plt\n",
        "fig = plt.figure()\n",
        "fig_plot = fig.add_subplot()\n",
        "fig_plot.plot(train_losses, label=\"train_loss\")\n",
        "fig_plot.plot(test_losses, label=\"test_loss\")\n",
        "fig_plot.legend(loc=\"upper right\")\n",
        "fig_plot.set_xlabel(\"epoch\")\n",
        "fig_plot.set_ylabel(\"loss\")\n",
        "fig_plot.grid(linestyle=\"--\")\n",
        "fig.savefig(\"losses_plot.png\")\n",
        "fig.show()"
      ],
      "execution_count": 12,
      "outputs": [
        {
          "output_type": "display_data",
          "data": {
            "image/png": "[encoded data removed]",
            "text/plain": [
              "<Figure size 432x288 with 1 Axes>"
            ]
          },
          "metadata": {
            "tags": []
          }
        }
      ]
    },
    {
      "cell_type": "code",
      "metadata": {
        "id": "Dl6Fh-poRMOH",
        "colab_type": "code",
        "colab": {
          "base_uri": "https://localhost:8080/",
          "height": 279
        },
        "outputId": "8b436e77-e5e0-4e20-b124-c2e81afcb693"
      },
      "source": [
        "fig = plt.figure()\n",
        "fig_plot = fig.add_subplot()\n",
        "fig_plot.plot(train_accuracyVec, label=\"train_accuracy\")\n",
        "fig_plot.plot(test_accuracyVec, label=\"test_accuracy\")\n",
        "fig_plot.legend(loc=\"lower right\")\n",
        "fig_plot.set_xlabel(\"epoch\")\n",
        "fig_plot.set_ylabel(\"accuracy\")\n",
        "fig_plot.grid(linestyle=\"--\")\n",
        "fig.savefig(\"accuracy_plot.png\")"
      ],
      "execution_count": 13,
      "outputs": [
        {
          "output_type": "display_data",
          "data": {
            "image/png": "[encoded data removed]",
            "text/plain": [
              "<Figure size 432x288 with 1 Axes>"
            ]
          },
          "metadata": {
            "tags": []
          }
        }
      ]
    }
  ]
}