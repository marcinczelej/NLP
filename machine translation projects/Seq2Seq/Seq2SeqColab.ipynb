{
  "nbformat": 4,
  "nbformat_minor": 0,
  "metadata": {
    "colab": {
      "name": "Seq2Seq.ipynb",
      "provenance": [],
      "collapsed_sections": [],
      "include_colab_link": true
    },
    "kernelspec": {
      "name": "python3",
      "display_name": "Python 3"
    },
    "accelerator": "GPU"
  },
  "cells": [
    {
      "cell_type": "markdown",
      "metadata": {
        "id": "view-in-github",
        "colab_type": "text"
      },
      "source": [
        "<a href=\"https://colab.research.google.com/github/mizzmir/NLP/blob/master/machine%20translation%20projects/Seq2Seq/Seq2SeqColab.ipynb\" target=\"_parent\"><img src=\"https://colab.research.google.com/assets/colab-badge.svg\" alt=\"Open In Colab\"/></a>"
      ]
    },
    {
      "cell_type": "code",
      "metadata": {
        "id": "4gt1BXkCOjge",
        "colab_type": "code",
        "colab": {
          "base_uri": "https://localhost:8080/",
          "height": 182
        },
        "outputId": "4e25babb-bef0-4c2a-9252-74f96abfae0d"
      },
      "source": [
        "pip install tensorflow-gpu --quiet"
      ],
      "execution_count": 1,
      "outputs": [
        {
          "output_type": "stream",
          "text": [
            "\u001b[K     |████████████████████████████████| 380.8MB 46kB/s \n",
            "\u001b[K     |████████████████████████████████| 3.8MB 56.9MB/s \n",
            "\u001b[K     |████████████████████████████████| 450kB 66.2MB/s \n",
            "\u001b[K     |████████████████████████████████| 81kB 11.9MB/s \n",
            "\u001b[31mERROR: tensorflow 1.15.0 has requirement tensorboard<1.16.0,>=1.15.0, but you'll have tensorboard 2.0.2 which is incompatible.\u001b[0m\n",
            "\u001b[31mERROR: tensorflow 1.15.0 has requirement tensorflow-estimator==1.15.1, but you'll have tensorflow-estimator 2.0.1 which is incompatible.\u001b[0m\n",
            "\u001b[31mERROR: tensorboard 2.0.2 has requirement grpcio>=1.24.3, but you'll have grpcio 1.15.0 which is incompatible.\u001b[0m\n",
            "\u001b[31mERROR: google-colab 1.0.0 has requirement google-auth~=1.4.0, but you'll have google-auth 1.8.1 which is incompatible.\u001b[0m\n",
            "\u001b[?25h"
          ],
          "name": "stdout"
        }
      ]
    },
    {
      "cell_type": "code",
      "metadata": {
        "id": "GiWYjnc4P_0G",
        "colab_type": "code",
        "colab": {
          "base_uri": "https://localhost:8080/",
          "height": 126
        },
        "outputId": "e66f667b-bff7-4819-c6e3-bdf447d36cb7"
      },
      "source": [
        "!git clone https://github.com/mizzmir/data.git"
      ],
      "execution_count": 2,
      "outputs": [
        {
          "output_type": "stream",
          "text": [
            "Cloning into 'data'...\n",
            "remote: Enumerating objects: 10, done.\u001b[K\n",
            "remote: Counting objects: 100% (10/10), done.\u001b[K\n",
            "remote: Compressing objects: 100% (8/8), done.\u001b[K\n",
            "remote: Total 10 (delta 1), reused 6 (delta 0), pack-reused 0\u001b[K\n",
            "Unpacking objects: 100% (10/10), done.\n"
          ],
          "name": "stdout"
        }
      ]
    },
    {
      "cell_type": "code",
      "metadata": {
        "id": "gHzn2juDOuKo",
        "colab_type": "code",
        "colab": {}
      },
      "source": [
        "import os\n",
        "import re\n",
        "import sys\n",
        "import unicodedata\n",
        "import tensorflow as tf\n",
        "import numpy as np\n",
        "\n",
        "from sklearn.model_selection import train_test_split\n",
        "\n",
        "from tensorflow.keras.preprocessing.sequence import pad_sequences\n",
        "from tensorflow.keras.preprocessing.text import Tokenizer"
      ],
      "execution_count": 0,
      "outputs": []
    },
    {
      "cell_type": "code",
      "metadata": {
        "id": "DwOBy64XO8A5",
        "colab_type": "code",
        "colab": {}
      },
      "source": [
        "def unicode_to_ascii(s):\n",
        "    return ''.join(\n",
        "        c for c in unicodedata.normalize('NFD', s)\n",
        "        if unicodedata.category(c) != 'Mn')\n",
        "\n",
        "def normalize(s):\n",
        "    s = unicode_to_ascii(s)\n",
        "    s = re.sub(r'([!.?])', r' \\1', s)\n",
        "    s = re.sub(r'[^a-zA-Z.!?-]+', r' ', s)\n",
        "    s = re.sub(r'\\s+', r' ', s)\n",
        "    return s\n",
        "\n",
        "def read_data(data_dir, file_name):\n",
        "    full_path = os.path.join(data_dir, file_name)\n",
        "    print(\"reading data from \", full_path)\n",
        "\n",
        "    with open(full_path) as file:\n",
        "      lines = file.readlines()\n",
        "    \n",
        "    data = []\n",
        "\n",
        "    for line in lines:\n",
        "        data.append(line.split(\"\\t\")[:-1])\n",
        "    \n",
        "    return data\n",
        "\n",
        "def read_data_files(data_dir, file_names):\n",
        "    \n",
        "    en_file_name, fr_file_name = file_names\n",
        "    \n",
        "    full_path = os.path.join(data_dir, en_file_name)\n",
        "    print(\"reading data from \", full_path)\n",
        "\n",
        "    with open(full_path) as file:\n",
        "      en_lines = file.readlines()\n",
        "    \n",
        "    full_path = os.path.join(data_dir, fr_file_name)\n",
        "    print(\"reading data from \", full_path)\n",
        "\n",
        "    with open(full_path) as file:\n",
        "      fr_lines = file.readlines()    \n",
        "    \n",
        "    return en_lines, fr_lines\n",
        "\n",
        "def preprocessSeq(texts, tokenizer):\n",
        "  texts = tokenizer.texts_to_sequences(texts)\n",
        "\n",
        "  return pad_sequences(texts, padding='post')\n",
        "\n",
        "def tokenizeInput(input_data, tokenizer):\n",
        "    output_data = []\n",
        "    for data in input_data:\n",
        "        tokenizer.fit_on_texts(data)\n",
        "    \n",
        "    for data in input_data:\n",
        "        output_data.append(preprocessSeq(data, tokenizer))\n",
        "    \n",
        "    return output_data"
      ],
      "execution_count": 0,
      "outputs": []
    },
    {
      "cell_type": "code",
      "metadata": {
        "id": "6R_7ag1WPFDH",
        "colab_type": "code",
        "colab": {
          "base_uri": "https://localhost:8080/",
          "height": 72
        },
        "outputId": "c8b9f80d-6418-4485-c513-1104655a4c00"
      },
      "source": [
        "data_dir = \"/content/data\"\n",
        "\n",
        "# reading data\n",
        "#en_lines, fr_lines = read_data_files(data_dir, (\"small_vocab_en\", \"small_vocab_fr\"))\n",
        "\n",
        "data = read_data(data_dir, \"fra.txt\")\n",
        "en_lines, fr_lines = list(zip(*data))\n",
        "\n",
        "en_lines = en_lines[:40000]\n",
        "fr_lines = fr_lines[:40000]\n",
        "\n",
        "\n",
        "en_lines = [normalize(line) for line in en_lines]\n",
        "fr_lines = [normalize(line) for line in fr_lines]\n",
        "\n",
        "en_train, en_test, fr_train, fr_test = train_test_split(en_lines, fr_lines, shuffle=True, test_size=0.1)\n",
        "\n",
        "fr_train_in = ['<start> ' + line for line in fr_train]\n",
        "fr_train_out = [line + ' <end>' for line in fr_train]\n",
        "\n",
        "fr_test_in = ['<start> ' + line for line in fr_test]\n",
        "fr_test_out = [line + ' <end>' for line in fr_test]\n",
        "\n",
        "fr_tokenizer = Tokenizer(filters='')\n",
        "en_tokenizer = Tokenizer(filters='')\n",
        "\n",
        "input_data = [fr_train_in, fr_train_out, fr_test_in, fr_test_out, fr_test, fr_train]\n",
        "fr_train_in, fr_train_out, fr_test_in, fr_test_out, fr_test, fr_train = tokenizeInput(input_data,\n",
        "                                                                                      fr_tokenizer)\n",
        "\n",
        "input_data = [en_train, en_test]\n",
        "en_train, en_test = tokenizeInput(input_data, en_tokenizer)\n",
        "\n",
        "en_vocab_size = len(en_tokenizer.word_index)+1\n",
        "fr_vocab_size = len(fr_tokenizer.word_index)+1\n",
        "print(\"en_vocab {}\\nfr_vocab {}\" .format(en_vocab_size, fr_vocab_size))"
      ],
      "execution_count": 5,
      "outputs": [
        {
          "output_type": "stream",
          "text": [
            "reading data from  /content/data/fra.txt\n",
            "en_vocab 5178\n",
            "fr_vocab 9851\n"
          ],
          "name": "stdout"
        }
      ]
    },
    {
      "cell_type": "code",
      "metadata": {
        "id": "cXBrMgd2Qi_m",
        "colab_type": "code",
        "colab": {}
      },
      "source": [
        "#\n",
        "# Encoder Decoder\n",
        "#\n",
        "class Encoder(tf.keras.Model):\n",
        "  def __init__(self, vocab_size, embedding_size, units):\n",
        "    super(Encoder, self).__init__()\n",
        "\n",
        "    self.units = units\n",
        "    self.embeding_layer = tf.keras.layers.Embedding(vocab_size, embedding_size, mask_zero=True, trainable=True)\n",
        "    self.lstm_layer = tf.keras.layers.LSTM(units, dropout=0.2, return_sequences=True, return_state=True)\n",
        "  \n",
        "  def call(self, sequences, lstm_states):\n",
        "    # sequences shape = [batch_size, seq_max_len]\n",
        "    # lstm_states = [batch_size, lstm_size] x 2\n",
        "    # encoder_embedded shape = [batch_size, seq_max_len, embedding_size]\n",
        "    # output shape = [batch_size, seq_max_len, lstm_size]\n",
        "    # state_h, state_c shape = [batch_size, lstm_size] x 2\n",
        "\n",
        "    encoder_embedded = self.embeding_layer(sequences)\n",
        "    #print(\"encoder_embedded = \", encoder_embedded.shape)\n",
        "    output, state_h, state_c = self.lstm_layer(encoder_embedded, initial_state=lstm_states)\n",
        "\n",
        "    return output, state_h, state_c\n",
        "\n",
        "  def init_states(self, batch_size):\n",
        "        return (tf.zeros([batch_size, self.units]),\n",
        "                tf.zeros([batch_size, self.units]))\n",
        "\n",
        "class Decoder(tf.keras.Model):\n",
        "  def __init__(self, vocab_size, embedding_size, units):\n",
        "    super(Decoder, self).__init__()\n",
        "\n",
        "    self.embedding_layer = tf.keras.layers.Embedding(vocab_size, embedding_size)\n",
        "    self.lstm_layer = tf.keras.layers.LSTM(units, dropout=0.2, return_sequences=True,\n",
        "                                           return_state=True)\n",
        "    self.dense_layer = tf.keras.layers.Dense(vocab_size)\n",
        "  \n",
        "  def call(self, sequences, lstm_states):\n",
        "    # sequences shape = [batch_size, seq_max_len]\n",
        "    # embedding shape = [batch_size, seq_max_len, embedding_size]\n",
        "    # output shape = [batch_szie, seq_max_len, lstm_size]\n",
        "    # state_h, state_c = [batch_size, lstm_size] x2\n",
        "    # dense shape = [batch_size, seq_max_len, vocab_size]\n",
        "    \n",
        "    decoder_embedded = self.embedding_layer(sequences)\n",
        "    lstm_output, state_h, state_c = self.lstm_layer(decoder_embedded, lstm_states)\n",
        "    return self.dense_layer(lstm_output), state_h, state_c"
      ],
      "execution_count": 0,
      "outputs": []
    },
    {
      "cell_type": "code",
      "metadata": {
        "id": "p_ksVldRQ0z-",
        "colab_type": "code",
        "colab": {}
      },
      "source": [
        "LSTM_SIZE = 512\n",
        "EMBEDDING_SIZE = 250\n",
        "BATCH_SIZE= 64\n",
        "EPOCHS = 20"
      ],
      "execution_count": 0,
      "outputs": []
    },
    {
      "cell_type": "code",
      "metadata": {
        "id": "aCCUpHkNQLCG",
        "colab_type": "code",
        "colab": {}
      },
      "source": [
        "class Seq2SeqTrainer:\n",
        "    def __init__(self, batch_size, lstm_size, embedding_size, predict_every):\n",
        "        self.batch_size = batch_size\n",
        "        self.lstm_size = lstm_size\n",
        "        self.embedding_size = embedding_size\n",
        "        self.predict_every = predict_every\n",
        "        self.strategy = tf.distribute.MirroredStrategy()\n",
        "        self.encoder = None\n",
        "        self.decoder = None\n",
        "        self.optimizer = None\n",
        "        self.fr_tokenizer = None\n",
        "        self.en_tokenizer = None\n",
        "    \n",
        "    def predict(self, input_data, real_data_out):\n",
        "      en_sentence = self.en_tokenizer.sequences_to_texts([input_data])\n",
        "      input_data = tf.expand_dims(input_data, 0)\n",
        "      initial_states = self.encoder.init_states(1)\n",
        "      _, state_h, state_c = self.encoder(tf.constant(input_data), initial_states, training=False)\n",
        "\n",
        "      symbol = tf.constant([[self.fr_tokenizer.word_index['<start>']]])\n",
        "      sentence = []\n",
        "\n",
        "      while True:\n",
        "          symbol, state_h, state_c = self.decoder(symbol, (state_h, state_c), training=False)\n",
        "          # argmax to get max index \n",
        "          symbol = tf.argmax(symbol, axis=-1)\n",
        "          word = self.fr_tokenizer.index_word[symbol.numpy()[0][0]]\n",
        "\n",
        "          if word == '<end>' or len(sentence) >= len(real_data_out):\n",
        "              break\n",
        "\n",
        "          sentence.append(word)\n",
        "      print(\"--------------PREDICTION--------------\")\n",
        "      print(\"  English   :  {}\" .format(en_sentence))\n",
        "      print(\"  Predicted :  {}\" .format(' '.join(sentence)))\n",
        "      print(\"  Correct   :  {}\" .format(self.fr_tokenizer.sequences_to_texts([real_data_out[:-1]])))\n",
        "      print(\"------------END PREDICTION------------\")\n",
        "\n",
        "    def train(self, train_dataset_data, test_dataset_data, tokenizers, epochs, restore_checkpoint=True):\n",
        "        \"\"\"\n",
        "            parameters:\n",
        "                train_dataset_data, test_dataset_data, tokenizers, epochs, restore_checkpoint=True\n",
        "                \n",
        "                train_dataset_data should be made from (en_train, fr_train_in, fr_train_out)\n",
        "                test_dataset_data should be made from (en_test, fr_test_in, fr_test_out)\n",
        "        \"\"\"\n",
        "        \n",
        "        self.en_tokenizer, self.fr_tokenizer = tokenizers\n",
        "        en_vocab_size = len(self.en_tokenizer.word_index)+1\n",
        "        fr_vocab_size = len(self.fr_tokenizer.word_index)+1\n",
        "        print(\"en_vocab {}\\nfr_vocab {}\" .format(en_vocab_size, fr_vocab_size))\n",
        "        \n",
        "        print ('Number of devices: {}'.format(self.strategy.num_replicas_in_sync))\n",
        "        GLOBAL_BATCH_SIZE = self.batch_size*self.strategy.num_replicas_in_sync\n",
        "\n",
        "        print(\"creating dataset...\")\n",
        "        en_train, fr_train_in, fr_train_out = train_dataset_data\n",
        "        en_test, fr_test_in, fr_test_out = test_dataset_data\n",
        "        train_dataset = tf.data.Dataset.from_tensor_slices((en_train, fr_train_in, fr_train_out))\n",
        "        train_dataset = train_dataset.shuffle(len(en_train), reshuffle_each_iteration=True)\\\n",
        "                                        .batch(GLOBAL_BATCH_SIZE, drop_remainder=True)\n",
        "        train_dataset_distr = self.strategy.experimental_distribute_dataset(train_dataset)\n",
        "\n",
        "        test_dataset = tf.data.Dataset.from_tensor_slices((en_test, fr_test_in, fr_test_out))\n",
        "        test_dataset = test_dataset.shuffle(len(en_test), reshuffle_each_iteration=True)\\\n",
        "                                       .batch(GLOBAL_BATCH_SIZE, drop_remainder=True)\n",
        "        test_dataset_distr = self.strategy.experimental_distribute_dataset(test_dataset)\n",
        "        print(\"dataset created\")\n",
        "        \n",
        "        test_losses = []\n",
        "        train_losses = []\n",
        "        train_accuracyVec = []\n",
        "        test_accuracyVec =[]\n",
        "        test_accuracy = tf.keras.metrics.SparseCategoricalAccuracy()\n",
        "        train_accuracy = tf.keras.metrics.SparseCategoricalAccuracy()\n",
        "        one_step_test_accuracy = tf.keras.metrics.SparseCategoricalAccuracy()\n",
        "\n",
        "        with self.strategy.scope():\n",
        "            self.optimizer = tf.keras.optimizers.Adam(clipnorm=5.0)\n",
        "            self.encoder = Encoder(en_vocab_size, self.embedding_size, self.lstm_size)\n",
        "            self.decoder = Decoder(fr_vocab_size, self.embedding_size, self.lstm_size)\n",
        "            \n",
        "            ckpt = tf.train.Checkpoint(encoder=self.encoder,\n",
        "                                       decoder = self.decoder,\n",
        "                                       optimizer=self.optimizer,\n",
        "                                       epoch=tf.Variable(1))\n",
        "\n",
        "            manager = tf.train.CheckpointManager(ckpt, \"./checkpoints/train\", max_to_keep=5)\n",
        "\n",
        "            if manager.latest_checkpoint and restore_checkpoint:\n",
        "                ckpt.restore(manager.latest_checkpoint)\n",
        "                print ('Latest checkpoint restored!!')\n",
        "            else:\n",
        "                print(\"training from scratch\")\n",
        "\n",
        "            loss_obj = tf.keras.losses.SparseCategoricalCrossentropy(from_logits=True, \n",
        "                                                                     reduction=\"none\") \n",
        "            def compute_loss(predictions, labels):\n",
        "                mask = tf.math.logical_not(tf.math.equal(labels, 0))\n",
        "                mask = tf.cast(mask, tf.int64)\n",
        "                per_example_loss = loss_obj(labels, predictions, sample_weight=mask)\n",
        "                return tf.nn.compute_average_loss(per_example_loss, global_batch_size=GLOBAL_BATCH_SIZE)\n",
        "\n",
        "            # one training step\n",
        "            def train_step(encoder_input, decoder_in, decoder_out, initial_states):\n",
        "                with tf.GradientTape() as tape:\n",
        "                    encoder_states = self.encoder(encoder_input, initial_state, training=True)\n",
        "                    predicted_data, _, _ = self.decoder(decoder_in, encoder_states[1:], training=True)\n",
        "                    loss = compute_loss(predicted_data, decoder_out)\n",
        "\n",
        "                trainable = self.encoder.trainable_variables + self.decoder.trainable_variables\n",
        "                grads = tape.gradient(loss, trainable)\n",
        "                self.optimizer.apply_gradients(zip(grads, trainable))\n",
        "                train_accuracy.update_state(decoder_out, predicted_data)\n",
        "                return loss\n",
        "\n",
        "            @tf.function\n",
        "            def distributed_train_step(encoder_input, decoder_in, decoder_out, initial_states):\n",
        "                per_replica_losses = self.strategy.experimental_run_v2(train_step,\n",
        "                                                              args=(encoder_input,\n",
        "                                                                    decoder_in,\n",
        "                                                                    decoder_out,\n",
        "                                                                    initial_states,))\n",
        "                return self.strategy.reduce(tf.distribute.ReduceOp.SUM, per_replica_losses,\n",
        "                                   axis=None)\n",
        "        \n",
        "            def test_step(encoder_input, decoder_in, decoder_out):\n",
        "                initial_state = self.encoder.init_states(self.batch_size)\n",
        "                encoder_states = self.encoder(encoder_input, initial_state, training=False)\n",
        "                predicted_data, _, _ = self.decoder(decoder_in, encoder_states[1:], training=False)\n",
        "                loss = compute_loss(predicted_data, decoder_out)\n",
        "\n",
        "                test_accuracy.update_state(decoder_out, predicted_data)\n",
        "                return loss\n",
        "\n",
        "            @tf.function\n",
        "            def distributed_test_step(encoder_input, decoder_in, decoder_out):\n",
        "                per_replica_losses = self.strategy.experimental_run_v2(test_step,\n",
        "                                                              args=(encoder_input,\n",
        "                                                                    decoder_in,\n",
        "                                                                    decoder_out,))\n",
        "                return self.strategy.reduce(tf.distribute.ReduceOp.SUM, per_replica_losses,\n",
        "                                   axis=None)\n",
        "            print(\"starting training with {} epochs with prediction each {} epoch\" .format(epochs, self.predict_every))\n",
        "            for epoch in range(epochs):\n",
        "                test_accuracy.reset_states()\n",
        "                train_accuracy.reset_states()\n",
        "                initial_state = self.encoder.init_states(self.batch_size)\n",
        "                total_loss = 0.0\n",
        "                num_batches = 0\n",
        "                for _, (en_data, fr_data_in, fr_data_out) in enumerate(train_dataset_distr):\n",
        "                    loss = distributed_train_step(en_data, fr_data_in, fr_data_out, initial_state)\n",
        "                    total_loss += loss\n",
        "                    num_batches += 1\n",
        "                train_losses.append(total_loss/num_batches)\n",
        "                total_loss = 0.0\n",
        "                num_batches = 0\n",
        "                for _, (en_data, fr_data_in, fr_data_out) in enumerate(test_dataset_distr):\n",
        "                    loss = distributed_test_step(en_data, fr_data_in, fr_data_out)\n",
        "                    total_loss += loss\n",
        "                    num_batches += 1\n",
        "                test_losses.append(total_loss/num_batches)\n",
        "                print ('Epoch {} training Loss {:.4f} Accuracy {:.4f}  test Loss {:.4f} Accuracy {:.4f}' .format(\n",
        "                                                      epoch + 1, \n",
        "                                                      train_losses[-1], \n",
        "                                                      train_accuracy.result(),\n",
        "                                                      test_losses[-1],\n",
        "                                                      test_accuracy.result()))\n",
        "                train_accuracyVec.append(train_accuracy.result())\n",
        "                test_accuracyVec.append(test_accuracy.result())\n",
        "                ckpt.epoch.assign_add(1)\n",
        "                if int(epoch) % 5 == 0:\n",
        "                    save_path = manager.save()\n",
        "                    print(\"Saving checkpoint for epoch {}: {}\".format(epoch, save_path))\n",
        "\n",
        "                if epoch % self.predict_every == 0:\n",
        "                    try:\n",
        "                        idx = np.random.randint(low=0, high=len(en_test), size=1)[0]\n",
        "                        self.predict(en_test[idx], fr_test_out[idx])\n",
        "                    except:\n",
        "                        print(\" prediction thrown...\")\n",
        "        return (train_losses, test_losses), (train_accuracyVec, test_accuracyVec)"
      ],
      "execution_count": 0,
      "outputs": []
    },
    {
      "cell_type": "code",
      "metadata": {
        "id": "lFijmdG7QoZX",
        "colab_type": "code",
        "colab": {}
      },
      "source": [
        "trainer = Seq2SeqTrainer(BATCH_SIZE, LSTM_SIZE, EMBEDDING_SIZE, 5)"
      ],
      "execution_count": 0,
      "outputs": []
    },
    {
      "cell_type": "code",
      "metadata": {
        "id": "9l9fzFSvQ7dH",
        "colab_type": "code",
        "colab": {
          "base_uri": "https://localhost:8080/",
          "height": 944
        },
        "outputId": "a0310f77-a80e-4c35-bc0c-59931669b2b0"
      },
      "source": [
        "losses, accuracy= trainer.train([en_train, fr_train_in, fr_train_out], [en_test, fr_test_in, fr_test_out], [en_tokenizer, fr_tokenizer], 20, restore_checkpoint=False)"
      ],
      "execution_count": 10,
      "outputs": [
        {
          "output_type": "stream",
          "text": [
            "en_vocab 5178\n",
            "fr_vocab 9851\n",
            "Number of devices: 1\n",
            "creating dataset...\n",
            "dataset created\n",
            "training from scratch\n",
            "starting training with 20 epochs with prediction each 5 epoch\n",
            "Epoch 1 training Loss 25.9236 Accuracy 0.1383  test Loss 20.4846 Accuracy 0.2337\n",
            "Saving checkpoint for epoch 0: ./checkpoints/train/ckpt-1\n",
            "--------------PREDICTION--------------\n",
            "  English   :  ['they re dying .']\n",
            "  Predicted :  tom est tres .\n",
            "  Correct   :  ['ils sont en train de mourir . <end>']\n",
            "------------END PREDICTION------------\n",
            "Epoch 2 training Loss 17.8779 Accuracy 0.1928  test Loss 16.6354 Accuracy 0.2700\n",
            "Epoch 3 training Loss 14.1603 Accuracy 0.2158  test Loss 14.5275 Accuracy 0.2922\n",
            "Epoch 4 training Loss 11.4927 Accuracy 0.2333  test Loss 13.1780 Accuracy 0.3051\n",
            "Epoch 5 training Loss 9.4704 Accuracy 0.2487  test Loss 12.1995 Accuracy 0.3168\n",
            "Epoch 6 training Loss 7.8527 Accuracy 0.2632  test Loss 11.5242 Accuracy 0.3273\n",
            "Saving checkpoint for epoch 5: ./checkpoints/train/ckpt-2\n",
            "--------------PREDICTION--------------\n",
            "  English   :  ['she s a tough one .']\n",
            "  Predicted :  elle est une bonne danseuse .\n",
            "  Correct   :  ['c est une coriace . <end>']\n",
            "------------END PREDICTION------------\n",
            "Epoch 7 training Loss 6.5542 Accuracy 0.2763  test Loss 11.0931 Accuracy 0.3345\n",
            "Epoch 8 training Loss 5.5033 Accuracy 0.2883  test Loss 10.6796 Accuracy 0.3407\n",
            "Epoch 9 training Loss 4.6446 Accuracy 0.2991  test Loss 10.4724 Accuracy 0.3455\n",
            "Epoch 10 training Loss 3.9653 Accuracy 0.3079  test Loss 10.3329 Accuracy 0.3497\n",
            "Epoch 11 training Loss 3.4336 Accuracy 0.3151  test Loss 10.3416 Accuracy 0.3524\n",
            "Saving checkpoint for epoch 10: ./checkpoints/train/ckpt-3\n",
            "--------------PREDICTION--------------\n",
            "  English   :  ['you re a traitor .']\n",
            "  Predicted :  vous etes un traitre .\n",
            "  Correct   :  ['vous etes une traitresse . <end>']\n",
            "------------END PREDICTION------------\n",
            "Epoch 12 training Loss 3.0019 Accuracy 0.3214  test Loss 10.3356 Accuracy 0.3541\n",
            "Epoch 13 training Loss 2.6673 Accuracy 0.3260  test Loss 10.3566 Accuracy 0.3548\n",
            "Epoch 14 training Loss 2.4087 Accuracy 0.3297  test Loss 10.4393 Accuracy 0.3563\n",
            "Epoch 15 training Loss 2.2001 Accuracy 0.3327  test Loss 10.5149 Accuracy 0.3573\n",
            "Epoch 16 training Loss 2.0257 Accuracy 0.3351  test Loss 10.6102 Accuracy 0.3575\n",
            "Saving checkpoint for epoch 15: ./checkpoints/train/ckpt-4\n",
            "--------------PREDICTION--------------\n",
            "  English   :  ['you re faithful .']\n",
            "  Predicted :  vous etes fideles .\n",
            "  Correct   :  ['tu es fidele . <end>']\n",
            "------------END PREDICTION------------\n",
            "Epoch 17 training Loss 1.8976 Accuracy 0.3368  test Loss 10.7353 Accuracy 0.3583\n",
            "Epoch 18 training Loss 1.7930 Accuracy 0.3383  test Loss 10.7621 Accuracy 0.3586\n",
            "Epoch 19 training Loss 1.7041 Accuracy 0.3396  test Loss 10.8899 Accuracy 0.3581\n",
            "Epoch 20 training Loss 1.6422 Accuracy 0.3403  test Loss 11.0135 Accuracy 0.3581\n"
          ],
          "name": "stdout"
        }
      ]
    },
    {
      "cell_type": "code",
      "metadata": {
        "id": "BiD8-8tHRI92",
        "colab_type": "code",
        "colab": {}
      },
      "source": [
        "train_losses, test_losses = losses \n",
        "train_accuracyVec, test_accuracyVec = accuracy"
      ],
      "execution_count": 0,
      "outputs": []
    },
    {
      "cell_type": "code",
      "metadata": {
        "id": "QlhT--W5RKTp",
        "colab_type": "code",
        "colab": {
          "base_uri": "https://localhost:8080/",
          "height": 279
        },
        "outputId": "47fb6999-9e98-46ce-9349-10145bd393c4"
      },
      "source": [
        "import matplotlib.pyplot as plt\n",
        "fig = plt.figure()\n",
        "fig_plot = fig.add_subplot()\n",
        "fig_plot.plot(train_losses, label=\"train_loss\")\n",
        "fig_plot.plot(test_losses, label=\"test_loss\")\n",
        "fig_plot.legend(loc=\"upper right\")\n",
        "fig_plot.set_xlabel(\"epoch\")\n",
        "fig_plot.set_ylabel(\"loss\")\n",
        "fig_plot.grid(linestyle=\"--\")\n",
        "fig.savefig(\"losses_plot.png\")\n",
        "fig.show()"
      ],
      "execution_count": 12,
      "outputs": [
        {
          "output_type": "display_data",
          "data": {
            "image/png": "[encoded data removed]",
            "text/plain": [
              "<Figure size 432x288 with 1 Axes>"
            ]
          },
          "metadata": {
            "tags": []
          }
        }
      ]
    },
    {
      "cell_type": "code",
      "metadata": {
        "id": "Dl6Fh-poRMOH",
        "colab_type": "code",
        "colab": {
          "base_uri": "https://localhost:8080/",
          "height": 279
        },
        "outputId": "b8c25562-3c9c-4c60-d3b1-62cf3f653df4"
      },
      "source": [
        "fig = plt.figure()\n",
        "fig_plot = fig.add_subplot()\n",
        "fig_plot.plot(train_accuracyVec, label=\"train_accuracy\")\n",
        "fig_plot.plot(test_accuracyVec, label=\"test_accuracy\")\n",
        "fig_plot.legend(loc=\"lower right\")\n",
        "fig_plot.set_xlabel(\"epoch\")\n",
        "fig_plot.set_ylabel(\"accuracy\")\n",
        "fig_plot.grid(linestyle=\"--\")\n",
        "fig.savefig(\"accuracy_plot.png\")"
      ],
      "execution_count": 13,
      "outputs": [
        {
          "output_type": "display_data",
          "data": {
            "image/png": "[encoded data removed]",
            "text/plain": [
              "<Figure size 432x288 with 1 Axes>"
            ]
          },
          "metadata": {
            "tags": []
          }
        }
      ]
    }
  ]
}