{
 "cells": [
  {
   "cell_type": "code",
   "execution_count": null,
   "metadata": {},
   "outputs": [],
   "source": [
    "import argparse\n",
    "\n",
    "import sys\n",
    "\n",
    "import tensorflow as tf\n",
    "\n",
    "sys.path.insert(0, r\"../utilities\")\n",
    "sys.path.insert(0, r\"../preprocessing\")\n",
    "sys.path.insert(0, r\"../trainers\")\n",
    "\n",
    "from preprocessor import *\n",
    "from utils import loss_accuracy_plot\n",
    "\n",
    "from Seq2SeqTrainer import Seq2SeqTrainer\n",
    "\n",
    "encoder_tokenizer_name = \"en_tokenizer\"\n",
    "decoder_tokenizer_name = \"fr_tokenizer\"\n",
    "\n",
    "tf.get_logger().setLevel('WARNING')"
   ]
  },
  {
   "cell_type": "code",
   "execution_count": null,
   "metadata": {},
   "outputs": [],
   "source": [
    "data_dir = \"../data\"\n",
    "en_lines, fr_lines = read_data_files(data_dir, (\"small_vocab_en\", \"small_vocab_fr\"))\n",
    "\n",
    "train_data, test_data, prediction_data, tokenizers = preprocess_data(en_lines, fr_lines, [encoder_tokenizer_name, decoder_tokenizer_name])"
   ]
  },
  {
   "cell_type": "code",
   "execution_count": null,
   "metadata": {},
   "outputs": [],
   "source": [
    "LSTM_SIZE = 512\n",
    "EMBEDDING_SIZE = 250\n",
    "BATCH_SIZE= 64\n",
    "EPOCHS = 20"
   ]
  },
  {
   "cell_type": "code",
   "execution_count": null,
   "metadata": {},
   "outputs": [],
   "source": [
    "trainer = Seq2SeqTrainer(batch_size=BATCH_SIZE, \n",
    "                         lstm_size=LSTM_SIZE, \n",
    "                         embedding_size=EMBEDDING_SIZE, \n",
    "                         tokenizers=tokenizers, \n",
    "                         predict_every=2)"
   ]
  },
  {
   "cell_type": "code",
   "execution_count": null,
   "metadata": {
    "scrolled": false
   },
   "outputs": [],
   "source": [
    "losses, accuracy = trainer.train(train_data=train_data,\n",
    "                                test_data=test_data,\n",
    "                                prediction_data=prediction_data,\n",
    "                                epochs=EPOCHS)"
   ]
  },
  {
   "cell_type": "code",
   "execution_count": null,
   "metadata": {
    "scrolled": false
   },
   "outputs": [],
   "source": [
    "loss_accuracy_plot(losses, accuracy, \"Seq2Seq\")"
   ]
  }
 ],
 "metadata": {
  "kernelspec": {
   "display_name": "Python 3",
   "language": "python",
   "name": "python3"
  },
  "language_info": {
   "codemirror_mode": {
    "name": "ipython",
    "version": 3
   },
   "file_extension": ".py",
   "mimetype": "text/x-python",
   "name": "python",
   "nbconvert_exporter": "python",
   "pygments_lexer": "ipython3",
   "version": "3.6.8"
  }
 },
 "nbformat": 4,
 "nbformat_minor": 2
}
