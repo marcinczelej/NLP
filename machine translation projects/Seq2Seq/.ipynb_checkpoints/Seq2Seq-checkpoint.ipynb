{
 "cells": [
  {
   "cell_type": "code",
   "execution_count": 1,
   "metadata": {},
   "outputs": [],
   "source": [
    "LSTM_SIZE = 512\n",
    "EMBEDDING_SIZE = 250\n",
    "BATCH_SIZE= 64\n",
    "EPOCHS = 20"
   ]
  },
  {
   "cell_type": "code",
   "execution_count": 2,
   "metadata": {},
   "outputs": [],
   "source": [
    "import os\n",
    "import sys\n",
    "import numpy as np\n",
    "import tensorflow as tf\n",
    "\n",
    "from tensorflow.keras.preprocessing.text import Tokenizer\n",
    "from tensorflow.keras.preprocessing.sequence import pad_sequences\n",
    "\n",
    "from sklearn.model_selection import train_test_split\n",
    "\n",
    "sys.path.insert(0, r\"../utilities\")\n",
    "\n",
    "from utils import *\n",
    "from Seq2SeqTrainer import Seq2SeqTrainer"
   ]
  },
  {
   "cell_type": "code",
   "execution_count": 3,
   "metadata": {},
   "outputs": [
    {
     "name": "stdout",
     "output_type": "stream",
     "text": [
      "reading data from  ../data/small_vocab_en\n",
      "reading data from  ../data/small_vocab_fr\n",
      "en_vocab 203\n",
      "fr_vocab 336\n"
     ]
    }
   ],
   "source": [
    "    data_dir = \"../data\"\n",
    "    # reading data\n",
    "\n",
    "    en_lines, fr_lines = read_data_files(data_dir, (\"small_vocab_en\", \"small_vocab_fr\"))\n",
    "    \"\"\"\n",
    "    data = read_data(os.path.join(data_dir, \"fra-eng\"), \"fra.txt\")\n",
    "    en_lines, fr_lines = list(zip(*data))\n",
    "    \n",
    "    en_lines = en_lines[:30000]\n",
    "    fr_lines = fr_lines[:30000]\n",
    "    \"\"\"\n",
    "    en_lines = [normalize(line) for line in en_lines]\n",
    "    fr_lines = [normalize(line) for line in fr_lines]\n",
    "\n",
    "    en_train, en_test, fr_train, fr_test = train_test_split(en_lines, fr_lines, shuffle=True, test_size=0.1)\n",
    "\n",
    "    fr_train_in = ['<start> ' + line for line in fr_train]\n",
    "    fr_train_out = [line + ' <end>' for line in fr_train]\n",
    "\n",
    "    fr_test_in = ['<start> ' + line for line in fr_test]\n",
    "    fr_test_out = [line + ' <end>' for line in fr_test]\n",
    "\n",
    "    fr_tokenizer = Tokenizer(filters='')\n",
    "    en_tokenizer = Tokenizer(filters='')\n",
    "\n",
    "    input_data = [fr_train_in, fr_train_out, fr_test_in, fr_test_out, fr_test, fr_train]\n",
    "    fr_train_in, fr_train_out, fr_test_in, fr_test_out, fr_test, fr_train = tokenizeInput(input_data,\n",
    "                                                                                          fr_tokenizer)\n",
    "\n",
    "    input_data = [en_train, en_test]\n",
    "    en_train, en_test = tokenizeInput(input_data, en_tokenizer)\n",
    "\n",
    "    en_vocab_size = len(en_tokenizer.word_index)+1\n",
    "    fr_vocab_size = len(fr_tokenizer.word_index)+1\n",
    "    print(\"en_vocab {}\\nfr_vocab {}\" .format(en_vocab_size, fr_vocab_size))"
   ]
  },
  {
   "cell_type": "code",
   "execution_count": 4,
   "metadata": {},
   "outputs": [],
   "source": [
    "trainer = Seq2SeqTrainer(BATCH_SIZE, LSTM_SIZE, EMBEDDING_SIZE, 2)"
   ]
  },
  {
   "cell_type": "code",
   "execution_count": null,
   "metadata": {
    "scrolled": false
   },
   "outputs": [
    {
     "name": "stdout",
     "output_type": "stream",
     "text": [
      "en_vocab 203\n",
      "fr_vocab 336\n",
      "Number of devices: 4\n",
      "creating dataset...\n",
      "dataset created\n",
      "training from scratch\n",
      "starting training with 20 epochs with prediction each 2 epoch\n",
      "INFO:tensorflow:batch_all_reduce: 8 all-reduces with algorithm = nccl, num_packs = 1, agg_small_grads_max_bytes = 0 and agg_small_grads_max_group = 10\n",
      "WARNING:tensorflow:Efficient allreduce is not supported for 2 IndexedSlices\n",
      "INFO:tensorflow:Reduce to /job:localhost/replica:0/task:0/device:GPU:0 then broadcast to ('/job:localhost/replica:0/task:0/device:GPU:0', '/job:localhost/replica:0/task:0/device:GPU:1', '/job:localhost/replica:0/task:0/device:GPU:2', '/job:localhost/replica:0/task:0/device:GPU:3').\n",
      "INFO:tensorflow:Reduce to /job:localhost/replica:0/task:0/device:GPU:0 then broadcast to ('/job:localhost/replica:0/task:0/device:GPU:0', '/job:localhost/replica:0/task:0/device:GPU:1', '/job:localhost/replica:0/task:0/device:GPU:2', '/job:localhost/replica:0/task:0/device:GPU:3').\n",
      "INFO:tensorflow:Reduce to /job:localhost/replica:0/task:0/device:CPU:0 then broadcast to ('/job:localhost/replica:0/task:0/device:CPU:0',).\n",
      "INFO:tensorflow:batch_all_reduce: 8 all-reduces with algorithm = nccl, num_packs = 1, agg_small_grads_max_bytes = 0 and agg_small_grads_max_group = 10\n",
      "WARNING:tensorflow:Efficient allreduce is not supported for 2 IndexedSlices\n",
      "INFO:tensorflow:Reduce to /job:localhost/replica:0/task:0/device:GPU:0 then broadcast to ('/job:localhost/replica:0/task:0/device:GPU:0', '/job:localhost/replica:0/task:0/device:GPU:1', '/job:localhost/replica:0/task:0/device:GPU:2', '/job:localhost/replica:0/task:0/device:GPU:3').\n",
      "INFO:tensorflow:Reduce to /job:localhost/replica:0/task:0/device:GPU:0 then broadcast to ('/job:localhost/replica:0/task:0/device:GPU:0', '/job:localhost/replica:0/task:0/device:GPU:1', '/job:localhost/replica:0/task:0/device:GPU:2', '/job:localhost/replica:0/task:0/device:GPU:3').\n",
      "INFO:tensorflow:Reduce to /job:localhost/replica:0/task:0/device:CPU:0 then broadcast to ('/job:localhost/replica:0/task:0/device:CPU:0',).\n",
      "INFO:tensorflow:Reduce to /job:localhost/replica:0/task:0/device:CPU:0 then broadcast to ('/job:localhost/replica:0/task:0/device:CPU:0',).\n",
      "Epoch 1 training Loss 19.3414 Accuracy 0.3937  test Loss 9.6974 Accuracy 0.5246\n",
      "Saving checkpoint for epoch 0: ./checkpoints/train/ckpt-1\n",
      "--------------PREDICTION--------------\n",
      "  English   :  ['new jersey is nice during may and it is usually wonderful in january .']\n",
      "  Predicted :  new jersey est agreable en avril et il est jamais chaud en mars .\n",
      "  Correct   :  ['new jersey est agreable au mois de mai et il est generalement merveilleux en janvier . <end>']\n",
      "------------END PREDICTION------------\n",
      "Epoch 2 training Loss 5.5896 Accuracy 0.5484  test Loss 1.9480 Accuracy 0.6644\n",
      "Epoch 3 training Loss 1.2373 Accuracy 0.6141  test Loss 0.7367 Accuracy 0.6775\n",
      "--------------PREDICTION--------------\n",
      "  English   :  ['france is never relaxing during february but it is usually wet in fall .']\n",
      "  Predicted :  la france est jamais relaxant en fevrier mais il est generalement humide a l automne .\n",
      "  Correct   :  ['la france est jamais relaxant en fevrier mais il est generalement humide a l automne . <end>']\n",
      "------------END PREDICTION------------\n",
      "Epoch 4 training Loss 0.6491 Accuracy 0.6206  test Loss 0.4906 Accuracy 0.6805\n",
      "Epoch 5 training Loss 0.4515 Accuracy 0.6231  test Loss 0.3777 Accuracy 0.6825\n",
      "--------------PREDICTION--------------\n",
      "  English   :  ['his favorite fruit is the grapefruit but our favorite is the lime .']\n",
      "  Predicted :  son fruit prefere est le pamplemousse mais notre prefere est la chaux .\n",
      "  Correct   :  ['son fruit prefere est le pamplemousse mais notre prefere est la chaux . <end>']\n",
      "------------END PREDICTION------------\n",
      "Epoch 6 training Loss 0.3452 Accuracy 0.6244  test Loss 0.3202 Accuracy 0.6829\n",
      "Saving checkpoint for epoch 5: ./checkpoints/train/ckpt-2\n",
      "Epoch 7 training Loss 0.2948 Accuracy 0.6249  test Loss 0.2622 Accuracy 0.6838\n",
      "--------------PREDICTION--------------\n",
      "  English   :  ['china is usually busy during january and it is rainy in summer .']\n",
      "  Predicted :  chine est generalement occupe en janvier et il pleut en ete .\n",
      "  Correct   :  ['chine est generalement occupe en janvier et il est pluvieux en ete . <end>']\n",
      "------------END PREDICTION------------\n",
      "Epoch 8 training Loss 0.2380 Accuracy 0.6257  test Loss 0.2317 Accuracy 0.6841\n",
      "Epoch 9 training Loss 0.2052 Accuracy 0.6260  test Loss 0.2230 Accuracy 0.6842\n",
      "--------------PREDICTION--------------\n",
      "  English   :  ['the pear is their least favorite fruit but the grape is her least favorite .']\n",
      "  Predicted :  la poire est leur fruit prefere moins mais le raisin est son moins prefere .\n",
      "  Correct   :  ['la poire est leur fruit prefere moins mais le raisin est son moins prefere . <end>']\n",
      "------------END PREDICTION------------\n"
     ]
    }
   ],
   "source": [
    "losses, accuracy= trainer.train([en_train, fr_train_in, fr_train_out], [en_test, fr_test_in, fr_test_out], [en_tokenizer, fr_tokenizer], 20, restore_checkpoint=False)"
   ]
  },
  {
   "cell_type": "code",
   "execution_count": null,
   "metadata": {},
   "outputs": [],
   "source": [
    "losses, accuracy= trainer.train([en_train, fr_train_in, fr_train_out], [en_test, fr_test_in, fr_test_out], [en_tokenizer, fr_tokenizer], 20, restore_checkpoint=True)"
   ]
  }
 ],
 "metadata": {
  "kernelspec": {
   "display_name": "Python 3",
   "language": "python",
   "name": "python3"
  },
  "language_info": {
   "codemirror_mode": {
    "name": "ipython",
    "version": 3
   },
   "file_extension": ".py",
   "mimetype": "text/x-python",
   "name": "python",
   "nbconvert_exporter": "python",
   "pygments_lexer": "ipython3",
   "version": "3.6.8"
  }
 },
 "nbformat": 4,
 "nbformat_minor": 2
}
