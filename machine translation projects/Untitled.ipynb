{
 "cells": [
  {
   "cell_type": "code",
   "execution_count": 5,
   "metadata": {},
   "outputs": [],
   "source": [
    "import os\n",
    "import sys\n",
    "import numpy as np\n",
    "import tensorflow as tf\n",
    "\n",
    "from sklearn.model_selection import train_test_split\n",
    "from tensorflow.keras.preprocessing.text import Tokenizer\n",
    "from tensorflow.keras.preprocessing.sequence import pad_sequences\n",
    "\n",
    "sys.path.insert(0, r\"./utilities\")\n",
    "sys.path.insert(0, r\"./Seq2Seq\")\n",
    "sys.path.insert(0, r\"./Seq2SeqAttention/\")\n",
    "sys.path.insert(0, r\"./Transformer/\")\n",
    "sys.path.insert(0, r\"./data/\")\n",
    "\n",
    "from utils import *\n",
    "from Seq2Seq.model import Encoder as Seq2SeqEncoder\n",
    "from Seq2Seq.model import Decoder as Seq2SeqDecoder\n",
    "from Seq2SeqTrainer import Seq2SeqTrainer\n",
    "\n",
    "from Seq2SeqAttention.model import Encoder as Seq2SeqAttEncoder\n",
    "from Seq2SeqAttention.model import Decoder as Seq2SeqAttDecoder\n",
    "from Seq2SeqTrainer import Seq2SeqTrainer\n",
    "\n",
    "from Transformer import model as TransformerModel\n",
    "from Transformer import TransformerTrainer"
   ]
  },
  {
   "cell_type": "code",
   "execution_count": null,
   "metadata": {},
   "outputs": [],
   "source": []
  }
 ],
 "metadata": {
  "kernelspec": {
   "display_name": "Python 3",
   "language": "python",
   "name": "python3"
  },
  "language_info": {
   "codemirror_mode": {
    "name": "ipython",
    "version": 3
   },
   "file_extension": ".py",
   "mimetype": "text/x-python",
   "name": "python",
   "nbconvert_exporter": "python",
   "pygments_lexer": "ipython3",
   "version": "3.6.8"
  }
 },
 "nbformat": 4,
 "nbformat_minor": 2
}
